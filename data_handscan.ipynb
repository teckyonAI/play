{
 "cells": [
  {
   "cell_type": "markdown",
   "id": "54c369f1-f694-410c-b189-e46bd0c21042",
   "metadata": {},
   "source": [
    "## I. Setup Software and Some Libraries\n",
    "\n",
    "We first need to set the working environment and the path to the dataset."
   ]
  },
  {
   "cell_type": "code",
   "execution_count": 739,
   "id": "9f2ac447",
   "metadata": {},
   "outputs": [],
   "source": [
    "import sys\n",
    "\n",
    "SOFTWARE_DIR = '/app/data/spine/' # Change this path to your software install\n",
    "DATA_DIR = '/app/data/' # Change this path if you are not on SDF (see main README)\n",
    "\n",
    "# Set software directory\n",
    "sys.path.append(SOFTWARE_DIR)\n",
    "\n",
    "import numpy as np\n",
    "import math\n",
    "import pandas as pd\n",
    "from collections import OrderedDict\n",
    "\n",
    "from scipy.spatial.distance import cdist"
   ]
  },
  {
   "cell_type": "markdown",
   "id": "de2fe09c-804f-48db-ac5e-4a5d131f6c27",
   "metadata": {},
   "source": [
    "Now pass the analysis configuration."
   ]
  },
  {
   "cell_type": "code",
   "execution_count": 740,
   "id": "c63f7cd1",
   "metadata": {},
   "outputs": [
    {
     "name": "stdout",
     "output_type": "stream",
     "text": [
      "\n",
      " ██████████   ██████████    ███   ███       ██   ███████████\n",
      "███        █  ██       ███   █    █████     ██   ██         \n",
      "  ████████    ██       ███  ███   ██  ████  ██   ██████████ \n",
      "█        ███  ██████████     █    ██     █████   ██         \n",
      " ██████████   ██            ███   ██       ███   ███████████\n",
      "\n",
      "Release version: 0.2.2\n",
      "\n",
      "$CUDA_VISIBLE_DEVICES=\n",
      "\n",
      "Configuration processed at: Linux c033da5ae0da 5.15.167.4-microsoft-standard-WSL2 #1 SMP Tue Nov 5 00:21:55 UTC 2024 x86_64 x86_64 x86_64 GNU/Linux\n",
      "\n",
      "base: {iterations: 10, seed: 1737428287}\n",
      "io:\n",
      "  reader: {name: hdf5, file_keys: packet-0050017-2024_07_09_01_54_45_CDT.SPINE.h5,\n",
      "    create_run_map: true, skip_unknown_attrs: true}\n",
      "build: {mode: reco, fragments: false, particles: true, interactions: true}\n",
      "\n",
      "Will load 1 file(s):\n",
      "  - packet-0050017-2024_07_09_01_54_45_CDT.SPINE.h5\n",
      "\n",
      "Total number of entries in the file(s): 456\n",
      "\n",
      "Total number of entries selected: 456\n",
      "\n"
     ]
    }
   ],
   "source": [
    "import yaml\n",
    "from spine.driver import Driver\n",
    "\n",
    "# file_name = 'latest_packet-0050017-2024_07_09_00_04_33_CDT.LARCV_spine.h5' # latest spine reprocessing\n",
    "\n",
    "# file_name = 'packet-0050017-2024_07_09_00_04_33_CDT.SPINE.h5' # old spine processing\n",
    "# file_name = 'packet-0050017-2024_07_09_00_14_34_CDT.SPINE.h5' # old spine processing\n",
    "# file_name = 'packet-0050017-2024_07_09_00_24_35_CDT.SPINE.h5' # old spine processing\n",
    "# file_name = 'packet-0050017-2024_07_09_00_34_36_CDT.SPINE.h5' # old spine processing\n",
    "# file_name = 'packet-0050017-2024_07_09_00_44_37_CDT.SPINE.h5' # old spine processing\n",
    "# file_name = 'packet-0050017-2024_07_09_00_54_38_CDT.SPINE.h5' # old spine processing\n",
    "# file_name = 'packet-0050017-2024_07_09_01_04_39_CDT.SPINE.h5' # old spine processing\n",
    "# file_name = 'packet-0050017-2024_07_09_01_14_40_CDT.SPINE.h5' # old spine processing\n",
    "# file_name = 'packet-0050017-2024_07_09_01_24_41_CDT.SPINE.h5' # old spine processing\n",
    "# file_name = 'packet-0050017-2024_07_09_01_34_42_CDT.SPINE.h5' # old spine processing\n",
    "# file_name = 'packet-0050017-2024_07_09_01_44_44_CDT.SPINE.h5' # old spine processing\n",
    "file_name = 'packet-0050017-2024_07_09_01_54_45_CDT.SPINE.h5' # old spine processing\n",
    "\n",
    "\n",
    "DATA_PATH = DATA_DIR + file_name\n",
    "\n",
    "cfg = '''\n",
    "base:\n",
    "  iterations: 10\n",
    "io:\n",
    "  reader:\n",
    "    name: hdf5 # Type of input reader\n",
    "    file_keys: DATA_PATH # Path to the data file\n",
    "    create_run_map: true # Creates a map between run/event pairs and entry\n",
    "    skip_unknown_attrs: true # Allows to load files made with an older SPINE\n",
    "build:\n",
    "  mode: reco # Build only reconstructed objects (no truth information)\n",
    "  fragments: false # Do not build fragment objects (not stored by default)\n",
    "  particles: true # Build `RecoParticle`/`TruthParticle` objects\n",
    "  interactions: true # Build `RecoInteraction`/`TruthInteraction` objects\n",
    "\n",
    "'''.replace('DATA_PATH', file_name)\n",
    "\n",
    "cfg = yaml.safe_load(cfg)\n",
    "driver = Driver(cfg)\n"
   ]
  },
  {
   "cell_type": "markdown",
   "id": "2de0766e-4505-4921-babf-bccf9a62ac9f",
   "metadata": {},
   "source": [
    "Map ND-LAr events to their corresponding `entry` numbers in SPINE files using the `run_info` field."
   ]
  },
  {
   "cell_type": "code",
   "execution_count": 741,
   "id": "c6a003b0",
   "metadata": {},
   "outputs": [
    {
     "name": "stdout",
     "output_type": "stream",
     "text": [
      "Number of entries in the loader: 456\n",
      "Found target event 171 at entry 171\n"
     ]
    }
   ],
   "source": [
    "print('Number of entries in the loader:', len(driver))\n",
    "\n",
    "import h5py\n",
    "\n",
    "# Target Event (Update this as needed)\n",
    "target_event = 171 # Example: Target Event Number\n",
    "\n",
    "# Initialize entry as None\n",
    "ENTRY = None\n",
    "\n",
    "# Locate Entry Corresponding to Target Event\n",
    "with h5py.File(DATA_PATH, 'r') as f:\n",
    "    run_info = f['run_info']\n",
    "    for idx, (run, subrun, event) in enumerate(run_info):\n",
    "        if event == target_event:\n",
    "            ENTRY = idx\n",
    "            print(f\"Found target event {target_event} at entry {idx}\")\n",
    "            break\n",
    "\n",
    "if ENTRY is None:\n",
    "    print(f\"Target event {target_event} not found.\")"
   ]
  },
  {
   "cell_type": "markdown",
   "id": "5d097249-75f3-45e7-8dab-3ddfb5965c25",
   "metadata": {},
   "source": [
    "Now initialize the driver with this configuration."
   ]
  },
  {
   "cell_type": "code",
   "execution_count": 742,
   "id": "6ff40725",
   "metadata": {},
   "outputs": [
    {
     "name": "stdout",
     "output_type": "stream",
     "text": [
      "Processing data for entry: 171\n"
     ]
    }
   ],
   "source": [
    "if ENTRY is not None:\n",
    "    data = driver.process(entry=ENTRY)\n",
    "    print(f\"Processing data for entry: {ENTRY}\")\n",
    "else:\n",
    "    print(\"No valid entry found. Ensure Cell 1 has run successfully.\")"
   ]
  },
  {
   "cell_type": "markdown",
   "id": "f67ee34f-6dd5-4f5b-a43f-8d884dd7afe4",
   "metadata": {},
   "source": [
    "Retrieves and analyzes the `reco_particles` and `reco_interactions` data structures. It provides a count of each structure and collects the unique **Reco Interaction IDs** from the `reco_particles` dataset."
   ]
  },
  {
   "cell_type": "code",
   "execution_count": 743,
   "id": "2d498df9",
   "metadata": {},
   "outputs": [
    {
     "name": "stdout",
     "output_type": "stream",
     "text": [
      "Reco Particles: 11\n",
      "Reco Interactions: 4\n",
      "Reco Interaction IDs: {0, 1, 2, 3}\n",
      "\n",
      "Number of particles associated with each interaction ID:\n",
      "Interaction ID 0: 3 particles\n",
      "Interaction ID 1: 1 particles\n",
      "Interaction ID 2: 3 particles\n",
      "Interaction ID 3: 4 particles\n"
     ]
    }
   ],
   "source": [
    "# Retrieving data structures\n",
    "reco_particles = data['reco_particles']\n",
    "reco_interactions = data['reco_interactions']\n",
    "\n",
    "# Print counts of different data structures\n",
    "print(f\"Reco Particles: {len(reco_particles)}\")\n",
    "print(f\"Reco Interactions: {len(reco_interactions)}\")\n",
    "\n",
    "# Collect Reco and Truth Interaction IDs\n",
    "reco_interaction_ids = set(particle.interaction_id for particle in reco_particles)\n",
    "\n",
    "print(f\"Reco Interaction IDs: {reco_interaction_ids}\")  # Sorted for better readability\n",
    "\n",
    "# Count the number of particles associated with each interaction ID\n",
    "interaction_particle_counts = {}\n",
    "for particle in reco_particles:\n",
    "    interaction_id = particle.interaction_id\n",
    "    if interaction_id not in interaction_particle_counts:\n",
    "        interaction_particle_counts[interaction_id] = 0\n",
    "    interaction_particle_counts[interaction_id] += 1\n",
    "\n",
    "# Print the number of particles for each interaction ID\n",
    "print(\"\\nNumber of particles associated with each interaction ID:\")\n",
    "for interaction_id, count in interaction_particle_counts.items():\n",
    "    print(f\"Interaction ID {interaction_id}: {count} particles\")"
   ]
  },
  {
   "cell_type": "markdown",
   "id": "957d5b93-ad58-47aa-ba4e-7189fcb49627",
   "metadata": {},
   "source": [
    "## II. All Reconstructed Particles for Target Interaction ID\n",
    "\n",
    "The script locates the target reconstructed interaction ID (`target_reco_interaction_id`) in the dataset, retrieves its entry, and filters all **reconstructed particles** that belong to the specified interaction ID.\n",
    "\n",
    "It prints details of reconstructed particles and their interaction IDs, along with the total count of filtered particles."
   ]
  },
  {
   "cell_type": "code",
   "execution_count": 744,
   "id": "a39fedf7-d467-406a-aae8-0ec352321fa5",
   "metadata": {},
   "outputs": [
    {
     "name": "stdout",
     "output_type": "stream",
     "text": [
      "Found target event 171 at entry 171\n",
      "Total Reconstructed Particles for Event 171: 11\n",
      "\n",
      "reco_particles[6]: RecoParticle(ID: 6   | PID: Electron | Primary: 0  | Size: 10    | Match: -1 ) | Reco Interaction ID: 3\n",
      "\n",
      "reco_particles[8]: RecoParticle(ID: 8   | PID: Muon     | Primary: 1  | Size: 143   | Match: -1 ) | Reco Interaction ID: 3\n",
      "\n",
      "reco_particles[9]: RecoParticle(ID: 9   | PID: Proton   | Primary: 0  | Size: 80    | Match: -1 ) | Reco Interaction ID: 3\n",
      "\n",
      "reco_particles[10]: RecoParticle(ID: 10  | PID: Kaon     | Primary: 1  | Size: 80    | Match: -1 ) | Reco Interaction ID: 3\n",
      "\n",
      "Total Reconstructed Particles for Interaction ID 3: 4\n"
     ]
    }
   ],
   "source": [
    "import h5py\n",
    "\n",
    "# Define the target reconstructed interaction ID\n",
    "target_reco_interaction_id = 3 # Example: Target Interaction ID\n",
    "\n",
    "# Locate the entry corresponding to the target event\n",
    "with h5py.File(DATA_PATH, 'r') as f:\n",
    "    run_info = f['run_info']\n",
    "    target_entry = None\n",
    "    \n",
    "    for idx, (run, subrun, event) in enumerate(run_info):\n",
    "        if event == target_event:\n",
    "            target_entry = idx\n",
    "            print(f\"Found target event {target_event} at entry {idx}\")\n",
    "            break\n",
    "    else:\n",
    "        print(f\"Event {target_event} not found in run_info.\")\n",
    "        target_entry = None\n",
    "\n",
    "# Process the entry if found\n",
    "if target_entry is not None:\n",
    "    data = driver.process(entry=target_entry)\n",
    "    reco_particles = data['reco_particles']\n",
    "    print(f\"Total Reconstructed Particles for Event {target_event}: {len(reco_particles)}\\n\")\n",
    "    \n",
    "    # Filter particles belonging to the target interaction ID\n",
    "    all_reco_particles = []\n",
    "    for i, particle in enumerate(reco_particles):\n",
    "        interaction_id = particle.interaction_id  # Get the interaction ID\n",
    "        \n",
    "        # Apply target interaction ID filter\n",
    "        if interaction_id == target_reco_interaction_id:\n",
    "            all_reco_particles.append(particle)\n",
    "            print(f\"reco_particles[{i}]: {particle} | Reco Interaction ID: {interaction_id}\\n\")\n",
    "    \n",
    "    print(f\"Total Reconstructed Particles for Interaction ID {target_reco_interaction_id}: {len(all_reco_particles)}\")"
   ]
  },
  {
   "cell_type": "code",
   "execution_count": 745,
   "id": "12cf066d-dbdd-48e8-b37e-252a1b8111a2",
   "metadata": {},
   "outputs": [
    {
     "name": "stdout",
     "output_type": "stream",
     "text": [
      "\n",
      ">>> All Particles <<<\n",
      "Filtered Particle Plot saved as HTML: images/sandbox_01_54_45_entry_171_event_171_int_3_particles_all.html\n",
      "Filtered Particle Plot saved as PNG: images/sandbox_01_54_45_entry_171_event_171_int_3_particles_all.png\n"
     ]
    },
    {
     "data": {
      "application/vnd.plotly.v1+json": {
       "config": {
        "plotlyServerURL": "https://plot.ly"
       },
       "data": [
        {
         "hovertemplate": "x: %{x}<br>y: %{y}<br>z: %{z}<br>%{text}",
         "marker": {
          "cmax": 6,
          "cmin": -1,
          "color": [
           1,
           1,
           1,
           1,
           1,
           1,
           1,
           1,
           1,
           1
          ],
          "colorscale": [
           [
            0,
            "#808080"
           ],
           [
            0.14285714285714285,
            "#636EFA"
           ],
           [
            0.2857142857142857,
            "#EF553B"
           ],
           [
            0.42857142857142855,
            "#00CC96"
           ],
           [
            0.5714285714285714,
            "#AB63FA"
           ],
           [
            0.7142857142857143,
            "#FFA15A"
           ],
           [
            0.8571428571428571,
            "#19D3F3"
           ],
           [
            1,
            "#FF6692"
           ]
          ],
          "size": 2
         },
         "mode": "markers",
         "name": "Reco particle 0",
         "showlegend": true,
         "text": [
          "Particle 0<br>Pid: 1",
          "Particle 0<br>Pid: 1",
          "Particle 0<br>Pid: 1",
          "Particle 0<br>Pid: 1",
          "Particle 0<br>Pid: 1",
          "Particle 0<br>Pid: 1",
          "Particle 0<br>Pid: 1",
          "Particle 0<br>Pid: 1",
          "Particle 0<br>Pid: 1",
          "Particle 0<br>Pid: 1"
         ],
         "type": "scatter3d",
         "x": [
          49.43910217285156,
          49.88249969482422,
          50.325897216796875,
          49.88249969482422,
          50.325897216796875,
          49.88249969482422,
          50.325897216796875,
          50.76929473876953,
          50.325897216796875,
          50.325897216796875
         ],
         "y": [
          -48.10890197753906,
          -48.10890197753906,
          -48.10890197753906,
          -47.665504455566406,
          -47.665504455566406,
          -47.665504455566406,
          -47.665504455566406,
          -47.665504455566406,
          -47.22209930419922,
          -47.22209930419922
         ],
         "z": [
          54.316497802734375,
          54.316497802734375,
          54.316497802734375,
          54.316497802734375,
          54.316497802734375,
          54.75989532470703,
          54.75989532470703,
          54.75989532470703,
          54.75989532470703,
          55.20330047607422
         ]
        },
        {
         "hovertemplate": "x: %{x}<br>y: %{y}<br>z: %{z}<br>%{text}",
         "marker": {
          "cmax": 6,
          "cmin": -1,
          "color": [
           2,
           2,
           2,
           2,
           2,
           2,
           2,
           2,
           2,
           2,
           2,
           2,
           2,
           2,
           2,
           2,
           2,
           2,
           2,
           2,
           2,
           2,
           2,
           2,
           2,
           2,
           2,
           2,
           2,
           2,
           2,
           2,
           2,
           2,
           2,
           2,
           2,
           2,
           2,
           2,
           2,
           2,
           2,
           2,
           2,
           2,
           2,
           2,
           2,
           2,
           2,
           2,
           2,
           2,
           2,
           2,
           2,
           2,
           2,
           2,
           2,
           2,
           2,
           2,
           2,
           2,
           2,
           2,
           2,
           2,
           2,
           2,
           2,
           2,
           2,
           2,
           2,
           2,
           2,
           2,
           2,
           2,
           2,
           2,
           2,
           2,
           2,
           2,
           2,
           2,
           2,
           2,
           2,
           2,
           2,
           2,
           2,
           2,
           2,
           2,
           2,
           2,
           2,
           2,
           2,
           2,
           2,
           2,
           2,
           2,
           2,
           2,
           2,
           2,
           2,
           2,
           2,
           2,
           2,
           2,
           2,
           2,
           2,
           2,
           2,
           2,
           2,
           2,
           2,
           2,
           2,
           2,
           2,
           2,
           2,
           2,
           2,
           2,
           2,
           2,
           2,
           2,
           2
          ],
          "colorscale": [
           [
            0,
            "#808080"
           ],
           [
            0.14285714285714285,
            "#636EFA"
           ],
           [
            0.2857142857142857,
            "#EF553B"
           ],
           [
            0.42857142857142855,
            "#00CC96"
           ],
           [
            0.5714285714285714,
            "#AB63FA"
           ],
           [
            0.7142857142857143,
            "#FFA15A"
           ],
           [
            0.8571428571428571,
            "#19D3F3"
           ],
           [
            1,
            "#FF6692"
           ]
          ],
          "size": 2
         },
         "mode": "markers",
         "name": "Reco particle 1",
         "showlegend": true,
         "text": [
          "Particle 1<br>Pid: 2",
          "Particle 1<br>Pid: 2",
          "Particle 1<br>Pid: 2",
          "Particle 1<br>Pid: 2",
          "Particle 1<br>Pid: 2",
          "Particle 1<br>Pid: 2",
          "Particle 1<br>Pid: 2",
          "Particle 1<br>Pid: 2",
          "Particle 1<br>Pid: 2",
          "Particle 1<br>Pid: 2",
          "Particle 1<br>Pid: 2",
          "Particle 1<br>Pid: 2",
          "Particle 1<br>Pid: 2",
          "Particle 1<br>Pid: 2",
          "Particle 1<br>Pid: 2",
          "Particle 1<br>Pid: 2",
          "Particle 1<br>Pid: 2",
          "Particle 1<br>Pid: 2",
          "Particle 1<br>Pid: 2",
          "Particle 1<br>Pid: 2",
          "Particle 1<br>Pid: 2",
          "Particle 1<br>Pid: 2",
          "Particle 1<br>Pid: 2",
          "Particle 1<br>Pid: 2",
          "Particle 1<br>Pid: 2",
          "Particle 1<br>Pid: 2",
          "Particle 1<br>Pid: 2",
          "Particle 1<br>Pid: 2",
          "Particle 1<br>Pid: 2",
          "Particle 1<br>Pid: 2",
          "Particle 1<br>Pid: 2",
          "Particle 1<br>Pid: 2",
          "Particle 1<br>Pid: 2",
          "Particle 1<br>Pid: 2",
          "Particle 1<br>Pid: 2",
          "Particle 1<br>Pid: 2",
          "Particle 1<br>Pid: 2",
          "Particle 1<br>Pid: 2",
          "Particle 1<br>Pid: 2",
          "Particle 1<br>Pid: 2",
          "Particle 1<br>Pid: 2",
          "Particle 1<br>Pid: 2",
          "Particle 1<br>Pid: 2",
          "Particle 1<br>Pid: 2",
          "Particle 1<br>Pid: 2",
          "Particle 1<br>Pid: 2",
          "Particle 1<br>Pid: 2",
          "Particle 1<br>Pid: 2",
          "Particle 1<br>Pid: 2",
          "Particle 1<br>Pid: 2",
          "Particle 1<br>Pid: 2",
          "Particle 1<br>Pid: 2",
          "Particle 1<br>Pid: 2",
          "Particle 1<br>Pid: 2",
          "Particle 1<br>Pid: 2",
          "Particle 1<br>Pid: 2",
          "Particle 1<br>Pid: 2",
          "Particle 1<br>Pid: 2",
          "Particle 1<br>Pid: 2",
          "Particle 1<br>Pid: 2",
          "Particle 1<br>Pid: 2",
          "Particle 1<br>Pid: 2",
          "Particle 1<br>Pid: 2",
          "Particle 1<br>Pid: 2",
          "Particle 1<br>Pid: 2",
          "Particle 1<br>Pid: 2",
          "Particle 1<br>Pid: 2",
          "Particle 1<br>Pid: 2",
          "Particle 1<br>Pid: 2",
          "Particle 1<br>Pid: 2",
          "Particle 1<br>Pid: 2",
          "Particle 1<br>Pid: 2",
          "Particle 1<br>Pid: 2",
          "Particle 1<br>Pid: 2",
          "Particle 1<br>Pid: 2",
          "Particle 1<br>Pid: 2",
          "Particle 1<br>Pid: 2",
          "Particle 1<br>Pid: 2",
          "Particle 1<br>Pid: 2",
          "Particle 1<br>Pid: 2",
          "Particle 1<br>Pid: 2",
          "Particle 1<br>Pid: 2",
          "Particle 1<br>Pid: 2",
          "Particle 1<br>Pid: 2",
          "Particle 1<br>Pid: 2",
          "Particle 1<br>Pid: 2",
          "Particle 1<br>Pid: 2",
          "Particle 1<br>Pid: 2",
          "Particle 1<br>Pid: 2",
          "Particle 1<br>Pid: 2",
          "Particle 1<br>Pid: 2",
          "Particle 1<br>Pid: 2",
          "Particle 1<br>Pid: 2",
          "Particle 1<br>Pid: 2",
          "Particle 1<br>Pid: 2",
          "Particle 1<br>Pid: 2",
          "Particle 1<br>Pid: 2",
          "Particle 1<br>Pid: 2",
          "Particle 1<br>Pid: 2",
          "Particle 1<br>Pid: 2",
          "Particle 1<br>Pid: 2",
          "Particle 1<br>Pid: 2",
          "Particle 1<br>Pid: 2",
          "Particle 1<br>Pid: 2",
          "Particle 1<br>Pid: 2",
          "Particle 1<br>Pid: 2",
          "Particle 1<br>Pid: 2",
          "Particle 1<br>Pid: 2",
          "Particle 1<br>Pid: 2",
          "Particle 1<br>Pid: 2",
          "Particle 1<br>Pid: 2",
          "Particle 1<br>Pid: 2",
          "Particle 1<br>Pid: 2",
          "Particle 1<br>Pid: 2",
          "Particle 1<br>Pid: 2",
          "Particle 1<br>Pid: 2",
          "Particle 1<br>Pid: 2",
          "Particle 1<br>Pid: 2",
          "Particle 1<br>Pid: 2",
          "Particle 1<br>Pid: 2",
          "Particle 1<br>Pid: 2",
          "Particle 1<br>Pid: 2",
          "Particle 1<br>Pid: 2",
          "Particle 1<br>Pid: 2",
          "Particle 1<br>Pid: 2",
          "Particle 1<br>Pid: 2",
          "Particle 1<br>Pid: 2",
          "Particle 1<br>Pid: 2",
          "Particle 1<br>Pid: 2",
          "Particle 1<br>Pid: 2",
          "Particle 1<br>Pid: 2",
          "Particle 1<br>Pid: 2",
          "Particle 1<br>Pid: 2",
          "Particle 1<br>Pid: 2",
          "Particle 1<br>Pid: 2",
          "Particle 1<br>Pid: 2",
          "Particle 1<br>Pid: 2",
          "Particle 1<br>Pid: 2",
          "Particle 1<br>Pid: 2",
          "Particle 1<br>Pid: 2",
          "Particle 1<br>Pid: 2",
          "Particle 1<br>Pid: 2",
          "Particle 1<br>Pid: 2"
         ],
         "type": "scatter3d",
         "x": [
          25.052101135253906,
          24.60869598388672,
          24.60869598388672,
          24.60869598388672,
          24.165298461914062,
          25.052101135253906,
          24.60869598388672,
          25.052101135253906,
          24.60869598388672,
          25.052101135253906,
          25.495498657226562,
          24.60869598388672,
          24.60869598388672,
          24.60869598388672,
          24.165298461914062,
          24.165298461914062,
          25.052101135253906,
          24.165298461914062,
          24.165298461914062,
          24.60869598388672,
          25.052101135253906,
          24.165298461914062,
          23.721900939941406,
          24.165298461914062,
          24.60869598388672,
          24.165298461914062,
          24.60869598388672,
          23.27849578857422,
          24.165298461914062,
          24.60869598388672,
          25.052101135253906,
          23.721900939941406,
          23.721900939941406,
          24.60869598388672,
          25.052101135253906,
          23.27849578857422,
          23.27849578857422,
          23.721900939941406,
          25.052101135253906,
          23.27849578857422,
          23.721900939941406,
          24.165298461914062,
          24.60869598388672,
          23.721900939941406,
          24.165298461914062,
          25.052101135253906,
          23.721900939941406,
          24.165298461914062,
          24.60869598388672,
          24.165298461914062,
          23.721900939941406,
          24.165298461914062,
          24.60869598388672,
          24.165298461914062,
          24.165298461914062,
          24.165298461914062,
          23.721900939941406,
          24.60869598388672,
          24.165298461914062,
          24.165298461914062,
          24.60869598388672,
          24.165298461914062,
          24.165298461914062,
          24.165298461914062,
          24.60869598388672,
          23.721900939941406,
          24.165298461914062,
          24.165298461914062,
          24.165298461914062,
          24.165298461914062,
          24.165298461914062,
          24.165298461914062,
          23.721900939941406,
          23.721900939941406,
          23.721900939941406,
          24.165298461914062,
          24.60869598388672,
          23.721900939941406,
          24.165298461914062,
          24.165298461914062,
          23.721900939941406,
          24.165298461914062,
          23.721900939941406,
          24.165298461914062,
          23.721900939941406,
          24.165298461914062,
          23.721900939941406,
          24.165298461914062,
          23.721900939941406,
          23.721900939941406,
          23.721900939941406,
          23.721900939941406,
          23.721900939941406,
          23.721900939941406,
          23.27849578857422,
          23.721900939941406,
          23.721900939941406,
          23.27849578857422,
          23.27849578857422,
          23.721900939941406,
          23.27849578857422,
          23.721900939941406,
          23.721900939941406,
          23.721900939941406,
          23.721900939941406,
          23.27849578857422,
          23.721900939941406,
          23.27849578857422,
          23.27849578857422,
          23.27849578857422,
          23.27849578857422,
          23.27849578857422,
          23.27849578857422,
          23.27849578857422,
          23.721900939941406,
          23.27849578857422,
          23.721900939941406,
          22.835098266601562,
          23.27849578857422,
          23.27849578857422,
          22.835098266601562,
          23.721900939941406,
          23.27849578857422,
          22.835098266601562,
          23.27849578857422,
          22.835098266601562,
          23.27849578857422,
          23.27849578857422,
          23.27849578857422,
          23.721900939941406,
          23.27849578857422,
          23.27849578857422,
          23.27849578857422,
          23.27849578857422,
          23.27849578857422,
          23.27849578857422,
          23.27849578857422,
          22.835098266601562,
          23.27849578857422,
          22.835098266601562,
          23.27849578857422,
          23.27849578857422,
          24.165298461914062
         ],
         "y": [
          33.033294677734375,
          33.033294677734375,
          33.033294677734375,
          33.033294677734375,
          33.033294677734375,
          33.033294677734375,
          33.47669982910156,
          33.47669982910156,
          33.47669982910156,
          33.47669982910156,
          33.47669982910156,
          33.92009735107422,
          33.47669982910156,
          33.92009735107422,
          33.47669982910156,
          33.92009735107422,
          33.92009735107422,
          33.47669982910156,
          33.92009735107422,
          33.92009735107422,
          33.92009735107422,
          34.363494873046875,
          33.47669982910156,
          33.47669982910156,
          33.47669982910156,
          33.92009735107422,
          33.92009735107422,
          33.92009735107422,
          33.92009735107422,
          33.92009735107422,
          33.92009735107422,
          34.363494873046875,
          33.47669982910156,
          33.92009735107422,
          33.92009735107422,
          34.363494873046875,
          34.80690002441406,
          33.92009735107422,
          33.92009735107422,
          34.363494873046875,
          34.363494873046875,
          34.363494873046875,
          34.363494873046875,
          34.80690002441406,
          33.92009735107422,
          33.92009735107422,
          34.363494873046875,
          34.363494873046875,
          34.363494873046875,
          34.80690002441406,
          33.92009735107422,
          34.363494873046875,
          34.363494873046875,
          34.363494873046875,
          34.363494873046875,
          34.80690002441406,
          34.80690002441406,
          34.80690002441406,
          34.80690002441406,
          34.80690002441406,
          34.80690002441406,
          35.25029754638672,
          34.80690002441406,
          35.25029754638672,
          35.25029754638672,
          35.25029754638672,
          35.25029754638672,
          35.25029754638672,
          35.25029754638672,
          35.25029754638672,
          35.693695068359375,
          35.693695068359375,
          35.693695068359375,
          36.13710021972656,
          35.693695068359375,
          35.693695068359375,
          35.693695068359375,
          36.13710021972656,
          35.693695068359375,
          36.13710021972656,
          36.13710021972656,
          36.13710021972656,
          36.13710021972656,
          36.13710021972656,
          36.13710021972656,
          36.13710021972656,
          36.13710021972656,
          36.13710021972656,
          36.58049774169922,
          36.13710021972656,
          36.58049774169922,
          36.58049774169922,
          36.58049774169922,
          37.023895263671875,
          37.023895263671875,
          37.023895263671875,
          37.023895263671875,
          36.58049774169922,
          37.023895263671875,
          37.023895263671875,
          37.023895263671875,
          37.023895263671875,
          37.023895263671875,
          37.46730041503906,
          37.46730041503906,
          37.46730041503906,
          37.46730041503906,
          37.46730041503906,
          37.46730041503906,
          37.46730041503906,
          37.91069793701172,
          37.46730041503906,
          37.91069793701172,
          37.91069793701172,
          37.91069793701172,
          37.91069793701172,
          37.91069793701172,
          37.91069793701172,
          37.91069793701172,
          38.354095458984375,
          37.91069793701172,
          37.91069793701172,
          38.354095458984375,
          38.354095458984375,
          38.354095458984375,
          38.354095458984375,
          38.354095458984375,
          38.354095458984375,
          38.79750061035156,
          38.79750061035156,
          38.79750061035156,
          38.79750061035156,
          38.79750061035156,
          38.79750061035156,
          39.24089813232422,
          39.24089813232422,
          39.24089813232422,
          39.24089813232422,
          39.24089813232422,
          39.24089813232422,
          39.24089813232422,
          39.24089813232422,
          38.354095458984375
         ],
         "z": [
          31.25969696044922,
          31.703102111816406,
          32.14649963378906,
          32.58989715576172,
          33.033302307128906,
          33.033302307128906,
          33.033302307128906,
          33.033302307128906,
          33.47669982910156,
          33.92009735107422,
          34.363502502441406,
          34.363502502441406,
          34.80690002441406,
          34.80690002441406,
          35.25029754638672,
          35.25029754638672,
          35.25029754638672,
          35.693695068359375,
          35.693695068359375,
          35.693695068359375,
          35.693695068359375,
          35.693695068359375,
          36.13710021972656,
          36.13710021972656,
          36.13710021972656,
          36.13710021972656,
          36.13710021972656,
          36.58049774169922,
          36.58049774169922,
          36.58049774169922,
          36.58049774169922,
          36.58049774169922,
          37.023895263671875,
          37.023895263671875,
          37.023895263671875,
          37.023895263671875,
          37.023895263671875,
          37.46730041503906,
          37.46730041503906,
          37.46730041503906,
          37.46730041503906,
          37.46730041503906,
          37.46730041503906,
          37.46730041503906,
          37.91069793701172,
          37.91069793701172,
          37.91069793701172,
          37.91069793701172,
          37.91069793701172,
          37.91069793701172,
          38.354095458984375,
          38.354095458984375,
          38.354095458984375,
          38.79750061035156,
          39.24089813232422,
          39.684295654296875,
          40.12770080566406,
          40.12770080566406,
          40.57109832763672,
          41.014495849609375,
          41.014495849609375,
          41.014495849609375,
          41.45790100097656,
          41.90129852294922,
          41.90129852294922,
          42.344696044921875,
          42.344696044921875,
          42.78810119628906,
          43.23149871826172,
          43.674896240234375,
          43.674896240234375,
          44.11830139160156,
          44.56169891357422,
          44.56169891357422,
          45.005096435546875,
          45.005096435546875,
          45.005096435546875,
          45.005096435546875,
          45.44850158691406,
          45.89189910888672,
          46.335296630859375,
          46.335296630859375,
          46.77870178222656,
          46.77870178222656,
          47.22209930419922,
          47.22209930419922,
          47.665496826171875,
          47.665496826171875,
          47.665496826171875,
          48.10890197753906,
          48.55229949951172,
          48.995697021484375,
          49.43910217285156,
          49.88249969482422,
          50.325897216796875,
          50.325897216796875,
          50.76929473876953,
          51.21269989013672,
          51.21269989013672,
          51.21269989013672,
          51.656097412109375,
          51.656097412109375,
          52.09949493408203,
          52.54290008544922,
          52.986297607421875,
          53.42969512939453,
          53.42969512939453,
          53.87310028076172,
          54.316497802734375,
          54.75989532470703,
          54.75989532470703,
          55.20330047607422,
          55.20330047607422,
          55.646697998046875,
          55.646697998046875,
          56.09009552001953,
          56.09009552001953,
          56.53350067138672,
          56.53350067138672,
          56.53350067138672,
          56.976898193359375,
          56.976898193359375,
          57.42030334472656,
          57.86369323730469,
          57.86369323730469,
          58.307098388671875,
          58.307098388671875,
          59.19389343261719,
          59.637298583984375,
          60.08070373535156,
          60.52409362792969,
          60.967498779296875,
          61.41090393066406,
          61.85429382324219,
          62.297698974609375,
          62.74110412597656,
          63.18449401855469,
          63.627899169921875,
          63.627899169921875,
          64.07130432128906,
          64.07130432128906,
          64.51469421386719,
          58.75050354003906
         ]
        },
        {
         "hovertemplate": "x: %{x}<br>y: %{y}<br>z: %{z}<br>%{text}",
         "marker": {
          "cmax": 6,
          "cmin": -1,
          "color": [
           4,
           4,
           4,
           4,
           4,
           4,
           4,
           4,
           4,
           4,
           4,
           4,
           4,
           4,
           4,
           4,
           4,
           4,
           4,
           4,
           4,
           4,
           4,
           4,
           4,
           4,
           4,
           4,
           4,
           4,
           4,
           4,
           4,
           4,
           4,
           4,
           4,
           4,
           4,
           4,
           4,
           4,
           4,
           4,
           4,
           4,
           4,
           4,
           4,
           4,
           4,
           4,
           4,
           4,
           4,
           4,
           4,
           4,
           4,
           4,
           4,
           4,
           4,
           4,
           4,
           4,
           4,
           4,
           4,
           4,
           4,
           4,
           4,
           4,
           4,
           4,
           4,
           4,
           4,
           4
          ],
          "colorscale": [
           [
            0,
            "#808080"
           ],
           [
            0.14285714285714285,
            "#636EFA"
           ],
           [
            0.2857142857142857,
            "#EF553B"
           ],
           [
            0.42857142857142855,
            "#00CC96"
           ],
           [
            0.5714285714285714,
            "#AB63FA"
           ],
           [
            0.7142857142857143,
            "#FFA15A"
           ],
           [
            0.8571428571428571,
            "#19D3F3"
           ],
           [
            1,
            "#FF6692"
           ]
          ],
          "size": 2
         },
         "mode": "markers",
         "name": "Reco particle 2",
         "showlegend": true,
         "text": [
          "Particle 2<br>Pid: 4",
          "Particle 2<br>Pid: 4",
          "Particle 2<br>Pid: 4",
          "Particle 2<br>Pid: 4",
          "Particle 2<br>Pid: 4",
          "Particle 2<br>Pid: 4",
          "Particle 2<br>Pid: 4",
          "Particle 2<br>Pid: 4",
          "Particle 2<br>Pid: 4",
          "Particle 2<br>Pid: 4",
          "Particle 2<br>Pid: 4",
          "Particle 2<br>Pid: 4",
          "Particle 2<br>Pid: 4",
          "Particle 2<br>Pid: 4",
          "Particle 2<br>Pid: 4",
          "Particle 2<br>Pid: 4",
          "Particle 2<br>Pid: 4",
          "Particle 2<br>Pid: 4",
          "Particle 2<br>Pid: 4",
          "Particle 2<br>Pid: 4",
          "Particle 2<br>Pid: 4",
          "Particle 2<br>Pid: 4",
          "Particle 2<br>Pid: 4",
          "Particle 2<br>Pid: 4",
          "Particle 2<br>Pid: 4",
          "Particle 2<br>Pid: 4",
          "Particle 2<br>Pid: 4",
          "Particle 2<br>Pid: 4",
          "Particle 2<br>Pid: 4",
          "Particle 2<br>Pid: 4",
          "Particle 2<br>Pid: 4",
          "Particle 2<br>Pid: 4",
          "Particle 2<br>Pid: 4",
          "Particle 2<br>Pid: 4",
          "Particle 2<br>Pid: 4",
          "Particle 2<br>Pid: 4",
          "Particle 2<br>Pid: 4",
          "Particle 2<br>Pid: 4",
          "Particle 2<br>Pid: 4",
          "Particle 2<br>Pid: 4",
          "Particle 2<br>Pid: 4",
          "Particle 2<br>Pid: 4",
          "Particle 2<br>Pid: 4",
          "Particle 2<br>Pid: 4",
          "Particle 2<br>Pid: 4",
          "Particle 2<br>Pid: 4",
          "Particle 2<br>Pid: 4",
          "Particle 2<br>Pid: 4",
          "Particle 2<br>Pid: 4",
          "Particle 2<br>Pid: 4",
          "Particle 2<br>Pid: 4",
          "Particle 2<br>Pid: 4",
          "Particle 2<br>Pid: 4",
          "Particle 2<br>Pid: 4",
          "Particle 2<br>Pid: 4",
          "Particle 2<br>Pid: 4",
          "Particle 2<br>Pid: 4",
          "Particle 2<br>Pid: 4",
          "Particle 2<br>Pid: 4",
          "Particle 2<br>Pid: 4",
          "Particle 2<br>Pid: 4",
          "Particle 2<br>Pid: 4",
          "Particle 2<br>Pid: 4",
          "Particle 2<br>Pid: 4",
          "Particle 2<br>Pid: 4",
          "Particle 2<br>Pid: 4",
          "Particle 2<br>Pid: 4",
          "Particle 2<br>Pid: 4",
          "Particle 2<br>Pid: 4",
          "Particle 2<br>Pid: 4",
          "Particle 2<br>Pid: 4",
          "Particle 2<br>Pid: 4",
          "Particle 2<br>Pid: 4",
          "Particle 2<br>Pid: 4",
          "Particle 2<br>Pid: 4",
          "Particle 2<br>Pid: 4",
          "Particle 2<br>Pid: 4",
          "Particle 2<br>Pid: 4",
          "Particle 2<br>Pid: 4",
          "Particle 2<br>Pid: 4"
         ],
         "type": "scatter3d",
         "x": [
          16.62750244140625,
          17.070899963378906,
          17.070899963378906,
          17.514297485351562,
          17.95770263671875,
          17.070899963378906,
          17.070899963378906,
          17.514297485351562,
          17.95770263671875,
          16.184097290039062,
          17.514297485351562,
          17.070899963378906,
          17.514297485351562,
          17.95770263671875,
          16.62750244140625,
          17.070899963378906,
          17.95770263671875,
          16.62750244140625,
          17.514297485351562,
          16.62750244140625,
          17.070899963378906,
          15.740699768066406,
          17.070899963378906,
          17.514297485351562,
          17.95770263671875,
          16.62750244140625,
          17.514297485351562,
          15.740699768066406,
          16.62750244140625,
          17.514297485351562,
          17.95770263671875,
          16.184097290039062,
          17.070899963378906,
          17.514297485351562,
          17.95770263671875,
          17.070899963378906,
          17.070899963378906,
          16.184097290039062,
          17.070899963378906,
          17.514297485351562,
          17.95770263671875,
          16.184097290039062,
          17.070899963378906,
          16.184097290039062,
          16.62750244140625,
          16.62750244140625,
          17.514297485351562,
          16.62750244140625,
          17.070899963378906,
          17.514297485351562,
          17.070899963378906,
          15.740699768066406,
          16.62750244140625,
          16.184097290039062,
          16.62750244140625,
          17.070899963378906,
          17.514297485351562,
          17.514297485351562,
          17.070899963378906,
          16.184097290039062,
          17.070899963378906,
          15.740699768066406,
          16.62750244140625,
          17.514297485351562,
          17.95770263671875,
          16.184097290039062,
          15.740699768066406,
          16.62750244140625,
          16.62750244140625,
          17.070899963378906,
          17.514297485351562,
          15.740699768066406,
          16.62750244140625,
          17.514297485351562,
          15.740699768066406,
          16.62750244140625,
          17.514297485351562,
          17.070899963378906,
          17.514297485351562,
          16.184097290039062
         ],
         "y": [
          29.92949676513672,
          29.486099243164062,
          29.92949676513672,
          29.92949676513672,
          29.92949676513672,
          30.372894287109375,
          29.92949676513672,
          29.92949676513672,
          29.92949676513672,
          30.372894287109375,
          30.372894287109375,
          29.92949676513672,
          30.372894287109375,
          30.372894287109375,
          30.816299438476562,
          30.372894287109375,
          30.372894287109375,
          30.816299438476562,
          30.816299438476562,
          31.25969696044922,
          30.372894287109375,
          30.816299438476562,
          30.816299438476562,
          30.816299438476562,
          30.816299438476562,
          31.25969696044922,
          31.25969696044922,
          30.816299438476562,
          30.816299438476562,
          30.816299438476562,
          30.816299438476562,
          31.25969696044922,
          31.25969696044922,
          31.25969696044922,
          31.25969696044922,
          31.703094482421875,
          30.816299438476562,
          31.25969696044922,
          31.25969696044922,
          31.25969696044922,
          31.25969696044922,
          31.703094482421875,
          31.703094482421875,
          30.372894287109375,
          30.816299438476562,
          31.25969696044922,
          31.25969696044922,
          31.703094482421875,
          31.703094482421875,
          31.703094482421875,
          32.14649963378906,
          31.25969696044922,
          31.25969696044922,
          31.703094482421875,
          31.703094482421875,
          31.703094482421875,
          31.703094482421875,
          32.14649963378906,
          32.58989715576172,
          31.703094482421875,
          31.703094482421875,
          32.14649963378906,
          32.14649963378906,
          32.14649963378906,
          32.14649963378906,
          32.58989715576172,
          31.703094482421875,
          31.703094482421875,
          32.14649963378906,
          32.14649963378906,
          32.14649963378906,
          32.58989715576172,
          32.58989715576172,
          32.58989715576172,
          31.703094482421875,
          32.14649963378906,
          32.14649963378906,
          32.58989715576172,
          32.58989715576172,
          33.033294677734375
         ],
         "z": [
          54.75989532470703,
          55.20330047607422,
          55.20330047607422,
          55.20330047607422,
          55.20330047607422,
          55.20330047607422,
          55.646697998046875,
          55.646697998046875,
          55.646697998046875,
          55.646697998046875,
          55.646697998046875,
          56.09009552001953,
          56.09009552001953,
          56.09009552001953,
          56.09009552001953,
          56.53350067138672,
          56.53350067138672,
          56.53350067138672,
          56.53350067138672,
          56.53350067138672,
          56.976898193359375,
          56.976898193359375,
          56.976898193359375,
          56.976898193359375,
          56.976898193359375,
          56.976898193359375,
          56.976898193359375,
          57.42030334472656,
          57.42030334472656,
          57.42030334472656,
          57.42030334472656,
          57.42030334472656,
          57.42030334472656,
          57.42030334472656,
          57.42030334472656,
          57.42030334472656,
          57.86369323730469,
          57.86369323730469,
          57.86369323730469,
          57.86369323730469,
          57.86369323730469,
          57.86369323730469,
          57.86369323730469,
          58.307098388671875,
          58.307098388671875,
          58.307098388671875,
          58.307098388671875,
          58.307098388671875,
          58.307098388671875,
          58.307098388671875,
          58.307098388671875,
          58.75050354003906,
          58.75050354003906,
          58.75050354003906,
          58.75050354003906,
          58.75050354003906,
          58.75050354003906,
          58.75050354003906,
          58.75050354003906,
          59.19389343261719,
          59.19389343261719,
          59.19389343261719,
          59.19389343261719,
          59.19389343261719,
          59.19389343261719,
          59.19389343261719,
          59.637298583984375,
          59.637298583984375,
          59.637298583984375,
          59.637298583984375,
          59.637298583984375,
          59.637298583984375,
          59.637298583984375,
          59.637298583984375,
          60.08070373535156,
          60.08070373535156,
          60.08070373535156,
          60.08070373535156,
          60.08070373535156,
          60.08070373535156
         ]
        },
        {
         "hovertemplate": "x: %{x}<br>y: %{y}<br>z: %{z}<br>%{text}",
         "marker": {
          "cmax": 6,
          "cmin": -1,
          "color": [
           5,
           5,
           5,
           5,
           5,
           5,
           5,
           5,
           5,
           5,
           5,
           5,
           5,
           5,
           5,
           5,
           5,
           5,
           5,
           5,
           5,
           5,
           5,
           5,
           5,
           5,
           5,
           5,
           5,
           5,
           5,
           5,
           5,
           5,
           5,
           5,
           5,
           5,
           5,
           5,
           5,
           5,
           5,
           5,
           5,
           5,
           5,
           5,
           5,
           5,
           5,
           5,
           5,
           5,
           5,
           5,
           5,
           5,
           5,
           5,
           5,
           5,
           5,
           5,
           5,
           5,
           5,
           5,
           5,
           5,
           5,
           5,
           5,
           5,
           5,
           5,
           5,
           5,
           5,
           5
          ],
          "colorscale": [
           [
            0,
            "#808080"
           ],
           [
            0.14285714285714285,
            "#636EFA"
           ],
           [
            0.2857142857142857,
            "#EF553B"
           ],
           [
            0.42857142857142855,
            "#00CC96"
           ],
           [
            0.5714285714285714,
            "#AB63FA"
           ],
           [
            0.7142857142857143,
            "#FFA15A"
           ],
           [
            0.8571428571428571,
            "#19D3F3"
           ],
           [
            1,
            "#FF6692"
           ]
          ],
          "size": 2
         },
         "mode": "markers",
         "name": "Reco particle 3",
         "showlegend": true,
         "text": [
          "Particle 3<br>Pid: 5",
          "Particle 3<br>Pid: 5",
          "Particle 3<br>Pid: 5",
          "Particle 3<br>Pid: 5",
          "Particle 3<br>Pid: 5",
          "Particle 3<br>Pid: 5",
          "Particle 3<br>Pid: 5",
          "Particle 3<br>Pid: 5",
          "Particle 3<br>Pid: 5",
          "Particle 3<br>Pid: 5",
          "Particle 3<br>Pid: 5",
          "Particle 3<br>Pid: 5",
          "Particle 3<br>Pid: 5",
          "Particle 3<br>Pid: 5",
          "Particle 3<br>Pid: 5",
          "Particle 3<br>Pid: 5",
          "Particle 3<br>Pid: 5",
          "Particle 3<br>Pid: 5",
          "Particle 3<br>Pid: 5",
          "Particle 3<br>Pid: 5",
          "Particle 3<br>Pid: 5",
          "Particle 3<br>Pid: 5",
          "Particle 3<br>Pid: 5",
          "Particle 3<br>Pid: 5",
          "Particle 3<br>Pid: 5",
          "Particle 3<br>Pid: 5",
          "Particle 3<br>Pid: 5",
          "Particle 3<br>Pid: 5",
          "Particle 3<br>Pid: 5",
          "Particle 3<br>Pid: 5",
          "Particle 3<br>Pid: 5",
          "Particle 3<br>Pid: 5",
          "Particle 3<br>Pid: 5",
          "Particle 3<br>Pid: 5",
          "Particle 3<br>Pid: 5",
          "Particle 3<br>Pid: 5",
          "Particle 3<br>Pid: 5",
          "Particle 3<br>Pid: 5",
          "Particle 3<br>Pid: 5",
          "Particle 3<br>Pid: 5",
          "Particle 3<br>Pid: 5",
          "Particle 3<br>Pid: 5",
          "Particle 3<br>Pid: 5",
          "Particle 3<br>Pid: 5",
          "Particle 3<br>Pid: 5",
          "Particle 3<br>Pid: 5",
          "Particle 3<br>Pid: 5",
          "Particle 3<br>Pid: 5",
          "Particle 3<br>Pid: 5",
          "Particle 3<br>Pid: 5",
          "Particle 3<br>Pid: 5",
          "Particle 3<br>Pid: 5",
          "Particle 3<br>Pid: 5",
          "Particle 3<br>Pid: 5",
          "Particle 3<br>Pid: 5",
          "Particle 3<br>Pid: 5",
          "Particle 3<br>Pid: 5",
          "Particle 3<br>Pid: 5",
          "Particle 3<br>Pid: 5",
          "Particle 3<br>Pid: 5",
          "Particle 3<br>Pid: 5",
          "Particle 3<br>Pid: 5",
          "Particle 3<br>Pid: 5",
          "Particle 3<br>Pid: 5",
          "Particle 3<br>Pid: 5",
          "Particle 3<br>Pid: 5",
          "Particle 3<br>Pid: 5",
          "Particle 3<br>Pid: 5",
          "Particle 3<br>Pid: 5",
          "Particle 3<br>Pid: 5",
          "Particle 3<br>Pid: 5",
          "Particle 3<br>Pid: 5",
          "Particle 3<br>Pid: 5",
          "Particle 3<br>Pid: 5",
          "Particle 3<br>Pid: 5",
          "Particle 3<br>Pid: 5",
          "Particle 3<br>Pid: 5",
          "Particle 3<br>Pid: 5",
          "Particle 3<br>Pid: 5",
          "Particle 3<br>Pid: 5"
         ],
         "type": "scatter3d",
         "x": [
          24.60869598388672,
          25.052101135253906,
          24.60869598388672,
          24.165298461914062,
          24.165298461914062,
          24.60869598388672,
          25.052101135253906,
          24.60869598388672,
          24.60869598388672,
          24.165298461914062,
          24.60869598388672,
          24.165298461914062,
          24.165298461914062,
          24.60869598388672,
          24.165298461914062,
          24.165298461914062,
          23.721900939941406,
          24.165298461914062,
          23.27849578857422,
          23.721900939941406,
          23.27849578857422,
          23.721900939941406,
          24.165298461914062,
          23.721900939941406,
          23.721900939941406,
          23.721900939941406,
          22.835098266601562,
          22.391700744628906,
          23.27849578857422,
          23.27849578857422,
          22.835098266601562,
          22.835098266601562,
          22.835098266601562,
          21.94829559326172,
          22.391700744628906,
          22.835098266601562,
          21.94829559326172,
          22.835098266601562,
          21.94829559326172,
          22.391700744628906,
          22.391700744628906,
          21.94829559326172,
          22.391700744628906,
          22.835098266601562,
          21.504898071289062,
          22.391700744628906,
          21.504898071289062,
          21.504898071289062,
          22.391700744628906,
          21.94829559326172,
          21.94829559326172,
          21.504898071289062,
          21.94829559326172,
          21.504898071289062,
          21.94829559326172,
          21.504898071289062,
          21.94829559326172,
          21.504898071289062,
          21.504898071289062,
          21.504898071289062,
          21.504898071289062,
          21.061500549316406,
          21.061500549316406,
          21.504898071289062,
          20.61809539794922,
          20.174697875976562,
          20.61809539794922,
          20.61809539794922,
          20.174697875976562,
          20.61809539794922,
          20.174697875976562,
          20.61809539794922,
          19.731300354003906,
          20.61809539794922,
          19.28789520263672,
          20.174697875976562,
          20.61809539794922,
          20.174697875976562,
          20.174697875976562,
          23.721900939941406
         ],
         "y": [
          32.58989715576172,
          32.58989715576172,
          33.033294677734375,
          32.14649963378906,
          32.58989715576172,
          32.58989715576172,
          32.58989715576172,
          32.14649963378906,
          32.58989715576172,
          32.58989715576172,
          32.58989715576172,
          32.14649963378906,
          32.58989715576172,
          32.14649963378906,
          32.58989715576172,
          32.14649963378906,
          33.033294677734375,
          32.14649963378906,
          32.14649963378906,
          32.14649963378906,
          32.58989715576172,
          32.14649963378906,
          32.14649963378906,
          32.14649963378906,
          32.14649963378906,
          32.14649963378906,
          32.58989715576172,
          32.14649963378906,
          32.14649963378906,
          32.14649963378906,
          31.703094482421875,
          32.14649963378906,
          31.703094482421875,
          31.703094482421875,
          31.703094482421875,
          31.703094482421875,
          31.703094482421875,
          31.703094482421875,
          32.14649963378906,
          32.14649963378906,
          31.703094482421875,
          32.14649963378906,
          31.703094482421875,
          31.703094482421875,
          31.703094482421875,
          31.703094482421875,
          31.25969696044922,
          31.703094482421875,
          31.703094482421875,
          32.14649963378906,
          31.25969696044922,
          31.703094482421875,
          31.703094482421875,
          32.14649963378906,
          31.25969696044922,
          31.25969696044922,
          31.25969696044922,
          31.25969696044922,
          31.25969696044922,
          31.25969696044922,
          31.25969696044922,
          31.25969696044922,
          31.25969696044922,
          31.25969696044922,
          30.816299438476562,
          30.816299438476562,
          30.816299438476562,
          31.25969696044922,
          30.816299438476562,
          30.816299438476562,
          30.816299438476562,
          30.816299438476562,
          30.816299438476562,
          30.816299438476562,
          30.372894287109375,
          30.816299438476562,
          30.816299438476562,
          30.816299438476562,
          30.816299438476562,
          31.703094482421875
         ],
         "z": [
          29.486099243164062,
          29.486099243164062,
          29.486099243164062,
          29.92949676513672,
          29.92949676513672,
          29.92949676513672,
          29.92949676513672,
          30.372901916503906,
          30.372901916503906,
          30.816299438476562,
          30.816299438476562,
          31.25969696044922,
          31.25969696044922,
          31.703102111816406,
          31.703102111816406,
          32.14649963378906,
          32.14649963378906,
          32.58989715576172,
          33.033302307128906,
          33.033302307128906,
          33.033302307128906,
          33.47669982910156,
          33.47669982910156,
          33.92009735107422,
          34.363502502441406,
          34.80690002441406,
          34.80690002441406,
          35.25029754638672,
          35.25029754638672,
          35.693695068359375,
          36.13710021972656,
          36.13710021972656,
          36.58049774169922,
          37.023895263671875,
          37.023895263671875,
          37.023895263671875,
          37.46730041503906,
          37.46730041503906,
          37.46730041503906,
          37.46730041503906,
          37.91069793701172,
          37.91069793701172,
          38.354095458984375,
          38.354095458984375,
          38.79750061035156,
          38.79750061035156,
          39.24089813232422,
          39.24089813232422,
          39.24089813232422,
          39.24089813232422,
          39.684295654296875,
          39.684295654296875,
          39.684295654296875,
          39.684295654296875,
          40.12770080566406,
          40.57109832763672,
          40.57109832763672,
          41.014495849609375,
          41.45790100097656,
          41.90129852294922,
          42.344696044921875,
          42.78810119628906,
          43.23149871826172,
          43.23149871826172,
          43.674896240234375,
          44.11830139160156,
          44.11830139160156,
          44.11830139160156,
          44.56169891357422,
          44.56169891357422,
          45.005096435546875,
          45.005096435546875,
          45.44850158691406,
          45.44850158691406,
          45.89189910888672,
          45.89189910888672,
          45.89189910888672,
          46.335296630859375,
          46.77870178222656,
          36.58049774169922
         ]
        },
        {
         "hovertemplate": "x: %{x}<br>y: %{y}<br>z: %{z}<br>%{text}",
         "marker": {
          "color": "black",
          "size": 7,
          "symbol": "circle"
         },
         "mode": "markers",
         "name": "Reco particle start point",
         "text": [
          "Particle 0 start point",
          "Particle 1 start point",
          "Particle 2 start point",
          "Particle 3 start point"
         ],
         "type": "scatter3d",
         "x": [
          50.325897216796875,
          25.052101135253906,
          16.62750244140625,
          25.052101135253906
         ],
         "y": [
          -47.22209930419922,
          33.033294677734375,
          29.92949676513672,
          32.58989715576172
         ],
         "z": [
          55.20330047607422,
          31.25969696044922,
          54.75989532470703,
          29.486099243164062
         ]
        },
        {
         "hovertemplate": "x: %{x}<br>y: %{y}<br>z: %{z}<br>%{text}",
         "marker": {
          "color": "black",
          "size": 7,
          "symbol": "circle-open"
         },
         "mode": "markers",
         "name": "Reco particle end point",
         "text": [
          "Particle 1 end point",
          "Particle 2 end point",
          "Particle 3 end point"
         ],
         "type": "scatter3d",
         "x": [
          23.27849578857422,
          16.184097290039062,
          20.174697875976562
         ],
         "y": [
          39.24089813232422,
          33.033294677734375,
          30.816299438476562
         ],
         "z": [
          64.51469421386719,
          60.08070373535156,
          46.77870178222656
         ]
        },
        {
         "hovertemplate": "x: %{x}<br>y: %{y}<br>z: %{z}<br>%{text}",
         "marker": {
          "color": "green",
          "size": 10,
          "symbol": "diamond"
         },
         "mode": "markers",
         "name": "Reco interaction vertex",
         "text": [
          "Interaction 0 vertex",
          "Interaction 1 vertex",
          "Interaction 2 vertex",
          "Interaction 3 vertex"
         ],
         "type": "scatter3d",
         "x": [
          35.693695068359375,
          4.2122955322265625,
          -19.731300354003906,
          25.052101135253906
         ],
         "y": [
          -61.85430145263672,
          -18.401103973388672,
          -53.42970275878906,
          32.81159591674805
         ],
         "z": [
          -9.97650146484375,
          -53.42970275878906,
          50.325897216796875,
          30.37289810180664
         ]
        },
        {
         "hovertemplate": "x: %{x}<br>y: %{y}<br>z: %{z}",
         "legendgroup": "group_1737428288.3255467",
         "line": {
          "color": "rgba(0, 0, 0, 0.15)",
          "width": 5
         },
         "mode": "lines",
         "name": "Detector",
         "showlegend": true,
         "type": "scatter3d",
         "x": [
          33.65875,
          33.65875,
          null,
          33.65875,
          33.65875,
          null,
          33.65875,
          63.931,
          null,
          33.65875,
          33.65875,
          null,
          33.65875,
          63.931,
          null,
          33.65875,
          33.65875,
          null,
          33.65875,
          63.931,
          null,
          33.65875,
          63.931,
          null,
          63.931,
          63.931,
          null,
          63.931,
          63.931,
          null,
          63.931,
          63.931,
          null,
          63.931,
          63.931,
          null
         ],
         "y": [
          -62.076,
          -62.076,
          null,
          -62.076,
          62.076,
          null,
          -62.076,
          -62.076,
          null,
          -62.076,
          62.076,
          null,
          -62.076,
          -62.076,
          null,
          62.076,
          62.076,
          null,
          62.076,
          62.076,
          null,
          62.076,
          62.076,
          null,
          -62.076,
          -62.076,
          null,
          -62.076,
          62.076,
          null,
          -62.076,
          62.076,
          null,
          62.076,
          62.076,
          null
         ],
         "z": [
          2.4619999999999997,
          64.538,
          null,
          2.4619999999999997,
          2.4619999999999997,
          null,
          2.4619999999999997,
          2.4619999999999997,
          null,
          64.538,
          64.538,
          null,
          64.538,
          64.538,
          null,
          2.4619999999999997,
          64.538,
          null,
          2.4619999999999997,
          2.4619999999999997,
          null,
          64.538,
          64.538,
          null,
          2.4619999999999997,
          64.538,
          null,
          2.4619999999999997,
          2.4619999999999997,
          null,
          64.538,
          64.538,
          null,
          2.4619999999999997,
          64.538,
          null
         ]
        },
        {
         "hovertemplate": "x: %{x}<br>y: %{y}<br>z: %{z}",
         "legendgroup": "group_1737428288.3255467",
         "line": {
          "color": "rgba(0, 0, 0, 0.15)",
          "width": 5
         },
         "mode": "lines",
         "name": "Detector",
         "showlegend": false,
         "type": "scatter3d",
         "x": [
          3.068999999999999,
          3.068999999999999,
          null,
          3.068999999999999,
          3.068999999999999,
          null,
          3.068999999999999,
          33.34125,
          null,
          3.068999999999999,
          3.068999999999999,
          null,
          3.068999999999999,
          33.34125,
          null,
          3.068999999999999,
          3.068999999999999,
          null,
          3.068999999999999,
          33.34125,
          null,
          3.068999999999999,
          33.34125,
          null,
          33.34125,
          33.34125,
          null,
          33.34125,
          33.34125,
          null,
          33.34125,
          33.34125,
          null,
          33.34125,
          33.34125,
          null
         ],
         "y": [
          -62.076,
          -62.076,
          null,
          -62.076,
          62.076,
          null,
          -62.076,
          -62.076,
          null,
          -62.076,
          62.076,
          null,
          -62.076,
          -62.076,
          null,
          62.076,
          62.076,
          null,
          62.076,
          62.076,
          null,
          62.076,
          62.076,
          null,
          -62.076,
          -62.076,
          null,
          -62.076,
          62.076,
          null,
          -62.076,
          62.076,
          null,
          62.076,
          62.076,
          null
         ],
         "z": [
          2.4619999999999997,
          64.538,
          null,
          2.4619999999999997,
          2.4619999999999997,
          null,
          2.4619999999999997,
          2.4619999999999997,
          null,
          64.538,
          64.538,
          null,
          64.538,
          64.538,
          null,
          2.4619999999999997,
          64.538,
          null,
          2.4619999999999997,
          2.4619999999999997,
          null,
          64.538,
          64.538,
          null,
          2.4619999999999997,
          64.538,
          null,
          2.4619999999999997,
          2.4619999999999997,
          null,
          64.538,
          64.538,
          null,
          2.4619999999999997,
          64.538,
          null
         ]
        },
        {
         "hovertemplate": "x: %{x}<br>y: %{y}<br>z: %{z}",
         "legendgroup": "group_1737428288.3255467",
         "line": {
          "color": "rgba(0, 0, 0, 0.15)",
          "width": 5
         },
         "mode": "lines",
         "name": "Detector",
         "showlegend": false,
         "type": "scatter3d",
         "x": [
          33.65875,
          33.65875,
          null,
          33.65875,
          33.65875,
          null,
          33.65875,
          63.931,
          null,
          33.65875,
          33.65875,
          null,
          33.65875,
          63.931,
          null,
          33.65875,
          33.65875,
          null,
          33.65875,
          63.931,
          null,
          33.65875,
          63.931,
          null,
          63.931,
          63.931,
          null,
          63.931,
          63.931,
          null,
          63.931,
          63.931,
          null,
          63.931,
          63.931,
          null
         ],
         "y": [
          -62.076,
          -62.076,
          null,
          -62.076,
          62.076,
          null,
          -62.076,
          -62.076,
          null,
          -62.076,
          62.076,
          null,
          -62.076,
          -62.076,
          null,
          62.076,
          62.076,
          null,
          62.076,
          62.076,
          null,
          62.076,
          62.076,
          null,
          -62.076,
          -62.076,
          null,
          -62.076,
          62.076,
          null,
          -62.076,
          62.076,
          null,
          62.076,
          62.076,
          null
         ],
         "z": [
          -64.538,
          -2.4620000000000033,
          null,
          -64.538,
          -64.538,
          null,
          -64.538,
          -64.538,
          null,
          -2.4620000000000033,
          -2.4620000000000033,
          null,
          -2.4620000000000033,
          -2.4620000000000033,
          null,
          -64.538,
          -2.4620000000000033,
          null,
          -64.538,
          -64.538,
          null,
          -2.4620000000000033,
          -2.4620000000000033,
          null,
          -64.538,
          -2.4620000000000033,
          null,
          -64.538,
          -64.538,
          null,
          -2.4620000000000033,
          -2.4620000000000033,
          null,
          -64.538,
          -2.4620000000000033,
          null
         ]
        },
        {
         "hovertemplate": "x: %{x}<br>y: %{y}<br>z: %{z}",
         "legendgroup": "group_1737428288.3255467",
         "line": {
          "color": "rgba(0, 0, 0, 0.15)",
          "width": 5
         },
         "mode": "lines",
         "name": "Detector",
         "showlegend": false,
         "type": "scatter3d",
         "x": [
          3.068999999999999,
          3.068999999999999,
          null,
          3.068999999999999,
          3.068999999999999,
          null,
          3.068999999999999,
          33.34125,
          null,
          3.068999999999999,
          3.068999999999999,
          null,
          3.068999999999999,
          33.34125,
          null,
          3.068999999999999,
          3.068999999999999,
          null,
          3.068999999999999,
          33.34125,
          null,
          3.068999999999999,
          33.34125,
          null,
          33.34125,
          33.34125,
          null,
          33.34125,
          33.34125,
          null,
          33.34125,
          33.34125,
          null,
          33.34125,
          33.34125,
          null
         ],
         "y": [
          -62.076,
          -62.076,
          null,
          -62.076,
          62.076,
          null,
          -62.076,
          -62.076,
          null,
          -62.076,
          62.076,
          null,
          -62.076,
          -62.076,
          null,
          62.076,
          62.076,
          null,
          62.076,
          62.076,
          null,
          62.076,
          62.076,
          null,
          -62.076,
          -62.076,
          null,
          -62.076,
          62.076,
          null,
          -62.076,
          62.076,
          null,
          62.076,
          62.076,
          null
         ],
         "z": [
          -64.538,
          -2.4620000000000033,
          null,
          -64.538,
          -64.538,
          null,
          -64.538,
          -64.538,
          null,
          -2.4620000000000033,
          -2.4620000000000033,
          null,
          -2.4620000000000033,
          -2.4620000000000033,
          null,
          -64.538,
          -2.4620000000000033,
          null,
          -64.538,
          -64.538,
          null,
          -2.4620000000000033,
          -2.4620000000000033,
          null,
          -64.538,
          -2.4620000000000033,
          null,
          -64.538,
          -64.538,
          null,
          -2.4620000000000033,
          -2.4620000000000033,
          null,
          -64.538,
          -2.4620000000000033,
          null
         ]
        },
        {
         "hovertemplate": "x: %{x}<br>y: %{y}<br>z: %{z}",
         "legendgroup": "group_1737428288.3255467",
         "line": {
          "color": "rgba(0, 0, 0, 0.15)",
          "width": 5
         },
         "mode": "lines",
         "name": "Detector",
         "showlegend": false,
         "type": "scatter3d",
         "x": [
          -33.34125,
          -33.34125,
          null,
          -33.34125,
          -33.34125,
          null,
          -33.34125,
          -3.068999999999999,
          null,
          -33.34125,
          -33.34125,
          null,
          -33.34125,
          -3.068999999999999,
          null,
          -33.34125,
          -33.34125,
          null,
          -33.34125,
          -3.068999999999999,
          null,
          -33.34125,
          -3.068999999999999,
          null,
          -3.068999999999999,
          -3.068999999999999,
          null,
          -3.068999999999999,
          -3.068999999999999,
          null,
          -3.068999999999999,
          -3.068999999999999,
          null,
          -3.068999999999999,
          -3.068999999999999,
          null
         ],
         "y": [
          -62.076,
          -62.076,
          null,
          -62.076,
          62.076,
          null,
          -62.076,
          -62.076,
          null,
          -62.076,
          62.076,
          null,
          -62.076,
          -62.076,
          null,
          62.076,
          62.076,
          null,
          62.076,
          62.076,
          null,
          62.076,
          62.076,
          null,
          -62.076,
          -62.076,
          null,
          -62.076,
          62.076,
          null,
          -62.076,
          62.076,
          null,
          62.076,
          62.076,
          null
         ],
         "z": [
          2.4619999999999997,
          64.538,
          null,
          2.4619999999999997,
          2.4619999999999997,
          null,
          2.4619999999999997,
          2.4619999999999997,
          null,
          64.538,
          64.538,
          null,
          64.538,
          64.538,
          null,
          2.4619999999999997,
          64.538,
          null,
          2.4619999999999997,
          2.4619999999999997,
          null,
          64.538,
          64.538,
          null,
          2.4619999999999997,
          64.538,
          null,
          2.4619999999999997,
          2.4619999999999997,
          null,
          64.538,
          64.538,
          null,
          2.4619999999999997,
          64.538,
          null
         ]
        },
        {
         "hovertemplate": "x: %{x}<br>y: %{y}<br>z: %{z}",
         "legendgroup": "group_1737428288.3255467",
         "line": {
          "color": "rgba(0, 0, 0, 0.15)",
          "width": 5
         },
         "mode": "lines",
         "name": "Detector",
         "showlegend": false,
         "type": "scatter3d",
         "x": [
          -63.931,
          -63.931,
          null,
          -63.931,
          -63.931,
          null,
          -63.931,
          -33.65875,
          null,
          -63.931,
          -63.931,
          null,
          -63.931,
          -33.65875,
          null,
          -63.931,
          -63.931,
          null,
          -63.931,
          -33.65875,
          null,
          -63.931,
          -33.65875,
          null,
          -33.65875,
          -33.65875,
          null,
          -33.65875,
          -33.65875,
          null,
          -33.65875,
          -33.65875,
          null,
          -33.65875,
          -33.65875,
          null
         ],
         "y": [
          -62.076,
          -62.076,
          null,
          -62.076,
          62.076,
          null,
          -62.076,
          -62.076,
          null,
          -62.076,
          62.076,
          null,
          -62.076,
          -62.076,
          null,
          62.076,
          62.076,
          null,
          62.076,
          62.076,
          null,
          62.076,
          62.076,
          null,
          -62.076,
          -62.076,
          null,
          -62.076,
          62.076,
          null,
          -62.076,
          62.076,
          null,
          62.076,
          62.076,
          null
         ],
         "z": [
          2.4619999999999997,
          64.538,
          null,
          2.4619999999999997,
          2.4619999999999997,
          null,
          2.4619999999999997,
          2.4619999999999997,
          null,
          64.538,
          64.538,
          null,
          64.538,
          64.538,
          null,
          2.4619999999999997,
          64.538,
          null,
          2.4619999999999997,
          2.4619999999999997,
          null,
          64.538,
          64.538,
          null,
          2.4619999999999997,
          64.538,
          null,
          2.4619999999999997,
          2.4619999999999997,
          null,
          64.538,
          64.538,
          null,
          2.4619999999999997,
          64.538,
          null
         ]
        },
        {
         "hovertemplate": "x: %{x}<br>y: %{y}<br>z: %{z}",
         "legendgroup": "group_1737428288.3255467",
         "line": {
          "color": "rgba(0, 0, 0, 0.15)",
          "width": 5
         },
         "mode": "lines",
         "name": "Detector",
         "showlegend": false,
         "type": "scatter3d",
         "x": [
          -33.34125,
          -33.34125,
          null,
          -33.34125,
          -33.34125,
          null,
          -33.34125,
          -3.068999999999999,
          null,
          -33.34125,
          -33.34125,
          null,
          -33.34125,
          -3.068999999999999,
          null,
          -33.34125,
          -33.34125,
          null,
          -33.34125,
          -3.068999999999999,
          null,
          -33.34125,
          -3.068999999999999,
          null,
          -3.068999999999999,
          -3.068999999999999,
          null,
          -3.068999999999999,
          -3.068999999999999,
          null,
          -3.068999999999999,
          -3.068999999999999,
          null,
          -3.068999999999999,
          -3.068999999999999,
          null
         ],
         "y": [
          -62.076,
          -62.076,
          null,
          -62.076,
          62.076,
          null,
          -62.076,
          -62.076,
          null,
          -62.076,
          62.076,
          null,
          -62.076,
          -62.076,
          null,
          62.076,
          62.076,
          null,
          62.076,
          62.076,
          null,
          62.076,
          62.076,
          null,
          -62.076,
          -62.076,
          null,
          -62.076,
          62.076,
          null,
          -62.076,
          62.076,
          null,
          62.076,
          62.076,
          null
         ],
         "z": [
          -64.538,
          -2.4620000000000033,
          null,
          -64.538,
          -64.538,
          null,
          -64.538,
          -64.538,
          null,
          -2.4620000000000033,
          -2.4620000000000033,
          null,
          -2.4620000000000033,
          -2.4620000000000033,
          null,
          -64.538,
          -2.4620000000000033,
          null,
          -64.538,
          -64.538,
          null,
          -2.4620000000000033,
          -2.4620000000000033,
          null,
          -64.538,
          -2.4620000000000033,
          null,
          -64.538,
          -64.538,
          null,
          -2.4620000000000033,
          -2.4620000000000033,
          null,
          -64.538,
          -2.4620000000000033,
          null
         ]
        },
        {
         "hovertemplate": "x: %{x}<br>y: %{y}<br>z: %{z}",
         "legendgroup": "group_1737428288.3255467",
         "line": {
          "color": "rgba(0, 0, 0, 0.15)",
          "width": 5
         },
         "mode": "lines",
         "name": "Detector",
         "showlegend": false,
         "type": "scatter3d",
         "x": [
          -63.931,
          -63.931,
          null,
          -63.931,
          -63.931,
          null,
          -63.931,
          -33.65875,
          null,
          -63.931,
          -63.931,
          null,
          -63.931,
          -33.65875,
          null,
          -63.931,
          -63.931,
          null,
          -63.931,
          -33.65875,
          null,
          -63.931,
          -33.65875,
          null,
          -33.65875,
          -33.65875,
          null,
          -33.65875,
          -33.65875,
          null,
          -33.65875,
          -33.65875,
          null,
          -33.65875,
          -33.65875,
          null
         ],
         "y": [
          -62.076,
          -62.076,
          null,
          -62.076,
          62.076,
          null,
          -62.076,
          -62.076,
          null,
          -62.076,
          62.076,
          null,
          -62.076,
          -62.076,
          null,
          62.076,
          62.076,
          null,
          62.076,
          62.076,
          null,
          62.076,
          62.076,
          null,
          -62.076,
          -62.076,
          null,
          -62.076,
          62.076,
          null,
          -62.076,
          62.076,
          null,
          62.076,
          62.076,
          null
         ],
         "z": [
          -64.538,
          -2.4620000000000033,
          null,
          -64.538,
          -64.538,
          null,
          -64.538,
          -64.538,
          null,
          -2.4620000000000033,
          -2.4620000000000033,
          null,
          -2.4620000000000033,
          -2.4620000000000033,
          null,
          -64.538,
          -2.4620000000000033,
          null,
          -64.538,
          -64.538,
          null,
          -2.4620000000000033,
          -2.4620000000000033,
          null,
          -64.538,
          -2.4620000000000033,
          null,
          -64.538,
          -64.538,
          null,
          -2.4620000000000033,
          -2.4620000000000033,
          null,
          -64.538,
          -2.4620000000000033,
          null
         ]
        }
       ],
       "layout": {
        "height": 800,
        "hoverlabel": {
         "font": {
          "family": "Droid sans, monospace"
         }
        },
        "legend": {
         "itemsizing": "constant",
         "title": {
          "text": "Legend"
         },
         "tracegroupgap": 1
        },
        "margin": {
         "b": 0,
         "l": 0,
         "r": 0,
         "t": 0
        },
        "scene": {
         "aspectmode": "manual",
         "aspectratio": {
          "x": 0.9905946884006321,
          "y": 0.961851932194986,
          "z": 1
         },
         "camera": {
          "center": {
           "x": 0,
           "y": -0.1,
           "z": -0.01
          },
          "eye": {
           "x": -2,
           "y": 1,
           "z": -0.01
          },
          "up": {
           "x": 0,
           "y": 1,
           "z": 0
          }
         },
         "xaxis": {
          "backgroundcolor": "white",
          "gridcolor": "lightgray",
          "nticks": 10,
          "range": [
           -76.71719999999999,
           76.71719999999999
          ],
          "showbackground": true,
          "showticklabels": true,
          "tickfont": {
           "size": 14
          },
          "title": {
           "font": {
            "size": 20
           },
           "text": "x [cm]"
          },
          "type": "linear"
         },
         "yaxis": {
          "backgroundcolor": "white",
          "gridcolor": "lightgray",
          "nticks": 10,
          "range": [
           -74.4912,
           74.4912
          ],
          "showbackground": true,
          "showticklabels": true,
          "tickfont": {
           "size": 14
          },
          "title": {
           "font": {
            "size": 20
           },
           "text": "y [cm]"
          },
          "type": "linear"
         },
         "zaxis": {
          "backgroundcolor": "white",
          "gridcolor": "lightgray",
          "nticks": 10,
          "range": [
           -77.4456,
           77.4456
          ],
          "showbackground": true,
          "showticklabels": true,
          "tickfont": {
           "size": 14
          },
          "title": {
           "font": {
            "size": 20
           },
           "text": "z [cm]"
          },
          "type": "linear"
         }
        },
        "scene2": {
         "aspectmode": "manual",
         "aspectratio": {
          "x": 0.9905946884006321,
          "y": 0.961851932194986,
          "z": 1
         },
         "camera": {
          "center": {
           "x": 0,
           "y": -0.1,
           "z": -0.01
          },
          "eye": {
           "x": -2,
           "y": 1,
           "z": -0.01
          },
          "up": {
           "x": 0,
           "y": 1,
           "z": 0
          }
         },
         "xaxis": {
          "backgroundcolor": "white",
          "gridcolor": "lightgray",
          "nticks": 10,
          "range": [
           -76.71719999999999,
           76.71719999999999
          ],
          "showbackground": true,
          "showticklabels": true,
          "tickfont": {
           "size": 14
          },
          "title": {
           "font": {
            "size": 20
           },
           "text": "x [cm]"
          }
         },
         "yaxis": {
          "backgroundcolor": "white",
          "gridcolor": "lightgray",
          "nticks": 10,
          "range": [
           -74.4912,
           74.4912
          ],
          "showbackground": true,
          "showticklabels": true,
          "tickfont": {
           "size": 14
          },
          "title": {
           "font": {
            "size": 20
           },
           "text": "y [cm]"
          }
         },
         "zaxis": {
          "backgroundcolor": "white",
          "gridcolor": "lightgray",
          "nticks": 10,
          "range": [
           -77.4456,
           77.4456
          ],
          "showbackground": true,
          "showticklabels": true,
          "tickfont": {
           "size": 14
          },
          "title": {
           "font": {
            "size": 20
           },
           "text": "z [cm]"
          }
         }
        },
        "scene3": {
         "aspectmode": "manual",
         "aspectratio": {
          "x": 0.9905946884006321,
          "y": 0.961851932194986,
          "z": 1
         },
         "camera": {
          "center": {
           "x": 0,
           "y": -0.1,
           "z": -0.01
          },
          "eye": {
           "x": -2,
           "y": 1,
           "z": -0.01
          },
          "up": {
           "x": 0,
           "y": 1,
           "z": 0
          }
         },
         "xaxis": {
          "backgroundcolor": "white",
          "gridcolor": "lightgray",
          "nticks": 10,
          "range": [
           -76.71719999999999,
           76.71719999999999
          ],
          "showbackground": true,
          "showticklabels": true,
          "tickfont": {
           "size": 14
          },
          "title": {
           "font": {
            "size": 20
           },
           "text": "x [cm]"
          }
         },
         "yaxis": {
          "backgroundcolor": "white",
          "gridcolor": "lightgray",
          "nticks": 10,
          "range": [
           -74.4912,
           74.4912
          ],
          "showbackground": true,
          "showticklabels": true,
          "tickfont": {
           "size": 14
          },
          "title": {
           "font": {
            "size": 20
           },
           "text": "y [cm]"
          }
         },
         "zaxis": {
          "backgroundcolor": "white",
          "gridcolor": "lightgray",
          "nticks": 10,
          "range": [
           -77.4456,
           77.4456
          ],
          "showbackground": true,
          "showticklabels": true,
          "tickfont": {
           "size": 14
          },
          "title": {
           "font": {
            "size": 20
           },
           "text": "z [cm]"
          }
         }
        },
        "showlegend": true,
        "template": {
         "data": {
          "bar": [
           {
            "error_x": {
             "color": "#2a3f5f"
            },
            "error_y": {
             "color": "#2a3f5f"
            },
            "marker": {
             "line": {
              "color": "#E5ECF6",
              "width": 0.5
             },
             "pattern": {
              "fillmode": "overlay",
              "size": 10,
              "solidity": 0.2
             }
            },
            "type": "bar"
           }
          ],
          "barpolar": [
           {
            "marker": {
             "line": {
              "color": "#E5ECF6",
              "width": 0.5
             },
             "pattern": {
              "fillmode": "overlay",
              "size": 10,
              "solidity": 0.2
             }
            },
            "type": "barpolar"
           }
          ],
          "carpet": [
           {
            "aaxis": {
             "endlinecolor": "#2a3f5f",
             "gridcolor": "white",
             "linecolor": "white",
             "minorgridcolor": "white",
             "startlinecolor": "#2a3f5f"
            },
            "baxis": {
             "endlinecolor": "#2a3f5f",
             "gridcolor": "white",
             "linecolor": "white",
             "minorgridcolor": "white",
             "startlinecolor": "#2a3f5f"
            },
            "type": "carpet"
           }
          ],
          "choropleth": [
           {
            "colorbar": {
             "outlinewidth": 0,
             "ticks": ""
            },
            "type": "choropleth"
           }
          ],
          "contour": [
           {
            "colorbar": {
             "outlinewidth": 0,
             "ticks": ""
            },
            "colorscale": [
             [
              0,
              "#0d0887"
             ],
             [
              0.1111111111111111,
              "#46039f"
             ],
             [
              0.2222222222222222,
              "#7201a8"
             ],
             [
              0.3333333333333333,
              "#9c179e"
             ],
             [
              0.4444444444444444,
              "#bd3786"
             ],
             [
              0.5555555555555556,
              "#d8576b"
             ],
             [
              0.6666666666666666,
              "#ed7953"
             ],
             [
              0.7777777777777778,
              "#fb9f3a"
             ],
             [
              0.8888888888888888,
              "#fdca26"
             ],
             [
              1,
              "#f0f921"
             ]
            ],
            "type": "contour"
           }
          ],
          "contourcarpet": [
           {
            "colorbar": {
             "outlinewidth": 0,
             "ticks": ""
            },
            "type": "contourcarpet"
           }
          ],
          "heatmap": [
           {
            "colorbar": {
             "outlinewidth": 0,
             "ticks": ""
            },
            "colorscale": [
             [
              0,
              "#0d0887"
             ],
             [
              0.1111111111111111,
              "#46039f"
             ],
             [
              0.2222222222222222,
              "#7201a8"
             ],
             [
              0.3333333333333333,
              "#9c179e"
             ],
             [
              0.4444444444444444,
              "#bd3786"
             ],
             [
              0.5555555555555556,
              "#d8576b"
             ],
             [
              0.6666666666666666,
              "#ed7953"
             ],
             [
              0.7777777777777778,
              "#fb9f3a"
             ],
             [
              0.8888888888888888,
              "#fdca26"
             ],
             [
              1,
              "#f0f921"
             ]
            ],
            "type": "heatmap"
           }
          ],
          "heatmapgl": [
           {
            "colorbar": {
             "outlinewidth": 0,
             "ticks": ""
            },
            "colorscale": [
             [
              0,
              "#0d0887"
             ],
             [
              0.1111111111111111,
              "#46039f"
             ],
             [
              0.2222222222222222,
              "#7201a8"
             ],
             [
              0.3333333333333333,
              "#9c179e"
             ],
             [
              0.4444444444444444,
              "#bd3786"
             ],
             [
              0.5555555555555556,
              "#d8576b"
             ],
             [
              0.6666666666666666,
              "#ed7953"
             ],
             [
              0.7777777777777778,
              "#fb9f3a"
             ],
             [
              0.8888888888888888,
              "#fdca26"
             ],
             [
              1,
              "#f0f921"
             ]
            ],
            "type": "heatmapgl"
           }
          ],
          "histogram": [
           {
            "marker": {
             "pattern": {
              "fillmode": "overlay",
              "size": 10,
              "solidity": 0.2
             }
            },
            "type": "histogram"
           }
          ],
          "histogram2d": [
           {
            "colorbar": {
             "outlinewidth": 0,
             "ticks": ""
            },
            "colorscale": [
             [
              0,
              "#0d0887"
             ],
             [
              0.1111111111111111,
              "#46039f"
             ],
             [
              0.2222222222222222,
              "#7201a8"
             ],
             [
              0.3333333333333333,
              "#9c179e"
             ],
             [
              0.4444444444444444,
              "#bd3786"
             ],
             [
              0.5555555555555556,
              "#d8576b"
             ],
             [
              0.6666666666666666,
              "#ed7953"
             ],
             [
              0.7777777777777778,
              "#fb9f3a"
             ],
             [
              0.8888888888888888,
              "#fdca26"
             ],
             [
              1,
              "#f0f921"
             ]
            ],
            "type": "histogram2d"
           }
          ],
          "histogram2dcontour": [
           {
            "colorbar": {
             "outlinewidth": 0,
             "ticks": ""
            },
            "colorscale": [
             [
              0,
              "#0d0887"
             ],
             [
              0.1111111111111111,
              "#46039f"
             ],
             [
              0.2222222222222222,
              "#7201a8"
             ],
             [
              0.3333333333333333,
              "#9c179e"
             ],
             [
              0.4444444444444444,
              "#bd3786"
             ],
             [
              0.5555555555555556,
              "#d8576b"
             ],
             [
              0.6666666666666666,
              "#ed7953"
             ],
             [
              0.7777777777777778,
              "#fb9f3a"
             ],
             [
              0.8888888888888888,
              "#fdca26"
             ],
             [
              1,
              "#f0f921"
             ]
            ],
            "type": "histogram2dcontour"
           }
          ],
          "mesh3d": [
           {
            "colorbar": {
             "outlinewidth": 0,
             "ticks": ""
            },
            "type": "mesh3d"
           }
          ],
          "parcoords": [
           {
            "line": {
             "colorbar": {
              "outlinewidth": 0,
              "ticks": ""
             }
            },
            "type": "parcoords"
           }
          ],
          "pie": [
           {
            "automargin": true,
            "type": "pie"
           }
          ],
          "scatter": [
           {
            "fillpattern": {
             "fillmode": "overlay",
             "size": 10,
             "solidity": 0.2
            },
            "type": "scatter"
           }
          ],
          "scatter3d": [
           {
            "line": {
             "colorbar": {
              "outlinewidth": 0,
              "ticks": ""
             }
            },
            "marker": {
             "colorbar": {
              "outlinewidth": 0,
              "ticks": ""
             }
            },
            "type": "scatter3d"
           }
          ],
          "scattercarpet": [
           {
            "marker": {
             "colorbar": {
              "outlinewidth": 0,
              "ticks": ""
             }
            },
            "type": "scattercarpet"
           }
          ],
          "scattergeo": [
           {
            "marker": {
             "colorbar": {
              "outlinewidth": 0,
              "ticks": ""
             }
            },
            "type": "scattergeo"
           }
          ],
          "scattergl": [
           {
            "marker": {
             "colorbar": {
              "outlinewidth": 0,
              "ticks": ""
             }
            },
            "type": "scattergl"
           }
          ],
          "scattermapbox": [
           {
            "marker": {
             "colorbar": {
              "outlinewidth": 0,
              "ticks": ""
             }
            },
            "type": "scattermapbox"
           }
          ],
          "scatterpolar": [
           {
            "marker": {
             "colorbar": {
              "outlinewidth": 0,
              "ticks": ""
             }
            },
            "type": "scatterpolar"
           }
          ],
          "scatterpolargl": [
           {
            "marker": {
             "colorbar": {
              "outlinewidth": 0,
              "ticks": ""
             }
            },
            "type": "scatterpolargl"
           }
          ],
          "scatterternary": [
           {
            "marker": {
             "colorbar": {
              "outlinewidth": 0,
              "ticks": ""
             }
            },
            "type": "scatterternary"
           }
          ],
          "surface": [
           {
            "colorbar": {
             "outlinewidth": 0,
             "ticks": ""
            },
            "colorscale": [
             [
              0,
              "#0d0887"
             ],
             [
              0.1111111111111111,
              "#46039f"
             ],
             [
              0.2222222222222222,
              "#7201a8"
             ],
             [
              0.3333333333333333,
              "#9c179e"
             ],
             [
              0.4444444444444444,
              "#bd3786"
             ],
             [
              0.5555555555555556,
              "#d8576b"
             ],
             [
              0.6666666666666666,
              "#ed7953"
             ],
             [
              0.7777777777777778,
              "#fb9f3a"
             ],
             [
              0.8888888888888888,
              "#fdca26"
             ],
             [
              1,
              "#f0f921"
             ]
            ],
            "type": "surface"
           }
          ],
          "table": [
           {
            "cells": {
             "fill": {
              "color": "#EBF0F8"
             },
             "line": {
              "color": "white"
             }
            },
            "header": {
             "fill": {
              "color": "#C8D4E3"
             },
             "line": {
              "color": "white"
             }
            },
            "type": "table"
           }
          ]
         },
         "layout": {
          "annotationdefaults": {
           "arrowcolor": "#2a3f5f",
           "arrowhead": 0,
           "arrowwidth": 1
          },
          "autotypenumbers": "strict",
          "coloraxis": {
           "colorbar": {
            "outlinewidth": 0,
            "ticks": ""
           }
          },
          "colorscale": {
           "diverging": [
            [
             0,
             "#8e0152"
            ],
            [
             0.1,
             "#c51b7d"
            ],
            [
             0.2,
             "#de77ae"
            ],
            [
             0.3,
             "#f1b6da"
            ],
            [
             0.4,
             "#fde0ef"
            ],
            [
             0.5,
             "#f7f7f7"
            ],
            [
             0.6,
             "#e6f5d0"
            ],
            [
             0.7,
             "#b8e186"
            ],
            [
             0.8,
             "#7fbc41"
            ],
            [
             0.9,
             "#4d9221"
            ],
            [
             1,
             "#276419"
            ]
           ],
           "sequential": [
            [
             0,
             "#0d0887"
            ],
            [
             0.1111111111111111,
             "#46039f"
            ],
            [
             0.2222222222222222,
             "#7201a8"
            ],
            [
             0.3333333333333333,
             "#9c179e"
            ],
            [
             0.4444444444444444,
             "#bd3786"
            ],
            [
             0.5555555555555556,
             "#d8576b"
            ],
            [
             0.6666666666666666,
             "#ed7953"
            ],
            [
             0.7777777777777778,
             "#fb9f3a"
            ],
            [
             0.8888888888888888,
             "#fdca26"
            ],
            [
             1,
             "#f0f921"
            ]
           ],
           "sequentialminus": [
            [
             0,
             "#0d0887"
            ],
            [
             0.1111111111111111,
             "#46039f"
            ],
            [
             0.2222222222222222,
             "#7201a8"
            ],
            [
             0.3333333333333333,
             "#9c179e"
            ],
            [
             0.4444444444444444,
             "#bd3786"
            ],
            [
             0.5555555555555556,
             "#d8576b"
            ],
            [
             0.6666666666666666,
             "#ed7953"
            ],
            [
             0.7777777777777778,
             "#fb9f3a"
            ],
            [
             0.8888888888888888,
             "#fdca26"
            ],
            [
             1,
             "#f0f921"
            ]
           ]
          },
          "colorway": [
           "#636efa",
           "#EF553B",
           "#00cc96",
           "#ab63fa",
           "#FFA15A",
           "#19d3f3",
           "#FF6692",
           "#B6E880",
           "#FF97FF",
           "#FECB52"
          ],
          "font": {
           "color": "#2a3f5f"
          },
          "geo": {
           "bgcolor": "white",
           "lakecolor": "white",
           "landcolor": "#E5ECF6",
           "showlakes": true,
           "showland": true,
           "subunitcolor": "white"
          },
          "hoverlabel": {
           "align": "left"
          },
          "hovermode": "closest",
          "mapbox": {
           "style": "light"
          },
          "paper_bgcolor": "white",
          "plot_bgcolor": "#E5ECF6",
          "polar": {
           "angularaxis": {
            "gridcolor": "white",
            "linecolor": "white",
            "ticks": ""
           },
           "bgcolor": "#E5ECF6",
           "radialaxis": {
            "gridcolor": "white",
            "linecolor": "white",
            "ticks": ""
           }
          },
          "scene": {
           "xaxis": {
            "backgroundcolor": "#E5ECF6",
            "gridcolor": "white",
            "gridwidth": 2,
            "linecolor": "white",
            "showbackground": true,
            "ticks": "",
            "zerolinecolor": "white"
           },
           "yaxis": {
            "backgroundcolor": "#E5ECF6",
            "gridcolor": "white",
            "gridwidth": 2,
            "linecolor": "white",
            "showbackground": true,
            "ticks": "",
            "zerolinecolor": "white"
           },
           "zaxis": {
            "backgroundcolor": "#E5ECF6",
            "gridcolor": "white",
            "gridwidth": 2,
            "linecolor": "white",
            "showbackground": true,
            "ticks": "",
            "zerolinecolor": "white"
           }
          },
          "shapedefaults": {
           "line": {
            "color": "#2a3f5f"
           }
          },
          "ternary": {
           "aaxis": {
            "gridcolor": "white",
            "linecolor": "white",
            "ticks": ""
           },
           "baxis": {
            "gridcolor": "white",
            "linecolor": "white",
            "ticks": ""
           },
           "bgcolor": "#E5ECF6",
           "caxis": {
            "gridcolor": "white",
            "linecolor": "white",
            "ticks": ""
           }
          },
          "title": {
           "x": 0.05
          },
          "xaxis": {
           "automargin": true,
           "gridcolor": "white",
           "linecolor": "white",
           "ticks": "",
           "title": {
            "standoff": 15
           },
           "zerolinecolor": "white",
           "zerolinewidth": 2
          },
          "yaxis": {
           "automargin": true,
           "gridcolor": "white",
           "linecolor": "white",
           "ticks": "",
           "title": {
            "standoff": 15
           },
           "zerolinecolor": "white",
           "zerolinewidth": 2
          }
         }
        },
        "width": 800
       }
      },
      "text/html": [
       "<div>                            <div id=\"c66f4b8b-3151-4344-aebe-22c8a60856db\" class=\"plotly-graph-div\" style=\"height:800px; width:800px;\"></div>            <script type=\"text/javascript\">                require([\"plotly\"], function(Plotly) {                    window.PLOTLYENV=window.PLOTLYENV || {};                                    if (document.getElementById(\"c66f4b8b-3151-4344-aebe-22c8a60856db\")) {                    Plotly.newPlot(                        \"c66f4b8b-3151-4344-aebe-22c8a60856db\",                        [{\"hovertemplate\":\"x: %{x}\\u003cbr\\u003ey: %{y}\\u003cbr\\u003ez: %{z}\\u003cbr\\u003e%{text}\",\"marker\":{\"cmax\":6,\"cmin\":-1,\"color\":[1,1,1,1,1,1,1,1,1,1],\"colorscale\":[[0.0,\"#808080\"],[0.14285714285714285,\"#636EFA\"],[0.2857142857142857,\"#EF553B\"],[0.42857142857142855,\"#00CC96\"],[0.5714285714285714,\"#AB63FA\"],[0.7142857142857143,\"#FFA15A\"],[0.8571428571428571,\"#19D3F3\"],[1.0,\"#FF6692\"]],\"size\":2},\"mode\":\"markers\",\"name\":\"Reco particle 0\",\"showlegend\":true,\"text\":[\"Particle 0\\u003cbr\\u003ePid: 1\",\"Particle 0\\u003cbr\\u003ePid: 1\",\"Particle 0\\u003cbr\\u003ePid: 1\",\"Particle 0\\u003cbr\\u003ePid: 1\",\"Particle 0\\u003cbr\\u003ePid: 1\",\"Particle 0\\u003cbr\\u003ePid: 1\",\"Particle 0\\u003cbr\\u003ePid: 1\",\"Particle 0\\u003cbr\\u003ePid: 1\",\"Particle 0\\u003cbr\\u003ePid: 1\",\"Particle 0\\u003cbr\\u003ePid: 1\"],\"x\":[49.43910217285156,49.88249969482422,50.325897216796875,49.88249969482422,50.325897216796875,49.88249969482422,50.325897216796875,50.76929473876953,50.325897216796875,50.325897216796875],\"y\":[-48.10890197753906,-48.10890197753906,-48.10890197753906,-47.665504455566406,-47.665504455566406,-47.665504455566406,-47.665504455566406,-47.665504455566406,-47.22209930419922,-47.22209930419922],\"z\":[54.316497802734375,54.316497802734375,54.316497802734375,54.316497802734375,54.316497802734375,54.75989532470703,54.75989532470703,54.75989532470703,54.75989532470703,55.20330047607422],\"type\":\"scatter3d\"},{\"hovertemplate\":\"x: %{x}\\u003cbr\\u003ey: %{y}\\u003cbr\\u003ez: %{z}\\u003cbr\\u003e%{text}\",\"marker\":{\"cmax\":6,\"cmin\":-1,\"color\":[2,2,2,2,2,2,2,2,2,2,2,2,2,2,2,2,2,2,2,2,2,2,2,2,2,2,2,2,2,2,2,2,2,2,2,2,2,2,2,2,2,2,2,2,2,2,2,2,2,2,2,2,2,2,2,2,2,2,2,2,2,2,2,2,2,2,2,2,2,2,2,2,2,2,2,2,2,2,2,2,2,2,2,2,2,2,2,2,2,2,2,2,2,2,2,2,2,2,2,2,2,2,2,2,2,2,2,2,2,2,2,2,2,2,2,2,2,2,2,2,2,2,2,2,2,2,2,2,2,2,2,2,2,2,2,2,2,2,2,2,2,2,2],\"colorscale\":[[0.0,\"#808080\"],[0.14285714285714285,\"#636EFA\"],[0.2857142857142857,\"#EF553B\"],[0.42857142857142855,\"#00CC96\"],[0.5714285714285714,\"#AB63FA\"],[0.7142857142857143,\"#FFA15A\"],[0.8571428571428571,\"#19D3F3\"],[1.0,\"#FF6692\"]],\"size\":2},\"mode\":\"markers\",\"name\":\"Reco particle 1\",\"showlegend\":true,\"text\":[\"Particle 1\\u003cbr\\u003ePid: 2\",\"Particle 1\\u003cbr\\u003ePid: 2\",\"Particle 1\\u003cbr\\u003ePid: 2\",\"Particle 1\\u003cbr\\u003ePid: 2\",\"Particle 1\\u003cbr\\u003ePid: 2\",\"Particle 1\\u003cbr\\u003ePid: 2\",\"Particle 1\\u003cbr\\u003ePid: 2\",\"Particle 1\\u003cbr\\u003ePid: 2\",\"Particle 1\\u003cbr\\u003ePid: 2\",\"Particle 1\\u003cbr\\u003ePid: 2\",\"Particle 1\\u003cbr\\u003ePid: 2\",\"Particle 1\\u003cbr\\u003ePid: 2\",\"Particle 1\\u003cbr\\u003ePid: 2\",\"Particle 1\\u003cbr\\u003ePid: 2\",\"Particle 1\\u003cbr\\u003ePid: 2\",\"Particle 1\\u003cbr\\u003ePid: 2\",\"Particle 1\\u003cbr\\u003ePid: 2\",\"Particle 1\\u003cbr\\u003ePid: 2\",\"Particle 1\\u003cbr\\u003ePid: 2\",\"Particle 1\\u003cbr\\u003ePid: 2\",\"Particle 1\\u003cbr\\u003ePid: 2\",\"Particle 1\\u003cbr\\u003ePid: 2\",\"Particle 1\\u003cbr\\u003ePid: 2\",\"Particle 1\\u003cbr\\u003ePid: 2\",\"Particle 1\\u003cbr\\u003ePid: 2\",\"Particle 1\\u003cbr\\u003ePid: 2\",\"Particle 1\\u003cbr\\u003ePid: 2\",\"Particle 1\\u003cbr\\u003ePid: 2\",\"Particle 1\\u003cbr\\u003ePid: 2\",\"Particle 1\\u003cbr\\u003ePid: 2\",\"Particle 1\\u003cbr\\u003ePid: 2\",\"Particle 1\\u003cbr\\u003ePid: 2\",\"Particle 1\\u003cbr\\u003ePid: 2\",\"Particle 1\\u003cbr\\u003ePid: 2\",\"Particle 1\\u003cbr\\u003ePid: 2\",\"Particle 1\\u003cbr\\u003ePid: 2\",\"Particle 1\\u003cbr\\u003ePid: 2\",\"Particle 1\\u003cbr\\u003ePid: 2\",\"Particle 1\\u003cbr\\u003ePid: 2\",\"Particle 1\\u003cbr\\u003ePid: 2\",\"Particle 1\\u003cbr\\u003ePid: 2\",\"Particle 1\\u003cbr\\u003ePid: 2\",\"Particle 1\\u003cbr\\u003ePid: 2\",\"Particle 1\\u003cbr\\u003ePid: 2\",\"Particle 1\\u003cbr\\u003ePid: 2\",\"Particle 1\\u003cbr\\u003ePid: 2\",\"Particle 1\\u003cbr\\u003ePid: 2\",\"Particle 1\\u003cbr\\u003ePid: 2\",\"Particle 1\\u003cbr\\u003ePid: 2\",\"Particle 1\\u003cbr\\u003ePid: 2\",\"Particle 1\\u003cbr\\u003ePid: 2\",\"Particle 1\\u003cbr\\u003ePid: 2\",\"Particle 1\\u003cbr\\u003ePid: 2\",\"Particle 1\\u003cbr\\u003ePid: 2\",\"Particle 1\\u003cbr\\u003ePid: 2\",\"Particle 1\\u003cbr\\u003ePid: 2\",\"Particle 1\\u003cbr\\u003ePid: 2\",\"Particle 1\\u003cbr\\u003ePid: 2\",\"Particle 1\\u003cbr\\u003ePid: 2\",\"Particle 1\\u003cbr\\u003ePid: 2\",\"Particle 1\\u003cbr\\u003ePid: 2\",\"Particle 1\\u003cbr\\u003ePid: 2\",\"Particle 1\\u003cbr\\u003ePid: 2\",\"Particle 1\\u003cbr\\u003ePid: 2\",\"Particle 1\\u003cbr\\u003ePid: 2\",\"Particle 1\\u003cbr\\u003ePid: 2\",\"Particle 1\\u003cbr\\u003ePid: 2\",\"Particle 1\\u003cbr\\u003ePid: 2\",\"Particle 1\\u003cbr\\u003ePid: 2\",\"Particle 1\\u003cbr\\u003ePid: 2\",\"Particle 1\\u003cbr\\u003ePid: 2\",\"Particle 1\\u003cbr\\u003ePid: 2\",\"Particle 1\\u003cbr\\u003ePid: 2\",\"Particle 1\\u003cbr\\u003ePid: 2\",\"Particle 1\\u003cbr\\u003ePid: 2\",\"Particle 1\\u003cbr\\u003ePid: 2\",\"Particle 1\\u003cbr\\u003ePid: 2\",\"Particle 1\\u003cbr\\u003ePid: 2\",\"Particle 1\\u003cbr\\u003ePid: 2\",\"Particle 1\\u003cbr\\u003ePid: 2\",\"Particle 1\\u003cbr\\u003ePid: 2\",\"Particle 1\\u003cbr\\u003ePid: 2\",\"Particle 1\\u003cbr\\u003ePid: 2\",\"Particle 1\\u003cbr\\u003ePid: 2\",\"Particle 1\\u003cbr\\u003ePid: 2\",\"Particle 1\\u003cbr\\u003ePid: 2\",\"Particle 1\\u003cbr\\u003ePid: 2\",\"Particle 1\\u003cbr\\u003ePid: 2\",\"Particle 1\\u003cbr\\u003ePid: 2\",\"Particle 1\\u003cbr\\u003ePid: 2\",\"Particle 1\\u003cbr\\u003ePid: 2\",\"Particle 1\\u003cbr\\u003ePid: 2\",\"Particle 1\\u003cbr\\u003ePid: 2\",\"Particle 1\\u003cbr\\u003ePid: 2\",\"Particle 1\\u003cbr\\u003ePid: 2\",\"Particle 1\\u003cbr\\u003ePid: 2\",\"Particle 1\\u003cbr\\u003ePid: 2\",\"Particle 1\\u003cbr\\u003ePid: 2\",\"Particle 1\\u003cbr\\u003ePid: 2\",\"Particle 1\\u003cbr\\u003ePid: 2\",\"Particle 1\\u003cbr\\u003ePid: 2\",\"Particle 1\\u003cbr\\u003ePid: 2\",\"Particle 1\\u003cbr\\u003ePid: 2\",\"Particle 1\\u003cbr\\u003ePid: 2\",\"Particle 1\\u003cbr\\u003ePid: 2\",\"Particle 1\\u003cbr\\u003ePid: 2\",\"Particle 1\\u003cbr\\u003ePid: 2\",\"Particle 1\\u003cbr\\u003ePid: 2\",\"Particle 1\\u003cbr\\u003ePid: 2\",\"Particle 1\\u003cbr\\u003ePid: 2\",\"Particle 1\\u003cbr\\u003ePid: 2\",\"Particle 1\\u003cbr\\u003ePid: 2\",\"Particle 1\\u003cbr\\u003ePid: 2\",\"Particle 1\\u003cbr\\u003ePid: 2\",\"Particle 1\\u003cbr\\u003ePid: 2\",\"Particle 1\\u003cbr\\u003ePid: 2\",\"Particle 1\\u003cbr\\u003ePid: 2\",\"Particle 1\\u003cbr\\u003ePid: 2\",\"Particle 1\\u003cbr\\u003ePid: 2\",\"Particle 1\\u003cbr\\u003ePid: 2\",\"Particle 1\\u003cbr\\u003ePid: 2\",\"Particle 1\\u003cbr\\u003ePid: 2\",\"Particle 1\\u003cbr\\u003ePid: 2\",\"Particle 1\\u003cbr\\u003ePid: 2\",\"Particle 1\\u003cbr\\u003ePid: 2\",\"Particle 1\\u003cbr\\u003ePid: 2\",\"Particle 1\\u003cbr\\u003ePid: 2\",\"Particle 1\\u003cbr\\u003ePid: 2\",\"Particle 1\\u003cbr\\u003ePid: 2\",\"Particle 1\\u003cbr\\u003ePid: 2\",\"Particle 1\\u003cbr\\u003ePid: 2\",\"Particle 1\\u003cbr\\u003ePid: 2\",\"Particle 1\\u003cbr\\u003ePid: 2\",\"Particle 1\\u003cbr\\u003ePid: 2\",\"Particle 1\\u003cbr\\u003ePid: 2\",\"Particle 1\\u003cbr\\u003ePid: 2\",\"Particle 1\\u003cbr\\u003ePid: 2\",\"Particle 1\\u003cbr\\u003ePid: 2\",\"Particle 1\\u003cbr\\u003ePid: 2\",\"Particle 1\\u003cbr\\u003ePid: 2\",\"Particle 1\\u003cbr\\u003ePid: 2\",\"Particle 1\\u003cbr\\u003ePid: 2\",\"Particle 1\\u003cbr\\u003ePid: 2\"],\"x\":[25.052101135253906,24.60869598388672,24.60869598388672,24.60869598388672,24.165298461914062,25.052101135253906,24.60869598388672,25.052101135253906,24.60869598388672,25.052101135253906,25.495498657226562,24.60869598388672,24.60869598388672,24.60869598388672,24.165298461914062,24.165298461914062,25.052101135253906,24.165298461914062,24.165298461914062,24.60869598388672,25.052101135253906,24.165298461914062,23.721900939941406,24.165298461914062,24.60869598388672,24.165298461914062,24.60869598388672,23.27849578857422,24.165298461914062,24.60869598388672,25.052101135253906,23.721900939941406,23.721900939941406,24.60869598388672,25.052101135253906,23.27849578857422,23.27849578857422,23.721900939941406,25.052101135253906,23.27849578857422,23.721900939941406,24.165298461914062,24.60869598388672,23.721900939941406,24.165298461914062,25.052101135253906,23.721900939941406,24.165298461914062,24.60869598388672,24.165298461914062,23.721900939941406,24.165298461914062,24.60869598388672,24.165298461914062,24.165298461914062,24.165298461914062,23.721900939941406,24.60869598388672,24.165298461914062,24.165298461914062,24.60869598388672,24.165298461914062,24.165298461914062,24.165298461914062,24.60869598388672,23.721900939941406,24.165298461914062,24.165298461914062,24.165298461914062,24.165298461914062,24.165298461914062,24.165298461914062,23.721900939941406,23.721900939941406,23.721900939941406,24.165298461914062,24.60869598388672,23.721900939941406,24.165298461914062,24.165298461914062,23.721900939941406,24.165298461914062,23.721900939941406,24.165298461914062,23.721900939941406,24.165298461914062,23.721900939941406,24.165298461914062,23.721900939941406,23.721900939941406,23.721900939941406,23.721900939941406,23.721900939941406,23.721900939941406,23.27849578857422,23.721900939941406,23.721900939941406,23.27849578857422,23.27849578857422,23.721900939941406,23.27849578857422,23.721900939941406,23.721900939941406,23.721900939941406,23.721900939941406,23.27849578857422,23.721900939941406,23.27849578857422,23.27849578857422,23.27849578857422,23.27849578857422,23.27849578857422,23.27849578857422,23.27849578857422,23.721900939941406,23.27849578857422,23.721900939941406,22.835098266601562,23.27849578857422,23.27849578857422,22.835098266601562,23.721900939941406,23.27849578857422,22.835098266601562,23.27849578857422,22.835098266601562,23.27849578857422,23.27849578857422,23.27849578857422,23.721900939941406,23.27849578857422,23.27849578857422,23.27849578857422,23.27849578857422,23.27849578857422,23.27849578857422,23.27849578857422,22.835098266601562,23.27849578857422,22.835098266601562,23.27849578857422,23.27849578857422,24.165298461914062],\"y\":[33.033294677734375,33.033294677734375,33.033294677734375,33.033294677734375,33.033294677734375,33.033294677734375,33.47669982910156,33.47669982910156,33.47669982910156,33.47669982910156,33.47669982910156,33.92009735107422,33.47669982910156,33.92009735107422,33.47669982910156,33.92009735107422,33.92009735107422,33.47669982910156,33.92009735107422,33.92009735107422,33.92009735107422,34.363494873046875,33.47669982910156,33.47669982910156,33.47669982910156,33.92009735107422,33.92009735107422,33.92009735107422,33.92009735107422,33.92009735107422,33.92009735107422,34.363494873046875,33.47669982910156,33.92009735107422,33.92009735107422,34.363494873046875,34.80690002441406,33.92009735107422,33.92009735107422,34.363494873046875,34.363494873046875,34.363494873046875,34.363494873046875,34.80690002441406,33.92009735107422,33.92009735107422,34.363494873046875,34.363494873046875,34.363494873046875,34.80690002441406,33.92009735107422,34.363494873046875,34.363494873046875,34.363494873046875,34.363494873046875,34.80690002441406,34.80690002441406,34.80690002441406,34.80690002441406,34.80690002441406,34.80690002441406,35.25029754638672,34.80690002441406,35.25029754638672,35.25029754638672,35.25029754638672,35.25029754638672,35.25029754638672,35.25029754638672,35.25029754638672,35.693695068359375,35.693695068359375,35.693695068359375,36.13710021972656,35.693695068359375,35.693695068359375,35.693695068359375,36.13710021972656,35.693695068359375,36.13710021972656,36.13710021972656,36.13710021972656,36.13710021972656,36.13710021972656,36.13710021972656,36.13710021972656,36.13710021972656,36.13710021972656,36.58049774169922,36.13710021972656,36.58049774169922,36.58049774169922,36.58049774169922,37.023895263671875,37.023895263671875,37.023895263671875,37.023895263671875,36.58049774169922,37.023895263671875,37.023895263671875,37.023895263671875,37.023895263671875,37.023895263671875,37.46730041503906,37.46730041503906,37.46730041503906,37.46730041503906,37.46730041503906,37.46730041503906,37.46730041503906,37.91069793701172,37.46730041503906,37.91069793701172,37.91069793701172,37.91069793701172,37.91069793701172,37.91069793701172,37.91069793701172,37.91069793701172,38.354095458984375,37.91069793701172,37.91069793701172,38.354095458984375,38.354095458984375,38.354095458984375,38.354095458984375,38.354095458984375,38.354095458984375,38.79750061035156,38.79750061035156,38.79750061035156,38.79750061035156,38.79750061035156,38.79750061035156,39.24089813232422,39.24089813232422,39.24089813232422,39.24089813232422,39.24089813232422,39.24089813232422,39.24089813232422,39.24089813232422,38.354095458984375],\"z\":[31.25969696044922,31.703102111816406,32.14649963378906,32.58989715576172,33.033302307128906,33.033302307128906,33.033302307128906,33.033302307128906,33.47669982910156,33.92009735107422,34.363502502441406,34.363502502441406,34.80690002441406,34.80690002441406,35.25029754638672,35.25029754638672,35.25029754638672,35.693695068359375,35.693695068359375,35.693695068359375,35.693695068359375,35.693695068359375,36.13710021972656,36.13710021972656,36.13710021972656,36.13710021972656,36.13710021972656,36.58049774169922,36.58049774169922,36.58049774169922,36.58049774169922,36.58049774169922,37.023895263671875,37.023895263671875,37.023895263671875,37.023895263671875,37.023895263671875,37.46730041503906,37.46730041503906,37.46730041503906,37.46730041503906,37.46730041503906,37.46730041503906,37.46730041503906,37.91069793701172,37.91069793701172,37.91069793701172,37.91069793701172,37.91069793701172,37.91069793701172,38.354095458984375,38.354095458984375,38.354095458984375,38.79750061035156,39.24089813232422,39.684295654296875,40.12770080566406,40.12770080566406,40.57109832763672,41.014495849609375,41.014495849609375,41.014495849609375,41.45790100097656,41.90129852294922,41.90129852294922,42.344696044921875,42.344696044921875,42.78810119628906,43.23149871826172,43.674896240234375,43.674896240234375,44.11830139160156,44.56169891357422,44.56169891357422,45.005096435546875,45.005096435546875,45.005096435546875,45.005096435546875,45.44850158691406,45.89189910888672,46.335296630859375,46.335296630859375,46.77870178222656,46.77870178222656,47.22209930419922,47.22209930419922,47.665496826171875,47.665496826171875,47.665496826171875,48.10890197753906,48.55229949951172,48.995697021484375,49.43910217285156,49.88249969482422,50.325897216796875,50.325897216796875,50.76929473876953,51.21269989013672,51.21269989013672,51.21269989013672,51.656097412109375,51.656097412109375,52.09949493408203,52.54290008544922,52.986297607421875,53.42969512939453,53.42969512939453,53.87310028076172,54.316497802734375,54.75989532470703,54.75989532470703,55.20330047607422,55.20330047607422,55.646697998046875,55.646697998046875,56.09009552001953,56.09009552001953,56.53350067138672,56.53350067138672,56.53350067138672,56.976898193359375,56.976898193359375,57.42030334472656,57.86369323730469,57.86369323730469,58.307098388671875,58.307098388671875,59.19389343261719,59.637298583984375,60.08070373535156,60.52409362792969,60.967498779296875,61.41090393066406,61.85429382324219,62.297698974609375,62.74110412597656,63.18449401855469,63.627899169921875,63.627899169921875,64.07130432128906,64.07130432128906,64.51469421386719,58.75050354003906],\"type\":\"scatter3d\"},{\"hovertemplate\":\"x: %{x}\\u003cbr\\u003ey: %{y}\\u003cbr\\u003ez: %{z}\\u003cbr\\u003e%{text}\",\"marker\":{\"cmax\":6,\"cmin\":-1,\"color\":[4,4,4,4,4,4,4,4,4,4,4,4,4,4,4,4,4,4,4,4,4,4,4,4,4,4,4,4,4,4,4,4,4,4,4,4,4,4,4,4,4,4,4,4,4,4,4,4,4,4,4,4,4,4,4,4,4,4,4,4,4,4,4,4,4,4,4,4,4,4,4,4,4,4,4,4,4,4,4,4],\"colorscale\":[[0.0,\"#808080\"],[0.14285714285714285,\"#636EFA\"],[0.2857142857142857,\"#EF553B\"],[0.42857142857142855,\"#00CC96\"],[0.5714285714285714,\"#AB63FA\"],[0.7142857142857143,\"#FFA15A\"],[0.8571428571428571,\"#19D3F3\"],[1.0,\"#FF6692\"]],\"size\":2},\"mode\":\"markers\",\"name\":\"Reco particle 2\",\"showlegend\":true,\"text\":[\"Particle 2\\u003cbr\\u003ePid: 4\",\"Particle 2\\u003cbr\\u003ePid: 4\",\"Particle 2\\u003cbr\\u003ePid: 4\",\"Particle 2\\u003cbr\\u003ePid: 4\",\"Particle 2\\u003cbr\\u003ePid: 4\",\"Particle 2\\u003cbr\\u003ePid: 4\",\"Particle 2\\u003cbr\\u003ePid: 4\",\"Particle 2\\u003cbr\\u003ePid: 4\",\"Particle 2\\u003cbr\\u003ePid: 4\",\"Particle 2\\u003cbr\\u003ePid: 4\",\"Particle 2\\u003cbr\\u003ePid: 4\",\"Particle 2\\u003cbr\\u003ePid: 4\",\"Particle 2\\u003cbr\\u003ePid: 4\",\"Particle 2\\u003cbr\\u003ePid: 4\",\"Particle 2\\u003cbr\\u003ePid: 4\",\"Particle 2\\u003cbr\\u003ePid: 4\",\"Particle 2\\u003cbr\\u003ePid: 4\",\"Particle 2\\u003cbr\\u003ePid: 4\",\"Particle 2\\u003cbr\\u003ePid: 4\",\"Particle 2\\u003cbr\\u003ePid: 4\",\"Particle 2\\u003cbr\\u003ePid: 4\",\"Particle 2\\u003cbr\\u003ePid: 4\",\"Particle 2\\u003cbr\\u003ePid: 4\",\"Particle 2\\u003cbr\\u003ePid: 4\",\"Particle 2\\u003cbr\\u003ePid: 4\",\"Particle 2\\u003cbr\\u003ePid: 4\",\"Particle 2\\u003cbr\\u003ePid: 4\",\"Particle 2\\u003cbr\\u003ePid: 4\",\"Particle 2\\u003cbr\\u003ePid: 4\",\"Particle 2\\u003cbr\\u003ePid: 4\",\"Particle 2\\u003cbr\\u003ePid: 4\",\"Particle 2\\u003cbr\\u003ePid: 4\",\"Particle 2\\u003cbr\\u003ePid: 4\",\"Particle 2\\u003cbr\\u003ePid: 4\",\"Particle 2\\u003cbr\\u003ePid: 4\",\"Particle 2\\u003cbr\\u003ePid: 4\",\"Particle 2\\u003cbr\\u003ePid: 4\",\"Particle 2\\u003cbr\\u003ePid: 4\",\"Particle 2\\u003cbr\\u003ePid: 4\",\"Particle 2\\u003cbr\\u003ePid: 4\",\"Particle 2\\u003cbr\\u003ePid: 4\",\"Particle 2\\u003cbr\\u003ePid: 4\",\"Particle 2\\u003cbr\\u003ePid: 4\",\"Particle 2\\u003cbr\\u003ePid: 4\",\"Particle 2\\u003cbr\\u003ePid: 4\",\"Particle 2\\u003cbr\\u003ePid: 4\",\"Particle 2\\u003cbr\\u003ePid: 4\",\"Particle 2\\u003cbr\\u003ePid: 4\",\"Particle 2\\u003cbr\\u003ePid: 4\",\"Particle 2\\u003cbr\\u003ePid: 4\",\"Particle 2\\u003cbr\\u003ePid: 4\",\"Particle 2\\u003cbr\\u003ePid: 4\",\"Particle 2\\u003cbr\\u003ePid: 4\",\"Particle 2\\u003cbr\\u003ePid: 4\",\"Particle 2\\u003cbr\\u003ePid: 4\",\"Particle 2\\u003cbr\\u003ePid: 4\",\"Particle 2\\u003cbr\\u003ePid: 4\",\"Particle 2\\u003cbr\\u003ePid: 4\",\"Particle 2\\u003cbr\\u003ePid: 4\",\"Particle 2\\u003cbr\\u003ePid: 4\",\"Particle 2\\u003cbr\\u003ePid: 4\",\"Particle 2\\u003cbr\\u003ePid: 4\",\"Particle 2\\u003cbr\\u003ePid: 4\",\"Particle 2\\u003cbr\\u003ePid: 4\",\"Particle 2\\u003cbr\\u003ePid: 4\",\"Particle 2\\u003cbr\\u003ePid: 4\",\"Particle 2\\u003cbr\\u003ePid: 4\",\"Particle 2\\u003cbr\\u003ePid: 4\",\"Particle 2\\u003cbr\\u003ePid: 4\",\"Particle 2\\u003cbr\\u003ePid: 4\",\"Particle 2\\u003cbr\\u003ePid: 4\",\"Particle 2\\u003cbr\\u003ePid: 4\",\"Particle 2\\u003cbr\\u003ePid: 4\",\"Particle 2\\u003cbr\\u003ePid: 4\",\"Particle 2\\u003cbr\\u003ePid: 4\",\"Particle 2\\u003cbr\\u003ePid: 4\",\"Particle 2\\u003cbr\\u003ePid: 4\",\"Particle 2\\u003cbr\\u003ePid: 4\",\"Particle 2\\u003cbr\\u003ePid: 4\",\"Particle 2\\u003cbr\\u003ePid: 4\"],\"x\":[16.62750244140625,17.070899963378906,17.070899963378906,17.514297485351562,17.95770263671875,17.070899963378906,17.070899963378906,17.514297485351562,17.95770263671875,16.184097290039062,17.514297485351562,17.070899963378906,17.514297485351562,17.95770263671875,16.62750244140625,17.070899963378906,17.95770263671875,16.62750244140625,17.514297485351562,16.62750244140625,17.070899963378906,15.740699768066406,17.070899963378906,17.514297485351562,17.95770263671875,16.62750244140625,17.514297485351562,15.740699768066406,16.62750244140625,17.514297485351562,17.95770263671875,16.184097290039062,17.070899963378906,17.514297485351562,17.95770263671875,17.070899963378906,17.070899963378906,16.184097290039062,17.070899963378906,17.514297485351562,17.95770263671875,16.184097290039062,17.070899963378906,16.184097290039062,16.62750244140625,16.62750244140625,17.514297485351562,16.62750244140625,17.070899963378906,17.514297485351562,17.070899963378906,15.740699768066406,16.62750244140625,16.184097290039062,16.62750244140625,17.070899963378906,17.514297485351562,17.514297485351562,17.070899963378906,16.184097290039062,17.070899963378906,15.740699768066406,16.62750244140625,17.514297485351562,17.95770263671875,16.184097290039062,15.740699768066406,16.62750244140625,16.62750244140625,17.070899963378906,17.514297485351562,15.740699768066406,16.62750244140625,17.514297485351562,15.740699768066406,16.62750244140625,17.514297485351562,17.070899963378906,17.514297485351562,16.184097290039062],\"y\":[29.92949676513672,29.486099243164062,29.92949676513672,29.92949676513672,29.92949676513672,30.372894287109375,29.92949676513672,29.92949676513672,29.92949676513672,30.372894287109375,30.372894287109375,29.92949676513672,30.372894287109375,30.372894287109375,30.816299438476562,30.372894287109375,30.372894287109375,30.816299438476562,30.816299438476562,31.25969696044922,30.372894287109375,30.816299438476562,30.816299438476562,30.816299438476562,30.816299438476562,31.25969696044922,31.25969696044922,30.816299438476562,30.816299438476562,30.816299438476562,30.816299438476562,31.25969696044922,31.25969696044922,31.25969696044922,31.25969696044922,31.703094482421875,30.816299438476562,31.25969696044922,31.25969696044922,31.25969696044922,31.25969696044922,31.703094482421875,31.703094482421875,30.372894287109375,30.816299438476562,31.25969696044922,31.25969696044922,31.703094482421875,31.703094482421875,31.703094482421875,32.14649963378906,31.25969696044922,31.25969696044922,31.703094482421875,31.703094482421875,31.703094482421875,31.703094482421875,32.14649963378906,32.58989715576172,31.703094482421875,31.703094482421875,32.14649963378906,32.14649963378906,32.14649963378906,32.14649963378906,32.58989715576172,31.703094482421875,31.703094482421875,32.14649963378906,32.14649963378906,32.14649963378906,32.58989715576172,32.58989715576172,32.58989715576172,31.703094482421875,32.14649963378906,32.14649963378906,32.58989715576172,32.58989715576172,33.033294677734375],\"z\":[54.75989532470703,55.20330047607422,55.20330047607422,55.20330047607422,55.20330047607422,55.20330047607422,55.646697998046875,55.646697998046875,55.646697998046875,55.646697998046875,55.646697998046875,56.09009552001953,56.09009552001953,56.09009552001953,56.09009552001953,56.53350067138672,56.53350067138672,56.53350067138672,56.53350067138672,56.53350067138672,56.976898193359375,56.976898193359375,56.976898193359375,56.976898193359375,56.976898193359375,56.976898193359375,56.976898193359375,57.42030334472656,57.42030334472656,57.42030334472656,57.42030334472656,57.42030334472656,57.42030334472656,57.42030334472656,57.42030334472656,57.42030334472656,57.86369323730469,57.86369323730469,57.86369323730469,57.86369323730469,57.86369323730469,57.86369323730469,57.86369323730469,58.307098388671875,58.307098388671875,58.307098388671875,58.307098388671875,58.307098388671875,58.307098388671875,58.307098388671875,58.307098388671875,58.75050354003906,58.75050354003906,58.75050354003906,58.75050354003906,58.75050354003906,58.75050354003906,58.75050354003906,58.75050354003906,59.19389343261719,59.19389343261719,59.19389343261719,59.19389343261719,59.19389343261719,59.19389343261719,59.19389343261719,59.637298583984375,59.637298583984375,59.637298583984375,59.637298583984375,59.637298583984375,59.637298583984375,59.637298583984375,59.637298583984375,60.08070373535156,60.08070373535156,60.08070373535156,60.08070373535156,60.08070373535156,60.08070373535156],\"type\":\"scatter3d\"},{\"hovertemplate\":\"x: %{x}\\u003cbr\\u003ey: %{y}\\u003cbr\\u003ez: %{z}\\u003cbr\\u003e%{text}\",\"marker\":{\"cmax\":6,\"cmin\":-1,\"color\":[5,5,5,5,5,5,5,5,5,5,5,5,5,5,5,5,5,5,5,5,5,5,5,5,5,5,5,5,5,5,5,5,5,5,5,5,5,5,5,5,5,5,5,5,5,5,5,5,5,5,5,5,5,5,5,5,5,5,5,5,5,5,5,5,5,5,5,5,5,5,5,5,5,5,5,5,5,5,5,5],\"colorscale\":[[0.0,\"#808080\"],[0.14285714285714285,\"#636EFA\"],[0.2857142857142857,\"#EF553B\"],[0.42857142857142855,\"#00CC96\"],[0.5714285714285714,\"#AB63FA\"],[0.7142857142857143,\"#FFA15A\"],[0.8571428571428571,\"#19D3F3\"],[1.0,\"#FF6692\"]],\"size\":2},\"mode\":\"markers\",\"name\":\"Reco particle 3\",\"showlegend\":true,\"text\":[\"Particle 3\\u003cbr\\u003ePid: 5\",\"Particle 3\\u003cbr\\u003ePid: 5\",\"Particle 3\\u003cbr\\u003ePid: 5\",\"Particle 3\\u003cbr\\u003ePid: 5\",\"Particle 3\\u003cbr\\u003ePid: 5\",\"Particle 3\\u003cbr\\u003ePid: 5\",\"Particle 3\\u003cbr\\u003ePid: 5\",\"Particle 3\\u003cbr\\u003ePid: 5\",\"Particle 3\\u003cbr\\u003ePid: 5\",\"Particle 3\\u003cbr\\u003ePid: 5\",\"Particle 3\\u003cbr\\u003ePid: 5\",\"Particle 3\\u003cbr\\u003ePid: 5\",\"Particle 3\\u003cbr\\u003ePid: 5\",\"Particle 3\\u003cbr\\u003ePid: 5\",\"Particle 3\\u003cbr\\u003ePid: 5\",\"Particle 3\\u003cbr\\u003ePid: 5\",\"Particle 3\\u003cbr\\u003ePid: 5\",\"Particle 3\\u003cbr\\u003ePid: 5\",\"Particle 3\\u003cbr\\u003ePid: 5\",\"Particle 3\\u003cbr\\u003ePid: 5\",\"Particle 3\\u003cbr\\u003ePid: 5\",\"Particle 3\\u003cbr\\u003ePid: 5\",\"Particle 3\\u003cbr\\u003ePid: 5\",\"Particle 3\\u003cbr\\u003ePid: 5\",\"Particle 3\\u003cbr\\u003ePid: 5\",\"Particle 3\\u003cbr\\u003ePid: 5\",\"Particle 3\\u003cbr\\u003ePid: 5\",\"Particle 3\\u003cbr\\u003ePid: 5\",\"Particle 3\\u003cbr\\u003ePid: 5\",\"Particle 3\\u003cbr\\u003ePid: 5\",\"Particle 3\\u003cbr\\u003ePid: 5\",\"Particle 3\\u003cbr\\u003ePid: 5\",\"Particle 3\\u003cbr\\u003ePid: 5\",\"Particle 3\\u003cbr\\u003ePid: 5\",\"Particle 3\\u003cbr\\u003ePid: 5\",\"Particle 3\\u003cbr\\u003ePid: 5\",\"Particle 3\\u003cbr\\u003ePid: 5\",\"Particle 3\\u003cbr\\u003ePid: 5\",\"Particle 3\\u003cbr\\u003ePid: 5\",\"Particle 3\\u003cbr\\u003ePid: 5\",\"Particle 3\\u003cbr\\u003ePid: 5\",\"Particle 3\\u003cbr\\u003ePid: 5\",\"Particle 3\\u003cbr\\u003ePid: 5\",\"Particle 3\\u003cbr\\u003ePid: 5\",\"Particle 3\\u003cbr\\u003ePid: 5\",\"Particle 3\\u003cbr\\u003ePid: 5\",\"Particle 3\\u003cbr\\u003ePid: 5\",\"Particle 3\\u003cbr\\u003ePid: 5\",\"Particle 3\\u003cbr\\u003ePid: 5\",\"Particle 3\\u003cbr\\u003ePid: 5\",\"Particle 3\\u003cbr\\u003ePid: 5\",\"Particle 3\\u003cbr\\u003ePid: 5\",\"Particle 3\\u003cbr\\u003ePid: 5\",\"Particle 3\\u003cbr\\u003ePid: 5\",\"Particle 3\\u003cbr\\u003ePid: 5\",\"Particle 3\\u003cbr\\u003ePid: 5\",\"Particle 3\\u003cbr\\u003ePid: 5\",\"Particle 3\\u003cbr\\u003ePid: 5\",\"Particle 3\\u003cbr\\u003ePid: 5\",\"Particle 3\\u003cbr\\u003ePid: 5\",\"Particle 3\\u003cbr\\u003ePid: 5\",\"Particle 3\\u003cbr\\u003ePid: 5\",\"Particle 3\\u003cbr\\u003ePid: 5\",\"Particle 3\\u003cbr\\u003ePid: 5\",\"Particle 3\\u003cbr\\u003ePid: 5\",\"Particle 3\\u003cbr\\u003ePid: 5\",\"Particle 3\\u003cbr\\u003ePid: 5\",\"Particle 3\\u003cbr\\u003ePid: 5\",\"Particle 3\\u003cbr\\u003ePid: 5\",\"Particle 3\\u003cbr\\u003ePid: 5\",\"Particle 3\\u003cbr\\u003ePid: 5\",\"Particle 3\\u003cbr\\u003ePid: 5\",\"Particle 3\\u003cbr\\u003ePid: 5\",\"Particle 3\\u003cbr\\u003ePid: 5\",\"Particle 3\\u003cbr\\u003ePid: 5\",\"Particle 3\\u003cbr\\u003ePid: 5\",\"Particle 3\\u003cbr\\u003ePid: 5\",\"Particle 3\\u003cbr\\u003ePid: 5\",\"Particle 3\\u003cbr\\u003ePid: 5\",\"Particle 3\\u003cbr\\u003ePid: 5\"],\"x\":[24.60869598388672,25.052101135253906,24.60869598388672,24.165298461914062,24.165298461914062,24.60869598388672,25.052101135253906,24.60869598388672,24.60869598388672,24.165298461914062,24.60869598388672,24.165298461914062,24.165298461914062,24.60869598388672,24.165298461914062,24.165298461914062,23.721900939941406,24.165298461914062,23.27849578857422,23.721900939941406,23.27849578857422,23.721900939941406,24.165298461914062,23.721900939941406,23.721900939941406,23.721900939941406,22.835098266601562,22.391700744628906,23.27849578857422,23.27849578857422,22.835098266601562,22.835098266601562,22.835098266601562,21.94829559326172,22.391700744628906,22.835098266601562,21.94829559326172,22.835098266601562,21.94829559326172,22.391700744628906,22.391700744628906,21.94829559326172,22.391700744628906,22.835098266601562,21.504898071289062,22.391700744628906,21.504898071289062,21.504898071289062,22.391700744628906,21.94829559326172,21.94829559326172,21.504898071289062,21.94829559326172,21.504898071289062,21.94829559326172,21.504898071289062,21.94829559326172,21.504898071289062,21.504898071289062,21.504898071289062,21.504898071289062,21.061500549316406,21.061500549316406,21.504898071289062,20.61809539794922,20.174697875976562,20.61809539794922,20.61809539794922,20.174697875976562,20.61809539794922,20.174697875976562,20.61809539794922,19.731300354003906,20.61809539794922,19.28789520263672,20.174697875976562,20.61809539794922,20.174697875976562,20.174697875976562,23.721900939941406],\"y\":[32.58989715576172,32.58989715576172,33.033294677734375,32.14649963378906,32.58989715576172,32.58989715576172,32.58989715576172,32.14649963378906,32.58989715576172,32.58989715576172,32.58989715576172,32.14649963378906,32.58989715576172,32.14649963378906,32.58989715576172,32.14649963378906,33.033294677734375,32.14649963378906,32.14649963378906,32.14649963378906,32.58989715576172,32.14649963378906,32.14649963378906,32.14649963378906,32.14649963378906,32.14649963378906,32.58989715576172,32.14649963378906,32.14649963378906,32.14649963378906,31.703094482421875,32.14649963378906,31.703094482421875,31.703094482421875,31.703094482421875,31.703094482421875,31.703094482421875,31.703094482421875,32.14649963378906,32.14649963378906,31.703094482421875,32.14649963378906,31.703094482421875,31.703094482421875,31.703094482421875,31.703094482421875,31.25969696044922,31.703094482421875,31.703094482421875,32.14649963378906,31.25969696044922,31.703094482421875,31.703094482421875,32.14649963378906,31.25969696044922,31.25969696044922,31.25969696044922,31.25969696044922,31.25969696044922,31.25969696044922,31.25969696044922,31.25969696044922,31.25969696044922,31.25969696044922,30.816299438476562,30.816299438476562,30.816299438476562,31.25969696044922,30.816299438476562,30.816299438476562,30.816299438476562,30.816299438476562,30.816299438476562,30.816299438476562,30.372894287109375,30.816299438476562,30.816299438476562,30.816299438476562,30.816299438476562,31.703094482421875],\"z\":[29.486099243164062,29.486099243164062,29.486099243164062,29.92949676513672,29.92949676513672,29.92949676513672,29.92949676513672,30.372901916503906,30.372901916503906,30.816299438476562,30.816299438476562,31.25969696044922,31.25969696044922,31.703102111816406,31.703102111816406,32.14649963378906,32.14649963378906,32.58989715576172,33.033302307128906,33.033302307128906,33.033302307128906,33.47669982910156,33.47669982910156,33.92009735107422,34.363502502441406,34.80690002441406,34.80690002441406,35.25029754638672,35.25029754638672,35.693695068359375,36.13710021972656,36.13710021972656,36.58049774169922,37.023895263671875,37.023895263671875,37.023895263671875,37.46730041503906,37.46730041503906,37.46730041503906,37.46730041503906,37.91069793701172,37.91069793701172,38.354095458984375,38.354095458984375,38.79750061035156,38.79750061035156,39.24089813232422,39.24089813232422,39.24089813232422,39.24089813232422,39.684295654296875,39.684295654296875,39.684295654296875,39.684295654296875,40.12770080566406,40.57109832763672,40.57109832763672,41.014495849609375,41.45790100097656,41.90129852294922,42.344696044921875,42.78810119628906,43.23149871826172,43.23149871826172,43.674896240234375,44.11830139160156,44.11830139160156,44.11830139160156,44.56169891357422,44.56169891357422,45.005096435546875,45.005096435546875,45.44850158691406,45.44850158691406,45.89189910888672,45.89189910888672,45.89189910888672,46.335296630859375,46.77870178222656,36.58049774169922],\"type\":\"scatter3d\"},{\"hovertemplate\":\"x: %{x}\\u003cbr\\u003ey: %{y}\\u003cbr\\u003ez: %{z}\\u003cbr\\u003e%{text}\",\"marker\":{\"color\":\"black\",\"size\":7,\"symbol\":\"circle\"},\"mode\":\"markers\",\"name\":\"Reco particle start point\",\"text\":[\"Particle 0 start point\",\"Particle 1 start point\",\"Particle 2 start point\",\"Particle 3 start point\"],\"x\":[50.325897216796875,25.052101135253906,16.62750244140625,25.052101135253906],\"y\":[-47.22209930419922,33.033294677734375,29.92949676513672,32.58989715576172],\"z\":[55.20330047607422,31.25969696044922,54.75989532470703,29.486099243164062],\"type\":\"scatter3d\"},{\"hovertemplate\":\"x: %{x}\\u003cbr\\u003ey: %{y}\\u003cbr\\u003ez: %{z}\\u003cbr\\u003e%{text}\",\"marker\":{\"color\":\"black\",\"size\":7,\"symbol\":\"circle-open\"},\"mode\":\"markers\",\"name\":\"Reco particle end point\",\"text\":[\"Particle 1 end point\",\"Particle 2 end point\",\"Particle 3 end point\"],\"x\":[23.27849578857422,16.184097290039062,20.174697875976562],\"y\":[39.24089813232422,33.033294677734375,30.816299438476562],\"z\":[64.51469421386719,60.08070373535156,46.77870178222656],\"type\":\"scatter3d\"},{\"hovertemplate\":\"x: %{x}\\u003cbr\\u003ey: %{y}\\u003cbr\\u003ez: %{z}\\u003cbr\\u003e%{text}\",\"marker\":{\"color\":\"green\",\"size\":10,\"symbol\":\"diamond\"},\"mode\":\"markers\",\"name\":\"Reco interaction vertex\",\"text\":[\"Interaction 0 vertex\",\"Interaction 1 vertex\",\"Interaction 2 vertex\",\"Interaction 3 vertex\"],\"x\":[35.693695068359375,4.2122955322265625,-19.731300354003906,25.052101135253906],\"y\":[-61.85430145263672,-18.401103973388672,-53.42970275878906,32.81159591674805],\"z\":[-9.97650146484375,-53.42970275878906,50.325897216796875,30.37289810180664],\"type\":\"scatter3d\"},{\"hovertemplate\":\"x: %{x}\\u003cbr\\u003ey: %{y}\\u003cbr\\u003ez: %{z}\",\"legendgroup\":\"group_1737428288.3255467\",\"line\":{\"color\":\"rgba(0,0,0,0.150)\",\"width\":5},\"mode\":\"lines\",\"name\":\"Detector\",\"showlegend\":true,\"x\":[33.65875,33.65875,null,33.65875,33.65875,null,33.65875,63.931,null,33.65875,33.65875,null,33.65875,63.931,null,33.65875,33.65875,null,33.65875,63.931,null,33.65875,63.931,null,63.931,63.931,null,63.931,63.931,null,63.931,63.931,null,63.931,63.931,null],\"y\":[-62.076,-62.076,null,-62.076,62.076,null,-62.076,-62.076,null,-62.076,62.076,null,-62.076,-62.076,null,62.076,62.076,null,62.076,62.076,null,62.076,62.076,null,-62.076,-62.076,null,-62.076,62.076,null,-62.076,62.076,null,62.076,62.076,null],\"z\":[2.4619999999999997,64.538,null,2.4619999999999997,2.4619999999999997,null,2.4619999999999997,2.4619999999999997,null,64.538,64.538,null,64.538,64.538,null,2.4619999999999997,64.538,null,2.4619999999999997,2.4619999999999997,null,64.538,64.538,null,2.4619999999999997,64.538,null,2.4619999999999997,2.4619999999999997,null,64.538,64.538,null,2.4619999999999997,64.538,null],\"type\":\"scatter3d\"},{\"hovertemplate\":\"x: %{x}\\u003cbr\\u003ey: %{y}\\u003cbr\\u003ez: %{z}\",\"legendgroup\":\"group_1737428288.3255467\",\"line\":{\"color\":\"rgba(0,0,0,0.150)\",\"width\":5},\"mode\":\"lines\",\"name\":\"Detector\",\"showlegend\":false,\"x\":[3.068999999999999,3.068999999999999,null,3.068999999999999,3.068999999999999,null,3.068999999999999,33.34125,null,3.068999999999999,3.068999999999999,null,3.068999999999999,33.34125,null,3.068999999999999,3.068999999999999,null,3.068999999999999,33.34125,null,3.068999999999999,33.34125,null,33.34125,33.34125,null,33.34125,33.34125,null,33.34125,33.34125,null,33.34125,33.34125,null],\"y\":[-62.076,-62.076,null,-62.076,62.076,null,-62.076,-62.076,null,-62.076,62.076,null,-62.076,-62.076,null,62.076,62.076,null,62.076,62.076,null,62.076,62.076,null,-62.076,-62.076,null,-62.076,62.076,null,-62.076,62.076,null,62.076,62.076,null],\"z\":[2.4619999999999997,64.538,null,2.4619999999999997,2.4619999999999997,null,2.4619999999999997,2.4619999999999997,null,64.538,64.538,null,64.538,64.538,null,2.4619999999999997,64.538,null,2.4619999999999997,2.4619999999999997,null,64.538,64.538,null,2.4619999999999997,64.538,null,2.4619999999999997,2.4619999999999997,null,64.538,64.538,null,2.4619999999999997,64.538,null],\"type\":\"scatter3d\"},{\"hovertemplate\":\"x: %{x}\\u003cbr\\u003ey: %{y}\\u003cbr\\u003ez: %{z}\",\"legendgroup\":\"group_1737428288.3255467\",\"line\":{\"color\":\"rgba(0,0,0,0.150)\",\"width\":5},\"mode\":\"lines\",\"name\":\"Detector\",\"showlegend\":false,\"x\":[33.65875,33.65875,null,33.65875,33.65875,null,33.65875,63.931,null,33.65875,33.65875,null,33.65875,63.931,null,33.65875,33.65875,null,33.65875,63.931,null,33.65875,63.931,null,63.931,63.931,null,63.931,63.931,null,63.931,63.931,null,63.931,63.931,null],\"y\":[-62.076,-62.076,null,-62.076,62.076,null,-62.076,-62.076,null,-62.076,62.076,null,-62.076,-62.076,null,62.076,62.076,null,62.076,62.076,null,62.076,62.076,null,-62.076,-62.076,null,-62.076,62.076,null,-62.076,62.076,null,62.076,62.076,null],\"z\":[-64.538,-2.4620000000000033,null,-64.538,-64.538,null,-64.538,-64.538,null,-2.4620000000000033,-2.4620000000000033,null,-2.4620000000000033,-2.4620000000000033,null,-64.538,-2.4620000000000033,null,-64.538,-64.538,null,-2.4620000000000033,-2.4620000000000033,null,-64.538,-2.4620000000000033,null,-64.538,-64.538,null,-2.4620000000000033,-2.4620000000000033,null,-64.538,-2.4620000000000033,null],\"type\":\"scatter3d\"},{\"hovertemplate\":\"x: %{x}\\u003cbr\\u003ey: %{y}\\u003cbr\\u003ez: %{z}\",\"legendgroup\":\"group_1737428288.3255467\",\"line\":{\"color\":\"rgba(0,0,0,0.150)\",\"width\":5},\"mode\":\"lines\",\"name\":\"Detector\",\"showlegend\":false,\"x\":[3.068999999999999,3.068999999999999,null,3.068999999999999,3.068999999999999,null,3.068999999999999,33.34125,null,3.068999999999999,3.068999999999999,null,3.068999999999999,33.34125,null,3.068999999999999,3.068999999999999,null,3.068999999999999,33.34125,null,3.068999999999999,33.34125,null,33.34125,33.34125,null,33.34125,33.34125,null,33.34125,33.34125,null,33.34125,33.34125,null],\"y\":[-62.076,-62.076,null,-62.076,62.076,null,-62.076,-62.076,null,-62.076,62.076,null,-62.076,-62.076,null,62.076,62.076,null,62.076,62.076,null,62.076,62.076,null,-62.076,-62.076,null,-62.076,62.076,null,-62.076,62.076,null,62.076,62.076,null],\"z\":[-64.538,-2.4620000000000033,null,-64.538,-64.538,null,-64.538,-64.538,null,-2.4620000000000033,-2.4620000000000033,null,-2.4620000000000033,-2.4620000000000033,null,-64.538,-2.4620000000000033,null,-64.538,-64.538,null,-2.4620000000000033,-2.4620000000000033,null,-64.538,-2.4620000000000033,null,-64.538,-64.538,null,-2.4620000000000033,-2.4620000000000033,null,-64.538,-2.4620000000000033,null],\"type\":\"scatter3d\"},{\"hovertemplate\":\"x: %{x}\\u003cbr\\u003ey: %{y}\\u003cbr\\u003ez: %{z}\",\"legendgroup\":\"group_1737428288.3255467\",\"line\":{\"color\":\"rgba(0,0,0,0.150)\",\"width\":5},\"mode\":\"lines\",\"name\":\"Detector\",\"showlegend\":false,\"x\":[-33.34125,-33.34125,null,-33.34125,-33.34125,null,-33.34125,-3.068999999999999,null,-33.34125,-33.34125,null,-33.34125,-3.068999999999999,null,-33.34125,-33.34125,null,-33.34125,-3.068999999999999,null,-33.34125,-3.068999999999999,null,-3.068999999999999,-3.068999999999999,null,-3.068999999999999,-3.068999999999999,null,-3.068999999999999,-3.068999999999999,null,-3.068999999999999,-3.068999999999999,null],\"y\":[-62.076,-62.076,null,-62.076,62.076,null,-62.076,-62.076,null,-62.076,62.076,null,-62.076,-62.076,null,62.076,62.076,null,62.076,62.076,null,62.076,62.076,null,-62.076,-62.076,null,-62.076,62.076,null,-62.076,62.076,null,62.076,62.076,null],\"z\":[2.4619999999999997,64.538,null,2.4619999999999997,2.4619999999999997,null,2.4619999999999997,2.4619999999999997,null,64.538,64.538,null,64.538,64.538,null,2.4619999999999997,64.538,null,2.4619999999999997,2.4619999999999997,null,64.538,64.538,null,2.4619999999999997,64.538,null,2.4619999999999997,2.4619999999999997,null,64.538,64.538,null,2.4619999999999997,64.538,null],\"type\":\"scatter3d\"},{\"hovertemplate\":\"x: %{x}\\u003cbr\\u003ey: %{y}\\u003cbr\\u003ez: %{z}\",\"legendgroup\":\"group_1737428288.3255467\",\"line\":{\"color\":\"rgba(0,0,0,0.150)\",\"width\":5},\"mode\":\"lines\",\"name\":\"Detector\",\"showlegend\":false,\"x\":[-63.931,-63.931,null,-63.931,-63.931,null,-63.931,-33.65875,null,-63.931,-63.931,null,-63.931,-33.65875,null,-63.931,-63.931,null,-63.931,-33.65875,null,-63.931,-33.65875,null,-33.65875,-33.65875,null,-33.65875,-33.65875,null,-33.65875,-33.65875,null,-33.65875,-33.65875,null],\"y\":[-62.076,-62.076,null,-62.076,62.076,null,-62.076,-62.076,null,-62.076,62.076,null,-62.076,-62.076,null,62.076,62.076,null,62.076,62.076,null,62.076,62.076,null,-62.076,-62.076,null,-62.076,62.076,null,-62.076,62.076,null,62.076,62.076,null],\"z\":[2.4619999999999997,64.538,null,2.4619999999999997,2.4619999999999997,null,2.4619999999999997,2.4619999999999997,null,64.538,64.538,null,64.538,64.538,null,2.4619999999999997,64.538,null,2.4619999999999997,2.4619999999999997,null,64.538,64.538,null,2.4619999999999997,64.538,null,2.4619999999999997,2.4619999999999997,null,64.538,64.538,null,2.4619999999999997,64.538,null],\"type\":\"scatter3d\"},{\"hovertemplate\":\"x: %{x}\\u003cbr\\u003ey: %{y}\\u003cbr\\u003ez: %{z}\",\"legendgroup\":\"group_1737428288.3255467\",\"line\":{\"color\":\"rgba(0,0,0,0.150)\",\"width\":5},\"mode\":\"lines\",\"name\":\"Detector\",\"showlegend\":false,\"x\":[-33.34125,-33.34125,null,-33.34125,-33.34125,null,-33.34125,-3.068999999999999,null,-33.34125,-33.34125,null,-33.34125,-3.068999999999999,null,-33.34125,-33.34125,null,-33.34125,-3.068999999999999,null,-33.34125,-3.068999999999999,null,-3.068999999999999,-3.068999999999999,null,-3.068999999999999,-3.068999999999999,null,-3.068999999999999,-3.068999999999999,null,-3.068999999999999,-3.068999999999999,null],\"y\":[-62.076,-62.076,null,-62.076,62.076,null,-62.076,-62.076,null,-62.076,62.076,null,-62.076,-62.076,null,62.076,62.076,null,62.076,62.076,null,62.076,62.076,null,-62.076,-62.076,null,-62.076,62.076,null,-62.076,62.076,null,62.076,62.076,null],\"z\":[-64.538,-2.4620000000000033,null,-64.538,-64.538,null,-64.538,-64.538,null,-2.4620000000000033,-2.4620000000000033,null,-2.4620000000000033,-2.4620000000000033,null,-64.538,-2.4620000000000033,null,-64.538,-64.538,null,-2.4620000000000033,-2.4620000000000033,null,-64.538,-2.4620000000000033,null,-64.538,-64.538,null,-2.4620000000000033,-2.4620000000000033,null,-64.538,-2.4620000000000033,null],\"type\":\"scatter3d\"},{\"hovertemplate\":\"x: %{x}\\u003cbr\\u003ey: %{y}\\u003cbr\\u003ez: %{z}\",\"legendgroup\":\"group_1737428288.3255467\",\"line\":{\"color\":\"rgba(0,0,0,0.150)\",\"width\":5},\"mode\":\"lines\",\"name\":\"Detector\",\"showlegend\":false,\"x\":[-63.931,-63.931,null,-63.931,-63.931,null,-63.931,-33.65875,null,-63.931,-63.931,null,-63.931,-33.65875,null,-63.931,-63.931,null,-63.931,-33.65875,null,-63.931,-33.65875,null,-33.65875,-33.65875,null,-33.65875,-33.65875,null,-33.65875,-33.65875,null,-33.65875,-33.65875,null],\"y\":[-62.076,-62.076,null,-62.076,62.076,null,-62.076,-62.076,null,-62.076,62.076,null,-62.076,-62.076,null,62.076,62.076,null,62.076,62.076,null,62.076,62.076,null,-62.076,-62.076,null,-62.076,62.076,null,-62.076,62.076,null,62.076,62.076,null],\"z\":[-64.538,-2.4620000000000033,null,-64.538,-64.538,null,-64.538,-64.538,null,-2.4620000000000033,-2.4620000000000033,null,-2.4620000000000033,-2.4620000000000033,null,-64.538,-2.4620000000000033,null,-64.538,-64.538,null,-2.4620000000000033,-2.4620000000000033,null,-64.538,-2.4620000000000033,null,-64.538,-64.538,null,-2.4620000000000033,-2.4620000000000033,null,-64.538,-2.4620000000000033,null],\"type\":\"scatter3d\"}],                        {\"height\":800,\"hoverlabel\":{\"font\":{\"family\":\"Droid sans, monospace\"}},\"legend\":{\"itemsizing\":\"constant\",\"title\":{\"text\":\"Legend\"},\"tracegroupgap\":1},\"margin\":{\"b\":0,\"l\":0,\"r\":0,\"t\":0},\"scene\":{\"aspectmode\":\"manual\",\"aspectratio\":{\"x\":0.9905946884006321,\"y\":0.961851932194986,\"z\":1.0},\"camera\":{\"center\":{\"x\":0.0,\"y\":-0.1,\"z\":-0.01},\"eye\":{\"x\":-2.0,\"y\":1.0,\"z\":-0.01},\"up\":{\"x\":0.0,\"y\":1.0,\"z\":0.0}},\"xaxis\":{\"backgroundcolor\":\"white\",\"gridcolor\":\"lightgray\",\"nticks\":10,\"range\":[-76.71719999999999,76.71719999999999],\"showbackground\":true,\"showticklabels\":true,\"tickfont\":{\"size\":14},\"title\":{\"font\":{\"size\":20},\"text\":\"x [cm]\"}},\"yaxis\":{\"backgroundcolor\":\"white\",\"gridcolor\":\"lightgray\",\"nticks\":10,\"range\":[-74.4912,74.4912],\"showbackground\":true,\"showticklabels\":true,\"tickfont\":{\"size\":14},\"title\":{\"font\":{\"size\":20},\"text\":\"y [cm]\"}},\"zaxis\":{\"backgroundcolor\":\"white\",\"gridcolor\":\"lightgray\",\"nticks\":10,\"range\":[-77.4456,77.4456],\"showbackground\":true,\"showticklabels\":true,\"tickfont\":{\"size\":14},\"title\":{\"font\":{\"size\":20},\"text\":\"z [cm]\"}}},\"showlegend\":true,\"width\":800,\"scene2\":{\"aspectmode\":\"manual\",\"aspectratio\":{\"x\":0.9905946884006321,\"y\":0.961851932194986,\"z\":1.0},\"camera\":{\"center\":{\"x\":0.0,\"y\":-0.1,\"z\":-0.01},\"eye\":{\"x\":-2.0,\"y\":1.0,\"z\":-0.01},\"up\":{\"x\":0.0,\"y\":1.0,\"z\":0.0}},\"xaxis\":{\"backgroundcolor\":\"white\",\"gridcolor\":\"lightgray\",\"nticks\":10,\"range\":[-76.71719999999999,76.71719999999999],\"showbackground\":true,\"showticklabels\":true,\"tickfont\":{\"size\":14},\"title\":{\"font\":{\"size\":20},\"text\":\"x [cm]\"}},\"yaxis\":{\"backgroundcolor\":\"white\",\"gridcolor\":\"lightgray\",\"nticks\":10,\"range\":[-74.4912,74.4912],\"showbackground\":true,\"showticklabels\":true,\"tickfont\":{\"size\":14},\"title\":{\"font\":{\"size\":20},\"text\":\"y [cm]\"}},\"zaxis\":{\"backgroundcolor\":\"white\",\"gridcolor\":\"lightgray\",\"nticks\":10,\"range\":[-77.4456,77.4456],\"showbackground\":true,\"showticklabels\":true,\"tickfont\":{\"size\":14},\"title\":{\"font\":{\"size\":20},\"text\":\"z [cm]\"}}},\"scene3\":{\"aspectmode\":\"manual\",\"aspectratio\":{\"x\":0.9905946884006321,\"y\":0.961851932194986,\"z\":1.0},\"camera\":{\"center\":{\"x\":0.0,\"y\":-0.1,\"z\":-0.01},\"eye\":{\"x\":-2.0,\"y\":1.0,\"z\":-0.01},\"up\":{\"x\":0.0,\"y\":1.0,\"z\":0.0}},\"xaxis\":{\"backgroundcolor\":\"white\",\"gridcolor\":\"lightgray\",\"nticks\":10,\"range\":[-76.71719999999999,76.71719999999999],\"showbackground\":true,\"showticklabels\":true,\"tickfont\":{\"size\":14},\"title\":{\"font\":{\"size\":20},\"text\":\"x [cm]\"}},\"yaxis\":{\"backgroundcolor\":\"white\",\"gridcolor\":\"lightgray\",\"nticks\":10,\"range\":[-74.4912,74.4912],\"showbackground\":true,\"showticklabels\":true,\"tickfont\":{\"size\":14},\"title\":{\"font\":{\"size\":20},\"text\":\"y [cm]\"}},\"zaxis\":{\"backgroundcolor\":\"white\",\"gridcolor\":\"lightgray\",\"nticks\":10,\"range\":[-77.4456,77.4456],\"showbackground\":true,\"showticklabels\":true,\"tickfont\":{\"size\":14},\"title\":{\"font\":{\"size\":20},\"text\":\"z [cm]\"}}},\"template\":{\"data\":{\"histogram2dcontour\":[{\"type\":\"histogram2dcontour\",\"colorbar\":{\"outlinewidth\":0,\"ticks\":\"\"},\"colorscale\":[[0.0,\"#0d0887\"],[0.1111111111111111,\"#46039f\"],[0.2222222222222222,\"#7201a8\"],[0.3333333333333333,\"#9c179e\"],[0.4444444444444444,\"#bd3786\"],[0.5555555555555556,\"#d8576b\"],[0.6666666666666666,\"#ed7953\"],[0.7777777777777778,\"#fb9f3a\"],[0.8888888888888888,\"#fdca26\"],[1.0,\"#f0f921\"]]}],\"choropleth\":[{\"type\":\"choropleth\",\"colorbar\":{\"outlinewidth\":0,\"ticks\":\"\"}}],\"histogram2d\":[{\"type\":\"histogram2d\",\"colorbar\":{\"outlinewidth\":0,\"ticks\":\"\"},\"colorscale\":[[0.0,\"#0d0887\"],[0.1111111111111111,\"#46039f\"],[0.2222222222222222,\"#7201a8\"],[0.3333333333333333,\"#9c179e\"],[0.4444444444444444,\"#bd3786\"],[0.5555555555555556,\"#d8576b\"],[0.6666666666666666,\"#ed7953\"],[0.7777777777777778,\"#fb9f3a\"],[0.8888888888888888,\"#fdca26\"],[1.0,\"#f0f921\"]]}],\"heatmap\":[{\"type\":\"heatmap\",\"colorbar\":{\"outlinewidth\":0,\"ticks\":\"\"},\"colorscale\":[[0.0,\"#0d0887\"],[0.1111111111111111,\"#46039f\"],[0.2222222222222222,\"#7201a8\"],[0.3333333333333333,\"#9c179e\"],[0.4444444444444444,\"#bd3786\"],[0.5555555555555556,\"#d8576b\"],[0.6666666666666666,\"#ed7953\"],[0.7777777777777778,\"#fb9f3a\"],[0.8888888888888888,\"#fdca26\"],[1.0,\"#f0f921\"]]}],\"heatmapgl\":[{\"type\":\"heatmapgl\",\"colorbar\":{\"outlinewidth\":0,\"ticks\":\"\"},\"colorscale\":[[0.0,\"#0d0887\"],[0.1111111111111111,\"#46039f\"],[0.2222222222222222,\"#7201a8\"],[0.3333333333333333,\"#9c179e\"],[0.4444444444444444,\"#bd3786\"],[0.5555555555555556,\"#d8576b\"],[0.6666666666666666,\"#ed7953\"],[0.7777777777777778,\"#fb9f3a\"],[0.8888888888888888,\"#fdca26\"],[1.0,\"#f0f921\"]]}],\"contourcarpet\":[{\"type\":\"contourcarpet\",\"colorbar\":{\"outlinewidth\":0,\"ticks\":\"\"}}],\"contour\":[{\"type\":\"contour\",\"colorbar\":{\"outlinewidth\":0,\"ticks\":\"\"},\"colorscale\":[[0.0,\"#0d0887\"],[0.1111111111111111,\"#46039f\"],[0.2222222222222222,\"#7201a8\"],[0.3333333333333333,\"#9c179e\"],[0.4444444444444444,\"#bd3786\"],[0.5555555555555556,\"#d8576b\"],[0.6666666666666666,\"#ed7953\"],[0.7777777777777778,\"#fb9f3a\"],[0.8888888888888888,\"#fdca26\"],[1.0,\"#f0f921\"]]}],\"surface\":[{\"type\":\"surface\",\"colorbar\":{\"outlinewidth\":0,\"ticks\":\"\"},\"colorscale\":[[0.0,\"#0d0887\"],[0.1111111111111111,\"#46039f\"],[0.2222222222222222,\"#7201a8\"],[0.3333333333333333,\"#9c179e\"],[0.4444444444444444,\"#bd3786\"],[0.5555555555555556,\"#d8576b\"],[0.6666666666666666,\"#ed7953\"],[0.7777777777777778,\"#fb9f3a\"],[0.8888888888888888,\"#fdca26\"],[1.0,\"#f0f921\"]]}],\"mesh3d\":[{\"type\":\"mesh3d\",\"colorbar\":{\"outlinewidth\":0,\"ticks\":\"\"}}],\"scatter\":[{\"fillpattern\":{\"fillmode\":\"overlay\",\"size\":10,\"solidity\":0.2},\"type\":\"scatter\"}],\"parcoords\":[{\"type\":\"parcoords\",\"line\":{\"colorbar\":{\"outlinewidth\":0,\"ticks\":\"\"}}}],\"scatterpolargl\":[{\"type\":\"scatterpolargl\",\"marker\":{\"colorbar\":{\"outlinewidth\":0,\"ticks\":\"\"}}}],\"bar\":[{\"error_x\":{\"color\":\"#2a3f5f\"},\"error_y\":{\"color\":\"#2a3f5f\"},\"marker\":{\"line\":{\"color\":\"#E5ECF6\",\"width\":0.5},\"pattern\":{\"fillmode\":\"overlay\",\"size\":10,\"solidity\":0.2}},\"type\":\"bar\"}],\"scattergeo\":[{\"type\":\"scattergeo\",\"marker\":{\"colorbar\":{\"outlinewidth\":0,\"ticks\":\"\"}}}],\"scatterpolar\":[{\"type\":\"scatterpolar\",\"marker\":{\"colorbar\":{\"outlinewidth\":0,\"ticks\":\"\"}}}],\"histogram\":[{\"marker\":{\"pattern\":{\"fillmode\":\"overlay\",\"size\":10,\"solidity\":0.2}},\"type\":\"histogram\"}],\"scattergl\":[{\"type\":\"scattergl\",\"marker\":{\"colorbar\":{\"outlinewidth\":0,\"ticks\":\"\"}}}],\"scatter3d\":[{\"type\":\"scatter3d\",\"line\":{\"colorbar\":{\"outlinewidth\":0,\"ticks\":\"\"}},\"marker\":{\"colorbar\":{\"outlinewidth\":0,\"ticks\":\"\"}}}],\"scattermapbox\":[{\"type\":\"scattermapbox\",\"marker\":{\"colorbar\":{\"outlinewidth\":0,\"ticks\":\"\"}}}],\"scatterternary\":[{\"type\":\"scatterternary\",\"marker\":{\"colorbar\":{\"outlinewidth\":0,\"ticks\":\"\"}}}],\"scattercarpet\":[{\"type\":\"scattercarpet\",\"marker\":{\"colorbar\":{\"outlinewidth\":0,\"ticks\":\"\"}}}],\"carpet\":[{\"aaxis\":{\"endlinecolor\":\"#2a3f5f\",\"gridcolor\":\"white\",\"linecolor\":\"white\",\"minorgridcolor\":\"white\",\"startlinecolor\":\"#2a3f5f\"},\"baxis\":{\"endlinecolor\":\"#2a3f5f\",\"gridcolor\":\"white\",\"linecolor\":\"white\",\"minorgridcolor\":\"white\",\"startlinecolor\":\"#2a3f5f\"},\"type\":\"carpet\"}],\"table\":[{\"cells\":{\"fill\":{\"color\":\"#EBF0F8\"},\"line\":{\"color\":\"white\"}},\"header\":{\"fill\":{\"color\":\"#C8D4E3\"},\"line\":{\"color\":\"white\"}},\"type\":\"table\"}],\"barpolar\":[{\"marker\":{\"line\":{\"color\":\"#E5ECF6\",\"width\":0.5},\"pattern\":{\"fillmode\":\"overlay\",\"size\":10,\"solidity\":0.2}},\"type\":\"barpolar\"}],\"pie\":[{\"automargin\":true,\"type\":\"pie\"}]},\"layout\":{\"autotypenumbers\":\"strict\",\"colorway\":[\"#636efa\",\"#EF553B\",\"#00cc96\",\"#ab63fa\",\"#FFA15A\",\"#19d3f3\",\"#FF6692\",\"#B6E880\",\"#FF97FF\",\"#FECB52\"],\"font\":{\"color\":\"#2a3f5f\"},\"hovermode\":\"closest\",\"hoverlabel\":{\"align\":\"left\"},\"paper_bgcolor\":\"white\",\"plot_bgcolor\":\"#E5ECF6\",\"polar\":{\"bgcolor\":\"#E5ECF6\",\"angularaxis\":{\"gridcolor\":\"white\",\"linecolor\":\"white\",\"ticks\":\"\"},\"radialaxis\":{\"gridcolor\":\"white\",\"linecolor\":\"white\",\"ticks\":\"\"}},\"ternary\":{\"bgcolor\":\"#E5ECF6\",\"aaxis\":{\"gridcolor\":\"white\",\"linecolor\":\"white\",\"ticks\":\"\"},\"baxis\":{\"gridcolor\":\"white\",\"linecolor\":\"white\",\"ticks\":\"\"},\"caxis\":{\"gridcolor\":\"white\",\"linecolor\":\"white\",\"ticks\":\"\"}},\"coloraxis\":{\"colorbar\":{\"outlinewidth\":0,\"ticks\":\"\"}},\"colorscale\":{\"sequential\":[[0.0,\"#0d0887\"],[0.1111111111111111,\"#46039f\"],[0.2222222222222222,\"#7201a8\"],[0.3333333333333333,\"#9c179e\"],[0.4444444444444444,\"#bd3786\"],[0.5555555555555556,\"#d8576b\"],[0.6666666666666666,\"#ed7953\"],[0.7777777777777778,\"#fb9f3a\"],[0.8888888888888888,\"#fdca26\"],[1.0,\"#f0f921\"]],\"sequentialminus\":[[0.0,\"#0d0887\"],[0.1111111111111111,\"#46039f\"],[0.2222222222222222,\"#7201a8\"],[0.3333333333333333,\"#9c179e\"],[0.4444444444444444,\"#bd3786\"],[0.5555555555555556,\"#d8576b\"],[0.6666666666666666,\"#ed7953\"],[0.7777777777777778,\"#fb9f3a\"],[0.8888888888888888,\"#fdca26\"],[1.0,\"#f0f921\"]],\"diverging\":[[0,\"#8e0152\"],[0.1,\"#c51b7d\"],[0.2,\"#de77ae\"],[0.3,\"#f1b6da\"],[0.4,\"#fde0ef\"],[0.5,\"#f7f7f7\"],[0.6,\"#e6f5d0\"],[0.7,\"#b8e186\"],[0.8,\"#7fbc41\"],[0.9,\"#4d9221\"],[1,\"#276419\"]]},\"xaxis\":{\"gridcolor\":\"white\",\"linecolor\":\"white\",\"ticks\":\"\",\"title\":{\"standoff\":15},\"zerolinecolor\":\"white\",\"automargin\":true,\"zerolinewidth\":2},\"yaxis\":{\"gridcolor\":\"white\",\"linecolor\":\"white\",\"ticks\":\"\",\"title\":{\"standoff\":15},\"zerolinecolor\":\"white\",\"automargin\":true,\"zerolinewidth\":2},\"scene\":{\"xaxis\":{\"backgroundcolor\":\"#E5ECF6\",\"gridcolor\":\"white\",\"linecolor\":\"white\",\"showbackground\":true,\"ticks\":\"\",\"zerolinecolor\":\"white\",\"gridwidth\":2},\"yaxis\":{\"backgroundcolor\":\"#E5ECF6\",\"gridcolor\":\"white\",\"linecolor\":\"white\",\"showbackground\":true,\"ticks\":\"\",\"zerolinecolor\":\"white\",\"gridwidth\":2},\"zaxis\":{\"backgroundcolor\":\"#E5ECF6\",\"gridcolor\":\"white\",\"linecolor\":\"white\",\"showbackground\":true,\"ticks\":\"\",\"zerolinecolor\":\"white\",\"gridwidth\":2}},\"shapedefaults\":{\"line\":{\"color\":\"#2a3f5f\"}},\"annotationdefaults\":{\"arrowcolor\":\"#2a3f5f\",\"arrowhead\":0,\"arrowwidth\":1},\"geo\":{\"bgcolor\":\"white\",\"landcolor\":\"#E5ECF6\",\"subunitcolor\":\"white\",\"showland\":true,\"showlakes\":true,\"lakecolor\":\"white\"},\"title\":{\"x\":0.05},\"mapbox\":{\"style\":\"light\"}}}},                        {\"responsive\": true}                    ).then(function(){\n",
       "                            \n",
       "var gd = document.getElementById('c66f4b8b-3151-4344-aebe-22c8a60856db');\n",
       "var x = new MutationObserver(function (mutations, observer) {{\n",
       "        var display = window.getComputedStyle(gd).display;\n",
       "        if (!display || display === 'none') {{\n",
       "            console.log([gd, 'removed!']);\n",
       "            Plotly.purge(gd);\n",
       "            observer.disconnect();\n",
       "        }}\n",
       "}});\n",
       "\n",
       "// Listen for the removal of the full notebook cells\n",
       "var notebookContainer = gd.closest('#notebook-container');\n",
       "if (notebookContainer) {{\n",
       "    x.observe(notebookContainer, {childList: true});\n",
       "}}\n",
       "\n",
       "// Listen for the clearing of the current output cell\n",
       "var outputEl = gd.closest('.output');\n",
       "if (outputEl) {{\n",
       "    x.observe(outputEl, {childList: true});\n",
       "}}\n",
       "\n",
       "                        })                };                });            </script>        </div>"
      ]
     },
     "metadata": {},
     "output_type": "display_data"
    }
   ],
   "source": [
    "from spine.vis import Drawer\n",
    "from spine.vis import GeoDrawer, scatter_points, layout3d\n",
    "from plotly import graph_objs as go\n",
    "import plotly.io as pio\n",
    "import os\n",
    "\n",
    "# Ensure all_reco_particles from Cell 1 is available\n",
    "if not all_reco_particles:\n",
    "    raise ValueError(\"No filtered particles found in Cell 1. Please run Cell 1 first.\")\n",
    "\n",
    "# Extract IDs of the filtered particles from Cell 1\n",
    "filtered_particle_ids = [particle.id for particle in all_reco_particles]\n",
    "\n",
    "# Pre-filter the data to include only relevant reconstructed particles\n",
    "data['reco_particles'] = [p for p in data['reco_particles'] if p.id in filtered_particle_ids]\n",
    "\n",
    "# Extract the specific part (\"00_04_33\") from the filename\n",
    "file_segment = '_'.join(os.path.basename(DATA_PATH).split('_')[3:6])\n",
    "\n",
    "# Create the images directory if it doesn't exist\n",
    "output_dir = \"images\"\n",
    "os.makedirs(output_dir, exist_ok=True)\n",
    "\n",
    "# Initialize the drawer with filtered data\n",
    "drawer = Drawer(data, draw_mode='reco', detector='2x2')\n",
    "\n",
    "# Draw a plot of the particle instances based on the filtered particles\n",
    "print('\\n>>> All Particles <<<')\n",
    "fig_particles = drawer.get(\n",
    "    'particles',\n",
    "    attr='pid',\n",
    "    draw_end_points=True,\n",
    "    draw_vertices=True,\n",
    "    split_traces=True  # Ensure each particle gets a separate legend entry\n",
    ")\n",
    "\n",
    "# Save the filtered particle plot as HTML and PNG in the images folder\n",
    "html_filename = os.path.join(output_dir, f\"sandbox_{file_segment}_entry_{target_entry}_event_{target_event}_int_{target_reco_interaction_id}_particles_all.html\")\n",
    "png_filename = os.path.join(output_dir, f\"sandbox_{file_segment}_entry_{target_entry}_event_{target_event}_int_{target_reco_interaction_id}_particles_all.png\")\n",
    "\n",
    "# Save as HTML\n",
    "pio.write_html(fig_particles, file=html_filename)\n",
    "print(f\"Filtered Particle Plot saved as HTML: {html_filename}\")\n",
    "\n",
    "# Save as PNG\n",
    "pio.write_image(fig_particles, file=png_filename, format='png', width=1000, height=800)\n",
    "print(f\"Filtered Particle Plot saved as PNG: {png_filename}\")\n",
    "\n",
    "# Display the visualization\n",
    "fig_particles.show()\n"
   ]
  },
  {
   "cell_type": "markdown",
   "id": "cf8e2bb3-cf39-4ed6-bde9-4ec74138f580",
   "metadata": {},
   "source": [
    "### III. Filtering Reconstructed Particles for Target Interaction ID Within Spatial Limits\n",
    "\n",
    "The script locates the target reconstructed interaction ID (`target_reco_interaction_id`) in the dataset, retrieves its entry, and filters **primary reconstructed particles** that:\n",
    "- Belong to the specified interaction ID.\n",
    "- Are `primary`.\n",
    "- Are within defined spatial limits (`minX`, `maxX`, `minY`, `maxY`, `minZ`, `maxZ`).\n",
    "- A `length` selection can also be applied and printed.\n",
    "\n",
    "It prints details of reconstructed particles and their interaction IDs, along with the total count of filtered particles."
   ]
  },
  {
   "cell_type": "code",
   "execution_count": 746,
   "id": "b796c162",
   "metadata": {},
   "outputs": [
    {
     "name": "stdout",
     "output_type": "stream",
     "text": [
      "Found target event 171 at entry 171\n",
      "Total Reconstructed Particles for Event 171: 11\n",
      "reco_particles[8]: RecoParticle(ID: 8   | PID: Muon     | Primary: 1  | Size: 143   | Match: -1 ) | Reco Interaction ID: 3 | Length: 34.01 cm\n",
      "\n",
      "reco_particles[10]: RecoParticle(ID: 10  | PID: Kaon     | Primary: 1  | Size: 80    | Match: -1 ) | Reco Interaction ID: 3 | Length: 18.22 cm\n",
      "\n",
      "Total Reconstructed Particles Within Limits for Interaction ID 3: 2\n"
     ]
    }
   ],
   "source": [
    "import h5py\n",
    "\n",
    "# Define the target reconstructed interaction ID\n",
    "# target_reco_interaction_id = 0  # Example: Target Interaction ID\n",
    "\n",
    "# Define spatial limits\n",
    "distance_from_wall = 0\n",
    "minX = -63.931 + distance_from_wall\n",
    "maxX = +63.931 - distance_from_wall\n",
    "minY = -62.076 + distance_from_wall\n",
    "maxY = +62.076 - distance_from_wall\n",
    "minZ = -64.538 + distance_from_wall\n",
    "maxZ = +64.538 - distance_from_wall\n",
    "\n",
    "# Minimum length cut in cm\n",
    "length_cut = 2.0\n",
    "\n",
    "# Locate the entry corresponding to the target event\n",
    "with h5py.File(DATA_PATH, 'r') as f:\n",
    "    run_info = f['run_info']\n",
    "    target_entry = None\n",
    "    \n",
    "    for idx, (run, subrun, event) in enumerate(run_info):\n",
    "        if event == target_event:\n",
    "            target_entry = idx\n",
    "            print(f\"Found target event {target_event} at entry {idx}\")\n",
    "            break\n",
    "    else:\n",
    "        print(f\"Event {target_event} not found in run_info.\")\n",
    "        target_entry = None\n",
    "\n",
    "# Process the entry if found\n",
    "if target_entry is not None:\n",
    "    data = driver.process(entry=target_entry)\n",
    "    reco_particles = data['reco_particles']\n",
    "    print(f\"Total Reconstructed Particles for Event {target_event}: {len(reco_particles)}\")\n",
    "    \n",
    "    # Filter and print particles within limits, primary, and belonging to the target interaction ID\n",
    "    filtered_primary_particles = []\n",
    "    for i, particle in enumerate(reco_particles):\n",
    "        # Access start_point for spatial coordinates using dot notation\n",
    "        start_point = particle.start_point\n",
    "        x, y, z = start_point\n",
    "        length = particle.length  # Length attribute of the particle\n",
    "\n",
    "        \n",
    "        # Check if the particle is primary and matches the target interaction ID\n",
    "        is_primary = particle.is_primary\n",
    "        interaction_id = particle.interaction_id  # Get the interaction ID\n",
    "        \n",
    "        # Apply spatial limits, primary condition, and target interaction ID\n",
    "        if (\n",
    "            length > length_cut and\n",
    "            is_primary and\n",
    "            minX < x < maxX and\n",
    "            minY < y < maxY and\n",
    "            minZ < z < maxZ and\n",
    "            interaction_id == target_reco_interaction_id\n",
    "        ):\n",
    "            filtered_primary_particles.append(particle)\n",
    "            # print(f\"reco_particles[{i}]: {particle} | Reco Interaction ID: {interaction_id}\\n\")\n",
    "            print(f\"reco_particles[{i}]: {particle} | Reco Interaction ID: {interaction_id} | Length: {length:.2f} cm\\n\")\n",
    "\n",
    "    \n",
    "    print(f\"Total Reconstructed Particles Within Limits for Interaction ID {target_reco_interaction_id}: {len(filtered_primary_particles)}\")"
   ]
  },
  {
   "cell_type": "markdown",
   "id": "b9ff9bfb-cc0f-450a-b5b0-20f02f8b1ef0",
   "metadata": {},
   "source": [
    "### IV. Filtered Particle Visualization\n",
    "\n",
    "This script visualizes and saves plots of filtered reconstructed particles and interactions. \n",
    "   - Particle plots are saved as:\n",
    "     - **HTML**: `sandbox_<file_segment>_entry_<ENTRY>_event_<target_event>_int_<target_reco_interaction_id>_particles.html`\n",
    "     - **PNG**: `sandbox_<file_segment>_entry_<ENTRY>_event_<target_event>_int_<target_reco_interaction_id>_particles.png`"
   ]
  },
  {
   "cell_type": "code",
   "execution_count": 747,
   "id": "c723904d",
   "metadata": {},
   "outputs": [
    {
     "name": "stdout",
     "output_type": "stream",
     "text": [
      "\n",
      ">>> Selected Particles <<<\n",
      "Filtered Particle Plot saved as HTML: images/sandbox_01_54_45_entry_171_event_171_int_3_particles_selected.html\n",
      "Filtered Particle Plot saved as PNG: images/sandbox_01_54_45_entry_171_event_171_int_3_particles_selected.png\n"
     ]
    },
    {
     "data": {
      "application/vnd.plotly.v1+json": {
       "config": {
        "plotlyServerURL": "https://plot.ly"
       },
       "data": [
        {
         "hovertemplate": "x: %{x}<br>y: %{y}<br>z: %{z}<br>%{text}",
         "marker": {
          "cmax": 6,
          "cmin": -1,
          "color": [
           2,
           2,
           2,
           2,
           2,
           2,
           2,
           2,
           2,
           2,
           2,
           2,
           2,
           2,
           2,
           2,
           2,
           2,
           2,
           2,
           2,
           2,
           2,
           2,
           2,
           2,
           2,
           2,
           2,
           2,
           2,
           2,
           2,
           2,
           2,
           2,
           2,
           2,
           2,
           2,
           2,
           2,
           2,
           2,
           2,
           2,
           2,
           2,
           2,
           2,
           2,
           2,
           2,
           2,
           2,
           2,
           2,
           2,
           2,
           2,
           2,
           2,
           2,
           2,
           2,
           2,
           2,
           2,
           2,
           2,
           2,
           2,
           2,
           2,
           2,
           2,
           2,
           2,
           2,
           2,
           2,
           2,
           2,
           2,
           2,
           2,
           2,
           2,
           2,
           2,
           2,
           2,
           2,
           2,
           2,
           2,
           2,
           2,
           2,
           2,
           2,
           2,
           2,
           2,
           2,
           2,
           2,
           2,
           2,
           2,
           2,
           2,
           2,
           2,
           2,
           2,
           2,
           2,
           2,
           2,
           2,
           2,
           2,
           2,
           2,
           2,
           2,
           2,
           2,
           2,
           2,
           2,
           2,
           2,
           2,
           2,
           2,
           2,
           2,
           2,
           2,
           2,
           2
          ],
          "colorscale": [
           [
            0,
            "#808080"
           ],
           [
            0.14285714285714285,
            "#636EFA"
           ],
           [
            0.2857142857142857,
            "#EF553B"
           ],
           [
            0.42857142857142855,
            "#00CC96"
           ],
           [
            0.5714285714285714,
            "#AB63FA"
           ],
           [
            0.7142857142857143,
            "#FFA15A"
           ],
           [
            0.8571428571428571,
            "#19D3F3"
           ],
           [
            1,
            "#FF6692"
           ]
          ],
          "size": 2
         },
         "mode": "markers",
         "name": "Reco particle 0",
         "showlegend": true,
         "text": [
          "Particle 0<br>Pid: 2",
          "Particle 0<br>Pid: 2",
          "Particle 0<br>Pid: 2",
          "Particle 0<br>Pid: 2",
          "Particle 0<br>Pid: 2",
          "Particle 0<br>Pid: 2",
          "Particle 0<br>Pid: 2",
          "Particle 0<br>Pid: 2",
          "Particle 0<br>Pid: 2",
          "Particle 0<br>Pid: 2",
          "Particle 0<br>Pid: 2",
          "Particle 0<br>Pid: 2",
          "Particle 0<br>Pid: 2",
          "Particle 0<br>Pid: 2",
          "Particle 0<br>Pid: 2",
          "Particle 0<br>Pid: 2",
          "Particle 0<br>Pid: 2",
          "Particle 0<br>Pid: 2",
          "Particle 0<br>Pid: 2",
          "Particle 0<br>Pid: 2",
          "Particle 0<br>Pid: 2",
          "Particle 0<br>Pid: 2",
          "Particle 0<br>Pid: 2",
          "Particle 0<br>Pid: 2",
          "Particle 0<br>Pid: 2",
          "Particle 0<br>Pid: 2",
          "Particle 0<br>Pid: 2",
          "Particle 0<br>Pid: 2",
          "Particle 0<br>Pid: 2",
          "Particle 0<br>Pid: 2",
          "Particle 0<br>Pid: 2",
          "Particle 0<br>Pid: 2",
          "Particle 0<br>Pid: 2",
          "Particle 0<br>Pid: 2",
          "Particle 0<br>Pid: 2",
          "Particle 0<br>Pid: 2",
          "Particle 0<br>Pid: 2",
          "Particle 0<br>Pid: 2",
          "Particle 0<br>Pid: 2",
          "Particle 0<br>Pid: 2",
          "Particle 0<br>Pid: 2",
          "Particle 0<br>Pid: 2",
          "Particle 0<br>Pid: 2",
          "Particle 0<br>Pid: 2",
          "Particle 0<br>Pid: 2",
          "Particle 0<br>Pid: 2",
          "Particle 0<br>Pid: 2",
          "Particle 0<br>Pid: 2",
          "Particle 0<br>Pid: 2",
          "Particle 0<br>Pid: 2",
          "Particle 0<br>Pid: 2",
          "Particle 0<br>Pid: 2",
          "Particle 0<br>Pid: 2",
          "Particle 0<br>Pid: 2",
          "Particle 0<br>Pid: 2",
          "Particle 0<br>Pid: 2",
          "Particle 0<br>Pid: 2",
          "Particle 0<br>Pid: 2",
          "Particle 0<br>Pid: 2",
          "Particle 0<br>Pid: 2",
          "Particle 0<br>Pid: 2",
          "Particle 0<br>Pid: 2",
          "Particle 0<br>Pid: 2",
          "Particle 0<br>Pid: 2",
          "Particle 0<br>Pid: 2",
          "Particle 0<br>Pid: 2",
          "Particle 0<br>Pid: 2",
          "Particle 0<br>Pid: 2",
          "Particle 0<br>Pid: 2",
          "Particle 0<br>Pid: 2",
          "Particle 0<br>Pid: 2",
          "Particle 0<br>Pid: 2",
          "Particle 0<br>Pid: 2",
          "Particle 0<br>Pid: 2",
          "Particle 0<br>Pid: 2",
          "Particle 0<br>Pid: 2",
          "Particle 0<br>Pid: 2",
          "Particle 0<br>Pid: 2",
          "Particle 0<br>Pid: 2",
          "Particle 0<br>Pid: 2",
          "Particle 0<br>Pid: 2",
          "Particle 0<br>Pid: 2",
          "Particle 0<br>Pid: 2",
          "Particle 0<br>Pid: 2",
          "Particle 0<br>Pid: 2",
          "Particle 0<br>Pid: 2",
          "Particle 0<br>Pid: 2",
          "Particle 0<br>Pid: 2",
          "Particle 0<br>Pid: 2",
          "Particle 0<br>Pid: 2",
          "Particle 0<br>Pid: 2",
          "Particle 0<br>Pid: 2",
          "Particle 0<br>Pid: 2",
          "Particle 0<br>Pid: 2",
          "Particle 0<br>Pid: 2",
          "Particle 0<br>Pid: 2",
          "Particle 0<br>Pid: 2",
          "Particle 0<br>Pid: 2",
          "Particle 0<br>Pid: 2",
          "Particle 0<br>Pid: 2",
          "Particle 0<br>Pid: 2",
          "Particle 0<br>Pid: 2",
          "Particle 0<br>Pid: 2",
          "Particle 0<br>Pid: 2",
          "Particle 0<br>Pid: 2",
          "Particle 0<br>Pid: 2",
          "Particle 0<br>Pid: 2",
          "Particle 0<br>Pid: 2",
          "Particle 0<br>Pid: 2",
          "Particle 0<br>Pid: 2",
          "Particle 0<br>Pid: 2",
          "Particle 0<br>Pid: 2",
          "Particle 0<br>Pid: 2",
          "Particle 0<br>Pid: 2",
          "Particle 0<br>Pid: 2",
          "Particle 0<br>Pid: 2",
          "Particle 0<br>Pid: 2",
          "Particle 0<br>Pid: 2",
          "Particle 0<br>Pid: 2",
          "Particle 0<br>Pid: 2",
          "Particle 0<br>Pid: 2",
          "Particle 0<br>Pid: 2",
          "Particle 0<br>Pid: 2",
          "Particle 0<br>Pid: 2",
          "Particle 0<br>Pid: 2",
          "Particle 0<br>Pid: 2",
          "Particle 0<br>Pid: 2",
          "Particle 0<br>Pid: 2",
          "Particle 0<br>Pid: 2",
          "Particle 0<br>Pid: 2",
          "Particle 0<br>Pid: 2",
          "Particle 0<br>Pid: 2",
          "Particle 0<br>Pid: 2",
          "Particle 0<br>Pid: 2",
          "Particle 0<br>Pid: 2",
          "Particle 0<br>Pid: 2",
          "Particle 0<br>Pid: 2",
          "Particle 0<br>Pid: 2",
          "Particle 0<br>Pid: 2",
          "Particle 0<br>Pid: 2",
          "Particle 0<br>Pid: 2",
          "Particle 0<br>Pid: 2",
          "Particle 0<br>Pid: 2"
         ],
         "type": "scatter3d",
         "x": [
          25.052101135253906,
          24.60869598388672,
          24.60869598388672,
          24.60869598388672,
          24.165298461914062,
          25.052101135253906,
          24.60869598388672,
          25.052101135253906,
          24.60869598388672,
          25.052101135253906,
          25.495498657226562,
          24.60869598388672,
          24.60869598388672,
          24.60869598388672,
          24.165298461914062,
          24.165298461914062,
          25.052101135253906,
          24.165298461914062,
          24.165298461914062,
          24.60869598388672,
          25.052101135253906,
          24.165298461914062,
          23.721900939941406,
          24.165298461914062,
          24.60869598388672,
          24.165298461914062,
          24.60869598388672,
          23.27849578857422,
          24.165298461914062,
          24.60869598388672,
          25.052101135253906,
          23.721900939941406,
          23.721900939941406,
          24.60869598388672,
          25.052101135253906,
          23.27849578857422,
          23.27849578857422,
          23.721900939941406,
          25.052101135253906,
          23.27849578857422,
          23.721900939941406,
          24.165298461914062,
          24.60869598388672,
          23.721900939941406,
          24.165298461914062,
          25.052101135253906,
          23.721900939941406,
          24.165298461914062,
          24.60869598388672,
          24.165298461914062,
          23.721900939941406,
          24.165298461914062,
          24.60869598388672,
          24.165298461914062,
          24.165298461914062,
          24.165298461914062,
          23.721900939941406,
          24.60869598388672,
          24.165298461914062,
          24.165298461914062,
          24.60869598388672,
          24.165298461914062,
          24.165298461914062,
          24.165298461914062,
          24.60869598388672,
          23.721900939941406,
          24.165298461914062,
          24.165298461914062,
          24.165298461914062,
          24.165298461914062,
          24.165298461914062,
          24.165298461914062,
          23.721900939941406,
          23.721900939941406,
          23.721900939941406,
          24.165298461914062,
          24.60869598388672,
          23.721900939941406,
          24.165298461914062,
          24.165298461914062,
          23.721900939941406,
          24.165298461914062,
          23.721900939941406,
          24.165298461914062,
          23.721900939941406,
          24.165298461914062,
          23.721900939941406,
          24.165298461914062,
          23.721900939941406,
          23.721900939941406,
          23.721900939941406,
          23.721900939941406,
          23.721900939941406,
          23.721900939941406,
          23.27849578857422,
          23.721900939941406,
          23.721900939941406,
          23.27849578857422,
          23.27849578857422,
          23.721900939941406,
          23.27849578857422,
          23.721900939941406,
          23.721900939941406,
          23.721900939941406,
          23.721900939941406,
          23.27849578857422,
          23.721900939941406,
          23.27849578857422,
          23.27849578857422,
          23.27849578857422,
          23.27849578857422,
          23.27849578857422,
          23.27849578857422,
          23.27849578857422,
          23.721900939941406,
          23.27849578857422,
          23.721900939941406,
          22.835098266601562,
          23.27849578857422,
          23.27849578857422,
          22.835098266601562,
          23.721900939941406,
          23.27849578857422,
          22.835098266601562,
          23.27849578857422,
          22.835098266601562,
          23.27849578857422,
          23.27849578857422,
          23.27849578857422,
          23.721900939941406,
          23.27849578857422,
          23.27849578857422,
          23.27849578857422,
          23.27849578857422,
          23.27849578857422,
          23.27849578857422,
          23.27849578857422,
          22.835098266601562,
          23.27849578857422,
          22.835098266601562,
          23.27849578857422,
          23.27849578857422,
          24.165298461914062
         ],
         "y": [
          33.033294677734375,
          33.033294677734375,
          33.033294677734375,
          33.033294677734375,
          33.033294677734375,
          33.033294677734375,
          33.47669982910156,
          33.47669982910156,
          33.47669982910156,
          33.47669982910156,
          33.47669982910156,
          33.92009735107422,
          33.47669982910156,
          33.92009735107422,
          33.47669982910156,
          33.92009735107422,
          33.92009735107422,
          33.47669982910156,
          33.92009735107422,
          33.92009735107422,
          33.92009735107422,
          34.363494873046875,
          33.47669982910156,
          33.47669982910156,
          33.47669982910156,
          33.92009735107422,
          33.92009735107422,
          33.92009735107422,
          33.92009735107422,
          33.92009735107422,
          33.92009735107422,
          34.363494873046875,
          33.47669982910156,
          33.92009735107422,
          33.92009735107422,
          34.363494873046875,
          34.80690002441406,
          33.92009735107422,
          33.92009735107422,
          34.363494873046875,
          34.363494873046875,
          34.363494873046875,
          34.363494873046875,
          34.80690002441406,
          33.92009735107422,
          33.92009735107422,
          34.363494873046875,
          34.363494873046875,
          34.363494873046875,
          34.80690002441406,
          33.92009735107422,
          34.363494873046875,
          34.363494873046875,
          34.363494873046875,
          34.363494873046875,
          34.80690002441406,
          34.80690002441406,
          34.80690002441406,
          34.80690002441406,
          34.80690002441406,
          34.80690002441406,
          35.25029754638672,
          34.80690002441406,
          35.25029754638672,
          35.25029754638672,
          35.25029754638672,
          35.25029754638672,
          35.25029754638672,
          35.25029754638672,
          35.25029754638672,
          35.693695068359375,
          35.693695068359375,
          35.693695068359375,
          36.13710021972656,
          35.693695068359375,
          35.693695068359375,
          35.693695068359375,
          36.13710021972656,
          35.693695068359375,
          36.13710021972656,
          36.13710021972656,
          36.13710021972656,
          36.13710021972656,
          36.13710021972656,
          36.13710021972656,
          36.13710021972656,
          36.13710021972656,
          36.13710021972656,
          36.58049774169922,
          36.13710021972656,
          36.58049774169922,
          36.58049774169922,
          36.58049774169922,
          37.023895263671875,
          37.023895263671875,
          37.023895263671875,
          37.023895263671875,
          36.58049774169922,
          37.023895263671875,
          37.023895263671875,
          37.023895263671875,
          37.023895263671875,
          37.023895263671875,
          37.46730041503906,
          37.46730041503906,
          37.46730041503906,
          37.46730041503906,
          37.46730041503906,
          37.46730041503906,
          37.46730041503906,
          37.91069793701172,
          37.46730041503906,
          37.91069793701172,
          37.91069793701172,
          37.91069793701172,
          37.91069793701172,
          37.91069793701172,
          37.91069793701172,
          37.91069793701172,
          38.354095458984375,
          37.91069793701172,
          37.91069793701172,
          38.354095458984375,
          38.354095458984375,
          38.354095458984375,
          38.354095458984375,
          38.354095458984375,
          38.354095458984375,
          38.79750061035156,
          38.79750061035156,
          38.79750061035156,
          38.79750061035156,
          38.79750061035156,
          38.79750061035156,
          39.24089813232422,
          39.24089813232422,
          39.24089813232422,
          39.24089813232422,
          39.24089813232422,
          39.24089813232422,
          39.24089813232422,
          39.24089813232422,
          38.354095458984375
         ],
         "z": [
          31.25969696044922,
          31.703102111816406,
          32.14649963378906,
          32.58989715576172,
          33.033302307128906,
          33.033302307128906,
          33.033302307128906,
          33.033302307128906,
          33.47669982910156,
          33.92009735107422,
          34.363502502441406,
          34.363502502441406,
          34.80690002441406,
          34.80690002441406,
          35.25029754638672,
          35.25029754638672,
          35.25029754638672,
          35.693695068359375,
          35.693695068359375,
          35.693695068359375,
          35.693695068359375,
          35.693695068359375,
          36.13710021972656,
          36.13710021972656,
          36.13710021972656,
          36.13710021972656,
          36.13710021972656,
          36.58049774169922,
          36.58049774169922,
          36.58049774169922,
          36.58049774169922,
          36.58049774169922,
          37.023895263671875,
          37.023895263671875,
          37.023895263671875,
          37.023895263671875,
          37.023895263671875,
          37.46730041503906,
          37.46730041503906,
          37.46730041503906,
          37.46730041503906,
          37.46730041503906,
          37.46730041503906,
          37.46730041503906,
          37.91069793701172,
          37.91069793701172,
          37.91069793701172,
          37.91069793701172,
          37.91069793701172,
          37.91069793701172,
          38.354095458984375,
          38.354095458984375,
          38.354095458984375,
          38.79750061035156,
          39.24089813232422,
          39.684295654296875,
          40.12770080566406,
          40.12770080566406,
          40.57109832763672,
          41.014495849609375,
          41.014495849609375,
          41.014495849609375,
          41.45790100097656,
          41.90129852294922,
          41.90129852294922,
          42.344696044921875,
          42.344696044921875,
          42.78810119628906,
          43.23149871826172,
          43.674896240234375,
          43.674896240234375,
          44.11830139160156,
          44.56169891357422,
          44.56169891357422,
          45.005096435546875,
          45.005096435546875,
          45.005096435546875,
          45.005096435546875,
          45.44850158691406,
          45.89189910888672,
          46.335296630859375,
          46.335296630859375,
          46.77870178222656,
          46.77870178222656,
          47.22209930419922,
          47.22209930419922,
          47.665496826171875,
          47.665496826171875,
          47.665496826171875,
          48.10890197753906,
          48.55229949951172,
          48.995697021484375,
          49.43910217285156,
          49.88249969482422,
          50.325897216796875,
          50.325897216796875,
          50.76929473876953,
          51.21269989013672,
          51.21269989013672,
          51.21269989013672,
          51.656097412109375,
          51.656097412109375,
          52.09949493408203,
          52.54290008544922,
          52.986297607421875,
          53.42969512939453,
          53.42969512939453,
          53.87310028076172,
          54.316497802734375,
          54.75989532470703,
          54.75989532470703,
          55.20330047607422,
          55.20330047607422,
          55.646697998046875,
          55.646697998046875,
          56.09009552001953,
          56.09009552001953,
          56.53350067138672,
          56.53350067138672,
          56.53350067138672,
          56.976898193359375,
          56.976898193359375,
          57.42030334472656,
          57.86369323730469,
          57.86369323730469,
          58.307098388671875,
          58.307098388671875,
          59.19389343261719,
          59.637298583984375,
          60.08070373535156,
          60.52409362792969,
          60.967498779296875,
          61.41090393066406,
          61.85429382324219,
          62.297698974609375,
          62.74110412597656,
          63.18449401855469,
          63.627899169921875,
          63.627899169921875,
          64.07130432128906,
          64.07130432128906,
          64.51469421386719,
          58.75050354003906
         ]
        },
        {
         "hovertemplate": "x: %{x}<br>y: %{y}<br>z: %{z}<br>%{text}",
         "marker": {
          "cmax": 6,
          "cmin": -1,
          "color": [
           5,
           5,
           5,
           5,
           5,
           5,
           5,
           5,
           5,
           5,
           5,
           5,
           5,
           5,
           5,
           5,
           5,
           5,
           5,
           5,
           5,
           5,
           5,
           5,
           5,
           5,
           5,
           5,
           5,
           5,
           5,
           5,
           5,
           5,
           5,
           5,
           5,
           5,
           5,
           5,
           5,
           5,
           5,
           5,
           5,
           5,
           5,
           5,
           5,
           5,
           5,
           5,
           5,
           5,
           5,
           5,
           5,
           5,
           5,
           5,
           5,
           5,
           5,
           5,
           5,
           5,
           5,
           5,
           5,
           5,
           5,
           5,
           5,
           5,
           5,
           5,
           5,
           5,
           5,
           5
          ],
          "colorscale": [
           [
            0,
            "#808080"
           ],
           [
            0.14285714285714285,
            "#636EFA"
           ],
           [
            0.2857142857142857,
            "#EF553B"
           ],
           [
            0.42857142857142855,
            "#00CC96"
           ],
           [
            0.5714285714285714,
            "#AB63FA"
           ],
           [
            0.7142857142857143,
            "#FFA15A"
           ],
           [
            0.8571428571428571,
            "#19D3F3"
           ],
           [
            1,
            "#FF6692"
           ]
          ],
          "size": 2
         },
         "mode": "markers",
         "name": "Reco particle 1",
         "showlegend": true,
         "text": [
          "Particle 1<br>Pid: 5",
          "Particle 1<br>Pid: 5",
          "Particle 1<br>Pid: 5",
          "Particle 1<br>Pid: 5",
          "Particle 1<br>Pid: 5",
          "Particle 1<br>Pid: 5",
          "Particle 1<br>Pid: 5",
          "Particle 1<br>Pid: 5",
          "Particle 1<br>Pid: 5",
          "Particle 1<br>Pid: 5",
          "Particle 1<br>Pid: 5",
          "Particle 1<br>Pid: 5",
          "Particle 1<br>Pid: 5",
          "Particle 1<br>Pid: 5",
          "Particle 1<br>Pid: 5",
          "Particle 1<br>Pid: 5",
          "Particle 1<br>Pid: 5",
          "Particle 1<br>Pid: 5",
          "Particle 1<br>Pid: 5",
          "Particle 1<br>Pid: 5",
          "Particle 1<br>Pid: 5",
          "Particle 1<br>Pid: 5",
          "Particle 1<br>Pid: 5",
          "Particle 1<br>Pid: 5",
          "Particle 1<br>Pid: 5",
          "Particle 1<br>Pid: 5",
          "Particle 1<br>Pid: 5",
          "Particle 1<br>Pid: 5",
          "Particle 1<br>Pid: 5",
          "Particle 1<br>Pid: 5",
          "Particle 1<br>Pid: 5",
          "Particle 1<br>Pid: 5",
          "Particle 1<br>Pid: 5",
          "Particle 1<br>Pid: 5",
          "Particle 1<br>Pid: 5",
          "Particle 1<br>Pid: 5",
          "Particle 1<br>Pid: 5",
          "Particle 1<br>Pid: 5",
          "Particle 1<br>Pid: 5",
          "Particle 1<br>Pid: 5",
          "Particle 1<br>Pid: 5",
          "Particle 1<br>Pid: 5",
          "Particle 1<br>Pid: 5",
          "Particle 1<br>Pid: 5",
          "Particle 1<br>Pid: 5",
          "Particle 1<br>Pid: 5",
          "Particle 1<br>Pid: 5",
          "Particle 1<br>Pid: 5",
          "Particle 1<br>Pid: 5",
          "Particle 1<br>Pid: 5",
          "Particle 1<br>Pid: 5",
          "Particle 1<br>Pid: 5",
          "Particle 1<br>Pid: 5",
          "Particle 1<br>Pid: 5",
          "Particle 1<br>Pid: 5",
          "Particle 1<br>Pid: 5",
          "Particle 1<br>Pid: 5",
          "Particle 1<br>Pid: 5",
          "Particle 1<br>Pid: 5",
          "Particle 1<br>Pid: 5",
          "Particle 1<br>Pid: 5",
          "Particle 1<br>Pid: 5",
          "Particle 1<br>Pid: 5",
          "Particle 1<br>Pid: 5",
          "Particle 1<br>Pid: 5",
          "Particle 1<br>Pid: 5",
          "Particle 1<br>Pid: 5",
          "Particle 1<br>Pid: 5",
          "Particle 1<br>Pid: 5",
          "Particle 1<br>Pid: 5",
          "Particle 1<br>Pid: 5",
          "Particle 1<br>Pid: 5",
          "Particle 1<br>Pid: 5",
          "Particle 1<br>Pid: 5",
          "Particle 1<br>Pid: 5",
          "Particle 1<br>Pid: 5",
          "Particle 1<br>Pid: 5",
          "Particle 1<br>Pid: 5",
          "Particle 1<br>Pid: 5",
          "Particle 1<br>Pid: 5"
         ],
         "type": "scatter3d",
         "x": [
          24.60869598388672,
          25.052101135253906,
          24.60869598388672,
          24.165298461914062,
          24.165298461914062,
          24.60869598388672,
          25.052101135253906,
          24.60869598388672,
          24.60869598388672,
          24.165298461914062,
          24.60869598388672,
          24.165298461914062,
          24.165298461914062,
          24.60869598388672,
          24.165298461914062,
          24.165298461914062,
          23.721900939941406,
          24.165298461914062,
          23.27849578857422,
          23.721900939941406,
          23.27849578857422,
          23.721900939941406,
          24.165298461914062,
          23.721900939941406,
          23.721900939941406,
          23.721900939941406,
          22.835098266601562,
          22.391700744628906,
          23.27849578857422,
          23.27849578857422,
          22.835098266601562,
          22.835098266601562,
          22.835098266601562,
          21.94829559326172,
          22.391700744628906,
          22.835098266601562,
          21.94829559326172,
          22.835098266601562,
          21.94829559326172,
          22.391700744628906,
          22.391700744628906,
          21.94829559326172,
          22.391700744628906,
          22.835098266601562,
          21.504898071289062,
          22.391700744628906,
          21.504898071289062,
          21.504898071289062,
          22.391700744628906,
          21.94829559326172,
          21.94829559326172,
          21.504898071289062,
          21.94829559326172,
          21.504898071289062,
          21.94829559326172,
          21.504898071289062,
          21.94829559326172,
          21.504898071289062,
          21.504898071289062,
          21.504898071289062,
          21.504898071289062,
          21.061500549316406,
          21.061500549316406,
          21.504898071289062,
          20.61809539794922,
          20.174697875976562,
          20.61809539794922,
          20.61809539794922,
          20.174697875976562,
          20.61809539794922,
          20.174697875976562,
          20.61809539794922,
          19.731300354003906,
          20.61809539794922,
          19.28789520263672,
          20.174697875976562,
          20.61809539794922,
          20.174697875976562,
          20.174697875976562,
          23.721900939941406
         ],
         "y": [
          32.58989715576172,
          32.58989715576172,
          33.033294677734375,
          32.14649963378906,
          32.58989715576172,
          32.58989715576172,
          32.58989715576172,
          32.14649963378906,
          32.58989715576172,
          32.58989715576172,
          32.58989715576172,
          32.14649963378906,
          32.58989715576172,
          32.14649963378906,
          32.58989715576172,
          32.14649963378906,
          33.033294677734375,
          32.14649963378906,
          32.14649963378906,
          32.14649963378906,
          32.58989715576172,
          32.14649963378906,
          32.14649963378906,
          32.14649963378906,
          32.14649963378906,
          32.14649963378906,
          32.58989715576172,
          32.14649963378906,
          32.14649963378906,
          32.14649963378906,
          31.703094482421875,
          32.14649963378906,
          31.703094482421875,
          31.703094482421875,
          31.703094482421875,
          31.703094482421875,
          31.703094482421875,
          31.703094482421875,
          32.14649963378906,
          32.14649963378906,
          31.703094482421875,
          32.14649963378906,
          31.703094482421875,
          31.703094482421875,
          31.703094482421875,
          31.703094482421875,
          31.25969696044922,
          31.703094482421875,
          31.703094482421875,
          32.14649963378906,
          31.25969696044922,
          31.703094482421875,
          31.703094482421875,
          32.14649963378906,
          31.25969696044922,
          31.25969696044922,
          31.25969696044922,
          31.25969696044922,
          31.25969696044922,
          31.25969696044922,
          31.25969696044922,
          31.25969696044922,
          31.25969696044922,
          31.25969696044922,
          30.816299438476562,
          30.816299438476562,
          30.816299438476562,
          31.25969696044922,
          30.816299438476562,
          30.816299438476562,
          30.816299438476562,
          30.816299438476562,
          30.816299438476562,
          30.816299438476562,
          30.372894287109375,
          30.816299438476562,
          30.816299438476562,
          30.816299438476562,
          30.816299438476562,
          31.703094482421875
         ],
         "z": [
          29.486099243164062,
          29.486099243164062,
          29.486099243164062,
          29.92949676513672,
          29.92949676513672,
          29.92949676513672,
          29.92949676513672,
          30.372901916503906,
          30.372901916503906,
          30.816299438476562,
          30.816299438476562,
          31.25969696044922,
          31.25969696044922,
          31.703102111816406,
          31.703102111816406,
          32.14649963378906,
          32.14649963378906,
          32.58989715576172,
          33.033302307128906,
          33.033302307128906,
          33.033302307128906,
          33.47669982910156,
          33.47669982910156,
          33.92009735107422,
          34.363502502441406,
          34.80690002441406,
          34.80690002441406,
          35.25029754638672,
          35.25029754638672,
          35.693695068359375,
          36.13710021972656,
          36.13710021972656,
          36.58049774169922,
          37.023895263671875,
          37.023895263671875,
          37.023895263671875,
          37.46730041503906,
          37.46730041503906,
          37.46730041503906,
          37.46730041503906,
          37.91069793701172,
          37.91069793701172,
          38.354095458984375,
          38.354095458984375,
          38.79750061035156,
          38.79750061035156,
          39.24089813232422,
          39.24089813232422,
          39.24089813232422,
          39.24089813232422,
          39.684295654296875,
          39.684295654296875,
          39.684295654296875,
          39.684295654296875,
          40.12770080566406,
          40.57109832763672,
          40.57109832763672,
          41.014495849609375,
          41.45790100097656,
          41.90129852294922,
          42.344696044921875,
          42.78810119628906,
          43.23149871826172,
          43.23149871826172,
          43.674896240234375,
          44.11830139160156,
          44.11830139160156,
          44.11830139160156,
          44.56169891357422,
          44.56169891357422,
          45.005096435546875,
          45.005096435546875,
          45.44850158691406,
          45.44850158691406,
          45.89189910888672,
          45.89189910888672,
          45.89189910888672,
          46.335296630859375,
          46.77870178222656,
          36.58049774169922
         ]
        },
        {
         "hovertemplate": "x: %{x}<br>y: %{y}<br>z: %{z}<br>%{text}",
         "marker": {
          "color": "black",
          "size": 7,
          "symbol": "circle"
         },
         "mode": "markers",
         "name": "Reco particle start point",
         "text": [
          "Particle 0 start point",
          "Particle 1 start point"
         ],
         "type": "scatter3d",
         "x": [
          25.052101135253906,
          25.052101135253906
         ],
         "y": [
          33.033294677734375,
          32.58989715576172
         ],
         "z": [
          31.25969696044922,
          29.486099243164062
         ]
        },
        {
         "hovertemplate": "x: %{x}<br>y: %{y}<br>z: %{z}<br>%{text}",
         "marker": {
          "color": "black",
          "size": 7,
          "symbol": "circle-open"
         },
         "mode": "markers",
         "name": "Reco particle end point",
         "text": [
          "Particle 0 end point",
          "Particle 1 end point"
         ],
         "type": "scatter3d",
         "x": [
          23.27849578857422,
          20.174697875976562
         ],
         "y": [
          39.24089813232422,
          30.816299438476562
         ],
         "z": [
          64.51469421386719,
          46.77870178222656
         ]
        },
        {
         "hovertemplate": "x: %{x}<br>y: %{y}<br>z: %{z}<br>%{text}",
         "marker": {
          "color": "green",
          "size": 10,
          "symbol": "diamond"
         },
         "mode": "markers",
         "name": "Reco interaction vertex",
         "text": [
          "Interaction 0 vertex",
          "Interaction 1 vertex",
          "Interaction 2 vertex",
          "Interaction 3 vertex"
         ],
         "type": "scatter3d",
         "x": [
          35.693695068359375,
          4.2122955322265625,
          -19.731300354003906,
          25.052101135253906
         ],
         "y": [
          -61.85430145263672,
          -18.401103973388672,
          -53.42970275878906,
          32.81159591674805
         ],
         "z": [
          -9.97650146484375,
          -53.42970275878906,
          50.325897216796875,
          30.37289810180664
         ]
        },
        {
         "hovertemplate": "x: %{x}<br>y: %{y}<br>z: %{z}",
         "legendgroup": "group_1737428290.1650963",
         "line": {
          "color": "rgba(0, 0, 0, 0.15)",
          "width": 5
         },
         "mode": "lines",
         "name": "Detector",
         "showlegend": true,
         "type": "scatter3d",
         "x": [
          33.65875,
          33.65875,
          null,
          33.65875,
          33.65875,
          null,
          33.65875,
          63.931,
          null,
          33.65875,
          33.65875,
          null,
          33.65875,
          63.931,
          null,
          33.65875,
          33.65875,
          null,
          33.65875,
          63.931,
          null,
          33.65875,
          63.931,
          null,
          63.931,
          63.931,
          null,
          63.931,
          63.931,
          null,
          63.931,
          63.931,
          null,
          63.931,
          63.931,
          null
         ],
         "y": [
          -62.076,
          -62.076,
          null,
          -62.076,
          62.076,
          null,
          -62.076,
          -62.076,
          null,
          -62.076,
          62.076,
          null,
          -62.076,
          -62.076,
          null,
          62.076,
          62.076,
          null,
          62.076,
          62.076,
          null,
          62.076,
          62.076,
          null,
          -62.076,
          -62.076,
          null,
          -62.076,
          62.076,
          null,
          -62.076,
          62.076,
          null,
          62.076,
          62.076,
          null
         ],
         "z": [
          2.4619999999999997,
          64.538,
          null,
          2.4619999999999997,
          2.4619999999999997,
          null,
          2.4619999999999997,
          2.4619999999999997,
          null,
          64.538,
          64.538,
          null,
          64.538,
          64.538,
          null,
          2.4619999999999997,
          64.538,
          null,
          2.4619999999999997,
          2.4619999999999997,
          null,
          64.538,
          64.538,
          null,
          2.4619999999999997,
          64.538,
          null,
          2.4619999999999997,
          2.4619999999999997,
          null,
          64.538,
          64.538,
          null,
          2.4619999999999997,
          64.538,
          null
         ]
        },
        {
         "hovertemplate": "x: %{x}<br>y: %{y}<br>z: %{z}",
         "legendgroup": "group_1737428290.1650963",
         "line": {
          "color": "rgba(0, 0, 0, 0.15)",
          "width": 5
         },
         "mode": "lines",
         "name": "Detector",
         "showlegend": false,
         "type": "scatter3d",
         "x": [
          3.068999999999999,
          3.068999999999999,
          null,
          3.068999999999999,
          3.068999999999999,
          null,
          3.068999999999999,
          33.34125,
          null,
          3.068999999999999,
          3.068999999999999,
          null,
          3.068999999999999,
          33.34125,
          null,
          3.068999999999999,
          3.068999999999999,
          null,
          3.068999999999999,
          33.34125,
          null,
          3.068999999999999,
          33.34125,
          null,
          33.34125,
          33.34125,
          null,
          33.34125,
          33.34125,
          null,
          33.34125,
          33.34125,
          null,
          33.34125,
          33.34125,
          null
         ],
         "y": [
          -62.076,
          -62.076,
          null,
          -62.076,
          62.076,
          null,
          -62.076,
          -62.076,
          null,
          -62.076,
          62.076,
          null,
          -62.076,
          -62.076,
          null,
          62.076,
          62.076,
          null,
          62.076,
          62.076,
          null,
          62.076,
          62.076,
          null,
          -62.076,
          -62.076,
          null,
          -62.076,
          62.076,
          null,
          -62.076,
          62.076,
          null,
          62.076,
          62.076,
          null
         ],
         "z": [
          2.4619999999999997,
          64.538,
          null,
          2.4619999999999997,
          2.4619999999999997,
          null,
          2.4619999999999997,
          2.4619999999999997,
          null,
          64.538,
          64.538,
          null,
          64.538,
          64.538,
          null,
          2.4619999999999997,
          64.538,
          null,
          2.4619999999999997,
          2.4619999999999997,
          null,
          64.538,
          64.538,
          null,
          2.4619999999999997,
          64.538,
          null,
          2.4619999999999997,
          2.4619999999999997,
          null,
          64.538,
          64.538,
          null,
          2.4619999999999997,
          64.538,
          null
         ]
        },
        {
         "hovertemplate": "x: %{x}<br>y: %{y}<br>z: %{z}",
         "legendgroup": "group_1737428290.1650963",
         "line": {
          "color": "rgba(0, 0, 0, 0.15)",
          "width": 5
         },
         "mode": "lines",
         "name": "Detector",
         "showlegend": false,
         "type": "scatter3d",
         "x": [
          33.65875,
          33.65875,
          null,
          33.65875,
          33.65875,
          null,
          33.65875,
          63.931,
          null,
          33.65875,
          33.65875,
          null,
          33.65875,
          63.931,
          null,
          33.65875,
          33.65875,
          null,
          33.65875,
          63.931,
          null,
          33.65875,
          63.931,
          null,
          63.931,
          63.931,
          null,
          63.931,
          63.931,
          null,
          63.931,
          63.931,
          null,
          63.931,
          63.931,
          null
         ],
         "y": [
          -62.076,
          -62.076,
          null,
          -62.076,
          62.076,
          null,
          -62.076,
          -62.076,
          null,
          -62.076,
          62.076,
          null,
          -62.076,
          -62.076,
          null,
          62.076,
          62.076,
          null,
          62.076,
          62.076,
          null,
          62.076,
          62.076,
          null,
          -62.076,
          -62.076,
          null,
          -62.076,
          62.076,
          null,
          -62.076,
          62.076,
          null,
          62.076,
          62.076,
          null
         ],
         "z": [
          -64.538,
          -2.4620000000000033,
          null,
          -64.538,
          -64.538,
          null,
          -64.538,
          -64.538,
          null,
          -2.4620000000000033,
          -2.4620000000000033,
          null,
          -2.4620000000000033,
          -2.4620000000000033,
          null,
          -64.538,
          -2.4620000000000033,
          null,
          -64.538,
          -64.538,
          null,
          -2.4620000000000033,
          -2.4620000000000033,
          null,
          -64.538,
          -2.4620000000000033,
          null,
          -64.538,
          -64.538,
          null,
          -2.4620000000000033,
          -2.4620000000000033,
          null,
          -64.538,
          -2.4620000000000033,
          null
         ]
        },
        {
         "hovertemplate": "x: %{x}<br>y: %{y}<br>z: %{z}",
         "legendgroup": "group_1737428290.1650963",
         "line": {
          "color": "rgba(0, 0, 0, 0.15)",
          "width": 5
         },
         "mode": "lines",
         "name": "Detector",
         "showlegend": false,
         "type": "scatter3d",
         "x": [
          3.068999999999999,
          3.068999999999999,
          null,
          3.068999999999999,
          3.068999999999999,
          null,
          3.068999999999999,
          33.34125,
          null,
          3.068999999999999,
          3.068999999999999,
          null,
          3.068999999999999,
          33.34125,
          null,
          3.068999999999999,
          3.068999999999999,
          null,
          3.068999999999999,
          33.34125,
          null,
          3.068999999999999,
          33.34125,
          null,
          33.34125,
          33.34125,
          null,
          33.34125,
          33.34125,
          null,
          33.34125,
          33.34125,
          null,
          33.34125,
          33.34125,
          null
         ],
         "y": [
          -62.076,
          -62.076,
          null,
          -62.076,
          62.076,
          null,
          -62.076,
          -62.076,
          null,
          -62.076,
          62.076,
          null,
          -62.076,
          -62.076,
          null,
          62.076,
          62.076,
          null,
          62.076,
          62.076,
          null,
          62.076,
          62.076,
          null,
          -62.076,
          -62.076,
          null,
          -62.076,
          62.076,
          null,
          -62.076,
          62.076,
          null,
          62.076,
          62.076,
          null
         ],
         "z": [
          -64.538,
          -2.4620000000000033,
          null,
          -64.538,
          -64.538,
          null,
          -64.538,
          -64.538,
          null,
          -2.4620000000000033,
          -2.4620000000000033,
          null,
          -2.4620000000000033,
          -2.4620000000000033,
          null,
          -64.538,
          -2.4620000000000033,
          null,
          -64.538,
          -64.538,
          null,
          -2.4620000000000033,
          -2.4620000000000033,
          null,
          -64.538,
          -2.4620000000000033,
          null,
          -64.538,
          -64.538,
          null,
          -2.4620000000000033,
          -2.4620000000000033,
          null,
          -64.538,
          -2.4620000000000033,
          null
         ]
        },
        {
         "hovertemplate": "x: %{x}<br>y: %{y}<br>z: %{z}",
         "legendgroup": "group_1737428290.1650963",
         "line": {
          "color": "rgba(0, 0, 0, 0.15)",
          "width": 5
         },
         "mode": "lines",
         "name": "Detector",
         "showlegend": false,
         "type": "scatter3d",
         "x": [
          -33.34125,
          -33.34125,
          null,
          -33.34125,
          -33.34125,
          null,
          -33.34125,
          -3.068999999999999,
          null,
          -33.34125,
          -33.34125,
          null,
          -33.34125,
          -3.068999999999999,
          null,
          -33.34125,
          -33.34125,
          null,
          -33.34125,
          -3.068999999999999,
          null,
          -33.34125,
          -3.068999999999999,
          null,
          -3.068999999999999,
          -3.068999999999999,
          null,
          -3.068999999999999,
          -3.068999999999999,
          null,
          -3.068999999999999,
          -3.068999999999999,
          null,
          -3.068999999999999,
          -3.068999999999999,
          null
         ],
         "y": [
          -62.076,
          -62.076,
          null,
          -62.076,
          62.076,
          null,
          -62.076,
          -62.076,
          null,
          -62.076,
          62.076,
          null,
          -62.076,
          -62.076,
          null,
          62.076,
          62.076,
          null,
          62.076,
          62.076,
          null,
          62.076,
          62.076,
          null,
          -62.076,
          -62.076,
          null,
          -62.076,
          62.076,
          null,
          -62.076,
          62.076,
          null,
          62.076,
          62.076,
          null
         ],
         "z": [
          2.4619999999999997,
          64.538,
          null,
          2.4619999999999997,
          2.4619999999999997,
          null,
          2.4619999999999997,
          2.4619999999999997,
          null,
          64.538,
          64.538,
          null,
          64.538,
          64.538,
          null,
          2.4619999999999997,
          64.538,
          null,
          2.4619999999999997,
          2.4619999999999997,
          null,
          64.538,
          64.538,
          null,
          2.4619999999999997,
          64.538,
          null,
          2.4619999999999997,
          2.4619999999999997,
          null,
          64.538,
          64.538,
          null,
          2.4619999999999997,
          64.538,
          null
         ]
        },
        {
         "hovertemplate": "x: %{x}<br>y: %{y}<br>z: %{z}",
         "legendgroup": "group_1737428290.1650963",
         "line": {
          "color": "rgba(0, 0, 0, 0.15)",
          "width": 5
         },
         "mode": "lines",
         "name": "Detector",
         "showlegend": false,
         "type": "scatter3d",
         "x": [
          -63.931,
          -63.931,
          null,
          -63.931,
          -63.931,
          null,
          -63.931,
          -33.65875,
          null,
          -63.931,
          -63.931,
          null,
          -63.931,
          -33.65875,
          null,
          -63.931,
          -63.931,
          null,
          -63.931,
          -33.65875,
          null,
          -63.931,
          -33.65875,
          null,
          -33.65875,
          -33.65875,
          null,
          -33.65875,
          -33.65875,
          null,
          -33.65875,
          -33.65875,
          null,
          -33.65875,
          -33.65875,
          null
         ],
         "y": [
          -62.076,
          -62.076,
          null,
          -62.076,
          62.076,
          null,
          -62.076,
          -62.076,
          null,
          -62.076,
          62.076,
          null,
          -62.076,
          -62.076,
          null,
          62.076,
          62.076,
          null,
          62.076,
          62.076,
          null,
          62.076,
          62.076,
          null,
          -62.076,
          -62.076,
          null,
          -62.076,
          62.076,
          null,
          -62.076,
          62.076,
          null,
          62.076,
          62.076,
          null
         ],
         "z": [
          2.4619999999999997,
          64.538,
          null,
          2.4619999999999997,
          2.4619999999999997,
          null,
          2.4619999999999997,
          2.4619999999999997,
          null,
          64.538,
          64.538,
          null,
          64.538,
          64.538,
          null,
          2.4619999999999997,
          64.538,
          null,
          2.4619999999999997,
          2.4619999999999997,
          null,
          64.538,
          64.538,
          null,
          2.4619999999999997,
          64.538,
          null,
          2.4619999999999997,
          2.4619999999999997,
          null,
          64.538,
          64.538,
          null,
          2.4619999999999997,
          64.538,
          null
         ]
        },
        {
         "hovertemplate": "x: %{x}<br>y: %{y}<br>z: %{z}",
         "legendgroup": "group_1737428290.1650963",
         "line": {
          "color": "rgba(0, 0, 0, 0.15)",
          "width": 5
         },
         "mode": "lines",
         "name": "Detector",
         "showlegend": false,
         "type": "scatter3d",
         "x": [
          -33.34125,
          -33.34125,
          null,
          -33.34125,
          -33.34125,
          null,
          -33.34125,
          -3.068999999999999,
          null,
          -33.34125,
          -33.34125,
          null,
          -33.34125,
          -3.068999999999999,
          null,
          -33.34125,
          -33.34125,
          null,
          -33.34125,
          -3.068999999999999,
          null,
          -33.34125,
          -3.068999999999999,
          null,
          -3.068999999999999,
          -3.068999999999999,
          null,
          -3.068999999999999,
          -3.068999999999999,
          null,
          -3.068999999999999,
          -3.068999999999999,
          null,
          -3.068999999999999,
          -3.068999999999999,
          null
         ],
         "y": [
          -62.076,
          -62.076,
          null,
          -62.076,
          62.076,
          null,
          -62.076,
          -62.076,
          null,
          -62.076,
          62.076,
          null,
          -62.076,
          -62.076,
          null,
          62.076,
          62.076,
          null,
          62.076,
          62.076,
          null,
          62.076,
          62.076,
          null,
          -62.076,
          -62.076,
          null,
          -62.076,
          62.076,
          null,
          -62.076,
          62.076,
          null,
          62.076,
          62.076,
          null
         ],
         "z": [
          -64.538,
          -2.4620000000000033,
          null,
          -64.538,
          -64.538,
          null,
          -64.538,
          -64.538,
          null,
          -2.4620000000000033,
          -2.4620000000000033,
          null,
          -2.4620000000000033,
          -2.4620000000000033,
          null,
          -64.538,
          -2.4620000000000033,
          null,
          -64.538,
          -64.538,
          null,
          -2.4620000000000033,
          -2.4620000000000033,
          null,
          -64.538,
          -2.4620000000000033,
          null,
          -64.538,
          -64.538,
          null,
          -2.4620000000000033,
          -2.4620000000000033,
          null,
          -64.538,
          -2.4620000000000033,
          null
         ]
        },
        {
         "hovertemplate": "x: %{x}<br>y: %{y}<br>z: %{z}",
         "legendgroup": "group_1737428290.1650963",
         "line": {
          "color": "rgba(0, 0, 0, 0.15)",
          "width": 5
         },
         "mode": "lines",
         "name": "Detector",
         "showlegend": false,
         "type": "scatter3d",
         "x": [
          -63.931,
          -63.931,
          null,
          -63.931,
          -63.931,
          null,
          -63.931,
          -33.65875,
          null,
          -63.931,
          -63.931,
          null,
          -63.931,
          -33.65875,
          null,
          -63.931,
          -63.931,
          null,
          -63.931,
          -33.65875,
          null,
          -63.931,
          -33.65875,
          null,
          -33.65875,
          -33.65875,
          null,
          -33.65875,
          -33.65875,
          null,
          -33.65875,
          -33.65875,
          null,
          -33.65875,
          -33.65875,
          null
         ],
         "y": [
          -62.076,
          -62.076,
          null,
          -62.076,
          62.076,
          null,
          -62.076,
          -62.076,
          null,
          -62.076,
          62.076,
          null,
          -62.076,
          -62.076,
          null,
          62.076,
          62.076,
          null,
          62.076,
          62.076,
          null,
          62.076,
          62.076,
          null,
          -62.076,
          -62.076,
          null,
          -62.076,
          62.076,
          null,
          -62.076,
          62.076,
          null,
          62.076,
          62.076,
          null
         ],
         "z": [
          -64.538,
          -2.4620000000000033,
          null,
          -64.538,
          -64.538,
          null,
          -64.538,
          -64.538,
          null,
          -2.4620000000000033,
          -2.4620000000000033,
          null,
          -2.4620000000000033,
          -2.4620000000000033,
          null,
          -64.538,
          -2.4620000000000033,
          null,
          -64.538,
          -64.538,
          null,
          -2.4620000000000033,
          -2.4620000000000033,
          null,
          -64.538,
          -2.4620000000000033,
          null,
          -64.538,
          -64.538,
          null,
          -2.4620000000000033,
          -2.4620000000000033,
          null,
          -64.538,
          -2.4620000000000033,
          null
         ]
        }
       ],
       "layout": {
        "height": 800,
        "hoverlabel": {
         "font": {
          "family": "Droid sans, monospace"
         }
        },
        "legend": {
         "itemsizing": "constant",
         "title": {
          "text": "Legend"
         },
         "tracegroupgap": 1
        },
        "margin": {
         "b": 0,
         "l": 0,
         "r": 0,
         "t": 0
        },
        "scene": {
         "aspectmode": "manual",
         "aspectratio": {
          "x": 0.9905946884006321,
          "y": 0.961851932194986,
          "z": 1
         },
         "camera": {
          "center": {
           "x": 0,
           "y": -0.1,
           "z": -0.01
          },
          "eye": {
           "x": -2,
           "y": 1,
           "z": -0.01
          },
          "up": {
           "x": 0,
           "y": 1,
           "z": 0
          }
         },
         "xaxis": {
          "backgroundcolor": "white",
          "gridcolor": "lightgray",
          "nticks": 10,
          "range": [
           -76.71719999999999,
           76.71719999999999
          ],
          "showbackground": true,
          "showticklabels": true,
          "tickfont": {
           "size": 14
          },
          "title": {
           "font": {
            "size": 20
           },
           "text": "x [cm]"
          },
          "type": "linear"
         },
         "yaxis": {
          "backgroundcolor": "white",
          "gridcolor": "lightgray",
          "nticks": 10,
          "range": [
           -74.4912,
           74.4912
          ],
          "showbackground": true,
          "showticklabels": true,
          "tickfont": {
           "size": 14
          },
          "title": {
           "font": {
            "size": 20
           },
           "text": "y [cm]"
          },
          "type": "linear"
         },
         "zaxis": {
          "backgroundcolor": "white",
          "gridcolor": "lightgray",
          "nticks": 10,
          "range": [
           -77.4456,
           77.4456
          ],
          "showbackground": true,
          "showticklabels": true,
          "tickfont": {
           "size": 14
          },
          "title": {
           "font": {
            "size": 20
           },
           "text": "z [cm]"
          },
          "type": "linear"
         }
        },
        "scene2": {
         "aspectmode": "manual",
         "aspectratio": {
          "x": 0.9905946884006321,
          "y": 0.961851932194986,
          "z": 1
         },
         "camera": {
          "center": {
           "x": 0,
           "y": -0.1,
           "z": -0.01
          },
          "eye": {
           "x": -2,
           "y": 1,
           "z": -0.01
          },
          "up": {
           "x": 0,
           "y": 1,
           "z": 0
          }
         },
         "xaxis": {
          "backgroundcolor": "white",
          "gridcolor": "lightgray",
          "nticks": 10,
          "range": [
           -76.71719999999999,
           76.71719999999999
          ],
          "showbackground": true,
          "showticklabels": true,
          "tickfont": {
           "size": 14
          },
          "title": {
           "font": {
            "size": 20
           },
           "text": "x [cm]"
          }
         },
         "yaxis": {
          "backgroundcolor": "white",
          "gridcolor": "lightgray",
          "nticks": 10,
          "range": [
           -74.4912,
           74.4912
          ],
          "showbackground": true,
          "showticklabels": true,
          "tickfont": {
           "size": 14
          },
          "title": {
           "font": {
            "size": 20
           },
           "text": "y [cm]"
          }
         },
         "zaxis": {
          "backgroundcolor": "white",
          "gridcolor": "lightgray",
          "nticks": 10,
          "range": [
           -77.4456,
           77.4456
          ],
          "showbackground": true,
          "showticklabels": true,
          "tickfont": {
           "size": 14
          },
          "title": {
           "font": {
            "size": 20
           },
           "text": "z [cm]"
          }
         }
        },
        "scene3": {
         "aspectmode": "manual",
         "aspectratio": {
          "x": 0.9905946884006321,
          "y": 0.961851932194986,
          "z": 1
         },
         "camera": {
          "center": {
           "x": 0,
           "y": -0.1,
           "z": -0.01
          },
          "eye": {
           "x": -2,
           "y": 1,
           "z": -0.01
          },
          "up": {
           "x": 0,
           "y": 1,
           "z": 0
          }
         },
         "xaxis": {
          "backgroundcolor": "white",
          "gridcolor": "lightgray",
          "nticks": 10,
          "range": [
           -76.71719999999999,
           76.71719999999999
          ],
          "showbackground": true,
          "showticklabels": true,
          "tickfont": {
           "size": 14
          },
          "title": {
           "font": {
            "size": 20
           },
           "text": "x [cm]"
          }
         },
         "yaxis": {
          "backgroundcolor": "white",
          "gridcolor": "lightgray",
          "nticks": 10,
          "range": [
           -74.4912,
           74.4912
          ],
          "showbackground": true,
          "showticklabels": true,
          "tickfont": {
           "size": 14
          },
          "title": {
           "font": {
            "size": 20
           },
           "text": "y [cm]"
          }
         },
         "zaxis": {
          "backgroundcolor": "white",
          "gridcolor": "lightgray",
          "nticks": 10,
          "range": [
           -77.4456,
           77.4456
          ],
          "showbackground": true,
          "showticklabels": true,
          "tickfont": {
           "size": 14
          },
          "title": {
           "font": {
            "size": 20
           },
           "text": "z [cm]"
          }
         }
        },
        "showlegend": true,
        "template": {
         "data": {
          "bar": [
           {
            "error_x": {
             "color": "#2a3f5f"
            },
            "error_y": {
             "color": "#2a3f5f"
            },
            "marker": {
             "line": {
              "color": "#E5ECF6",
              "width": 0.5
             },
             "pattern": {
              "fillmode": "overlay",
              "size": 10,
              "solidity": 0.2
             }
            },
            "type": "bar"
           }
          ],
          "barpolar": [
           {
            "marker": {
             "line": {
              "color": "#E5ECF6",
              "width": 0.5
             },
             "pattern": {
              "fillmode": "overlay",
              "size": 10,
              "solidity": 0.2
             }
            },
            "type": "barpolar"
           }
          ],
          "carpet": [
           {
            "aaxis": {
             "endlinecolor": "#2a3f5f",
             "gridcolor": "white",
             "linecolor": "white",
             "minorgridcolor": "white",
             "startlinecolor": "#2a3f5f"
            },
            "baxis": {
             "endlinecolor": "#2a3f5f",
             "gridcolor": "white",
             "linecolor": "white",
             "minorgridcolor": "white",
             "startlinecolor": "#2a3f5f"
            },
            "type": "carpet"
           }
          ],
          "choropleth": [
           {
            "colorbar": {
             "outlinewidth": 0,
             "ticks": ""
            },
            "type": "choropleth"
           }
          ],
          "contour": [
           {
            "colorbar": {
             "outlinewidth": 0,
             "ticks": ""
            },
            "colorscale": [
             [
              0,
              "#0d0887"
             ],
             [
              0.1111111111111111,
              "#46039f"
             ],
             [
              0.2222222222222222,
              "#7201a8"
             ],
             [
              0.3333333333333333,
              "#9c179e"
             ],
             [
              0.4444444444444444,
              "#bd3786"
             ],
             [
              0.5555555555555556,
              "#d8576b"
             ],
             [
              0.6666666666666666,
              "#ed7953"
             ],
             [
              0.7777777777777778,
              "#fb9f3a"
             ],
             [
              0.8888888888888888,
              "#fdca26"
             ],
             [
              1,
              "#f0f921"
             ]
            ],
            "type": "contour"
           }
          ],
          "contourcarpet": [
           {
            "colorbar": {
             "outlinewidth": 0,
             "ticks": ""
            },
            "type": "contourcarpet"
           }
          ],
          "heatmap": [
           {
            "colorbar": {
             "outlinewidth": 0,
             "ticks": ""
            },
            "colorscale": [
             [
              0,
              "#0d0887"
             ],
             [
              0.1111111111111111,
              "#46039f"
             ],
             [
              0.2222222222222222,
              "#7201a8"
             ],
             [
              0.3333333333333333,
              "#9c179e"
             ],
             [
              0.4444444444444444,
              "#bd3786"
             ],
             [
              0.5555555555555556,
              "#d8576b"
             ],
             [
              0.6666666666666666,
              "#ed7953"
             ],
             [
              0.7777777777777778,
              "#fb9f3a"
             ],
             [
              0.8888888888888888,
              "#fdca26"
             ],
             [
              1,
              "#f0f921"
             ]
            ],
            "type": "heatmap"
           }
          ],
          "heatmapgl": [
           {
            "colorbar": {
             "outlinewidth": 0,
             "ticks": ""
            },
            "colorscale": [
             [
              0,
              "#0d0887"
             ],
             [
              0.1111111111111111,
              "#46039f"
             ],
             [
              0.2222222222222222,
              "#7201a8"
             ],
             [
              0.3333333333333333,
              "#9c179e"
             ],
             [
              0.4444444444444444,
              "#bd3786"
             ],
             [
              0.5555555555555556,
              "#d8576b"
             ],
             [
              0.6666666666666666,
              "#ed7953"
             ],
             [
              0.7777777777777778,
              "#fb9f3a"
             ],
             [
              0.8888888888888888,
              "#fdca26"
             ],
             [
              1,
              "#f0f921"
             ]
            ],
            "type": "heatmapgl"
           }
          ],
          "histogram": [
           {
            "marker": {
             "pattern": {
              "fillmode": "overlay",
              "size": 10,
              "solidity": 0.2
             }
            },
            "type": "histogram"
           }
          ],
          "histogram2d": [
           {
            "colorbar": {
             "outlinewidth": 0,
             "ticks": ""
            },
            "colorscale": [
             [
              0,
              "#0d0887"
             ],
             [
              0.1111111111111111,
              "#46039f"
             ],
             [
              0.2222222222222222,
              "#7201a8"
             ],
             [
              0.3333333333333333,
              "#9c179e"
             ],
             [
              0.4444444444444444,
              "#bd3786"
             ],
             [
              0.5555555555555556,
              "#d8576b"
             ],
             [
              0.6666666666666666,
              "#ed7953"
             ],
             [
              0.7777777777777778,
              "#fb9f3a"
             ],
             [
              0.8888888888888888,
              "#fdca26"
             ],
             [
              1,
              "#f0f921"
             ]
            ],
            "type": "histogram2d"
           }
          ],
          "histogram2dcontour": [
           {
            "colorbar": {
             "outlinewidth": 0,
             "ticks": ""
            },
            "colorscale": [
             [
              0,
              "#0d0887"
             ],
             [
              0.1111111111111111,
              "#46039f"
             ],
             [
              0.2222222222222222,
              "#7201a8"
             ],
             [
              0.3333333333333333,
              "#9c179e"
             ],
             [
              0.4444444444444444,
              "#bd3786"
             ],
             [
              0.5555555555555556,
              "#d8576b"
             ],
             [
              0.6666666666666666,
              "#ed7953"
             ],
             [
              0.7777777777777778,
              "#fb9f3a"
             ],
             [
              0.8888888888888888,
              "#fdca26"
             ],
             [
              1,
              "#f0f921"
             ]
            ],
            "type": "histogram2dcontour"
           }
          ],
          "mesh3d": [
           {
            "colorbar": {
             "outlinewidth": 0,
             "ticks": ""
            },
            "type": "mesh3d"
           }
          ],
          "parcoords": [
           {
            "line": {
             "colorbar": {
              "outlinewidth": 0,
              "ticks": ""
             }
            },
            "type": "parcoords"
           }
          ],
          "pie": [
           {
            "automargin": true,
            "type": "pie"
           }
          ],
          "scatter": [
           {
            "fillpattern": {
             "fillmode": "overlay",
             "size": 10,
             "solidity": 0.2
            },
            "type": "scatter"
           }
          ],
          "scatter3d": [
           {
            "line": {
             "colorbar": {
              "outlinewidth": 0,
              "ticks": ""
             }
            },
            "marker": {
             "colorbar": {
              "outlinewidth": 0,
              "ticks": ""
             }
            },
            "type": "scatter3d"
           }
          ],
          "scattercarpet": [
           {
            "marker": {
             "colorbar": {
              "outlinewidth": 0,
              "ticks": ""
             }
            },
            "type": "scattercarpet"
           }
          ],
          "scattergeo": [
           {
            "marker": {
             "colorbar": {
              "outlinewidth": 0,
              "ticks": ""
             }
            },
            "type": "scattergeo"
           }
          ],
          "scattergl": [
           {
            "marker": {
             "colorbar": {
              "outlinewidth": 0,
              "ticks": ""
             }
            },
            "type": "scattergl"
           }
          ],
          "scattermapbox": [
           {
            "marker": {
             "colorbar": {
              "outlinewidth": 0,
              "ticks": ""
             }
            },
            "type": "scattermapbox"
           }
          ],
          "scatterpolar": [
           {
            "marker": {
             "colorbar": {
              "outlinewidth": 0,
              "ticks": ""
             }
            },
            "type": "scatterpolar"
           }
          ],
          "scatterpolargl": [
           {
            "marker": {
             "colorbar": {
              "outlinewidth": 0,
              "ticks": ""
             }
            },
            "type": "scatterpolargl"
           }
          ],
          "scatterternary": [
           {
            "marker": {
             "colorbar": {
              "outlinewidth": 0,
              "ticks": ""
             }
            },
            "type": "scatterternary"
           }
          ],
          "surface": [
           {
            "colorbar": {
             "outlinewidth": 0,
             "ticks": ""
            },
            "colorscale": [
             [
              0,
              "#0d0887"
             ],
             [
              0.1111111111111111,
              "#46039f"
             ],
             [
              0.2222222222222222,
              "#7201a8"
             ],
             [
              0.3333333333333333,
              "#9c179e"
             ],
             [
              0.4444444444444444,
              "#bd3786"
             ],
             [
              0.5555555555555556,
              "#d8576b"
             ],
             [
              0.6666666666666666,
              "#ed7953"
             ],
             [
              0.7777777777777778,
              "#fb9f3a"
             ],
             [
              0.8888888888888888,
              "#fdca26"
             ],
             [
              1,
              "#f0f921"
             ]
            ],
            "type": "surface"
           }
          ],
          "table": [
           {
            "cells": {
             "fill": {
              "color": "#EBF0F8"
             },
             "line": {
              "color": "white"
             }
            },
            "header": {
             "fill": {
              "color": "#C8D4E3"
             },
             "line": {
              "color": "white"
             }
            },
            "type": "table"
           }
          ]
         },
         "layout": {
          "annotationdefaults": {
           "arrowcolor": "#2a3f5f",
           "arrowhead": 0,
           "arrowwidth": 1
          },
          "autotypenumbers": "strict",
          "coloraxis": {
           "colorbar": {
            "outlinewidth": 0,
            "ticks": ""
           }
          },
          "colorscale": {
           "diverging": [
            [
             0,
             "#8e0152"
            ],
            [
             0.1,
             "#c51b7d"
            ],
            [
             0.2,
             "#de77ae"
            ],
            [
             0.3,
             "#f1b6da"
            ],
            [
             0.4,
             "#fde0ef"
            ],
            [
             0.5,
             "#f7f7f7"
            ],
            [
             0.6,
             "#e6f5d0"
            ],
            [
             0.7,
             "#b8e186"
            ],
            [
             0.8,
             "#7fbc41"
            ],
            [
             0.9,
             "#4d9221"
            ],
            [
             1,
             "#276419"
            ]
           ],
           "sequential": [
            [
             0,
             "#0d0887"
            ],
            [
             0.1111111111111111,
             "#46039f"
            ],
            [
             0.2222222222222222,
             "#7201a8"
            ],
            [
             0.3333333333333333,
             "#9c179e"
            ],
            [
             0.4444444444444444,
             "#bd3786"
            ],
            [
             0.5555555555555556,
             "#d8576b"
            ],
            [
             0.6666666666666666,
             "#ed7953"
            ],
            [
             0.7777777777777778,
             "#fb9f3a"
            ],
            [
             0.8888888888888888,
             "#fdca26"
            ],
            [
             1,
             "#f0f921"
            ]
           ],
           "sequentialminus": [
            [
             0,
             "#0d0887"
            ],
            [
             0.1111111111111111,
             "#46039f"
            ],
            [
             0.2222222222222222,
             "#7201a8"
            ],
            [
             0.3333333333333333,
             "#9c179e"
            ],
            [
             0.4444444444444444,
             "#bd3786"
            ],
            [
             0.5555555555555556,
             "#d8576b"
            ],
            [
             0.6666666666666666,
             "#ed7953"
            ],
            [
             0.7777777777777778,
             "#fb9f3a"
            ],
            [
             0.8888888888888888,
             "#fdca26"
            ],
            [
             1,
             "#f0f921"
            ]
           ]
          },
          "colorway": [
           "#636efa",
           "#EF553B",
           "#00cc96",
           "#ab63fa",
           "#FFA15A",
           "#19d3f3",
           "#FF6692",
           "#B6E880",
           "#FF97FF",
           "#FECB52"
          ],
          "font": {
           "color": "#2a3f5f"
          },
          "geo": {
           "bgcolor": "white",
           "lakecolor": "white",
           "landcolor": "#E5ECF6",
           "showlakes": true,
           "showland": true,
           "subunitcolor": "white"
          },
          "hoverlabel": {
           "align": "left"
          },
          "hovermode": "closest",
          "mapbox": {
           "style": "light"
          },
          "paper_bgcolor": "white",
          "plot_bgcolor": "#E5ECF6",
          "polar": {
           "angularaxis": {
            "gridcolor": "white",
            "linecolor": "white",
            "ticks": ""
           },
           "bgcolor": "#E5ECF6",
           "radialaxis": {
            "gridcolor": "white",
            "linecolor": "white",
            "ticks": ""
           }
          },
          "scene": {
           "xaxis": {
            "backgroundcolor": "#E5ECF6",
            "gridcolor": "white",
            "gridwidth": 2,
            "linecolor": "white",
            "showbackground": true,
            "ticks": "",
            "zerolinecolor": "white"
           },
           "yaxis": {
            "backgroundcolor": "#E5ECF6",
            "gridcolor": "white",
            "gridwidth": 2,
            "linecolor": "white",
            "showbackground": true,
            "ticks": "",
            "zerolinecolor": "white"
           },
           "zaxis": {
            "backgroundcolor": "#E5ECF6",
            "gridcolor": "white",
            "gridwidth": 2,
            "linecolor": "white",
            "showbackground": true,
            "ticks": "",
            "zerolinecolor": "white"
           }
          },
          "shapedefaults": {
           "line": {
            "color": "#2a3f5f"
           }
          },
          "ternary": {
           "aaxis": {
            "gridcolor": "white",
            "linecolor": "white",
            "ticks": ""
           },
           "baxis": {
            "gridcolor": "white",
            "linecolor": "white",
            "ticks": ""
           },
           "bgcolor": "#E5ECF6",
           "caxis": {
            "gridcolor": "white",
            "linecolor": "white",
            "ticks": ""
           }
          },
          "title": {
           "x": 0.05
          },
          "xaxis": {
           "automargin": true,
           "gridcolor": "white",
           "linecolor": "white",
           "ticks": "",
           "title": {
            "standoff": 15
           },
           "zerolinecolor": "white",
           "zerolinewidth": 2
          },
          "yaxis": {
           "automargin": true,
           "gridcolor": "white",
           "linecolor": "white",
           "ticks": "",
           "title": {
            "standoff": 15
           },
           "zerolinecolor": "white",
           "zerolinewidth": 2
          }
         }
        },
        "width": 800
       }
      },
      "text/html": [
       "<div>                            <div id=\"a7fcdac2-ba07-47b4-b1b8-39f49552383a\" class=\"plotly-graph-div\" style=\"height:800px; width:800px;\"></div>            <script type=\"text/javascript\">                require([\"plotly\"], function(Plotly) {                    window.PLOTLYENV=window.PLOTLYENV || {};                                    if (document.getElementById(\"a7fcdac2-ba07-47b4-b1b8-39f49552383a\")) {                    Plotly.newPlot(                        \"a7fcdac2-ba07-47b4-b1b8-39f49552383a\",                        [{\"hovertemplate\":\"x: %{x}\\u003cbr\\u003ey: %{y}\\u003cbr\\u003ez: %{z}\\u003cbr\\u003e%{text}\",\"marker\":{\"cmax\":6,\"cmin\":-1,\"color\":[2,2,2,2,2,2,2,2,2,2,2,2,2,2,2,2,2,2,2,2,2,2,2,2,2,2,2,2,2,2,2,2,2,2,2,2,2,2,2,2,2,2,2,2,2,2,2,2,2,2,2,2,2,2,2,2,2,2,2,2,2,2,2,2,2,2,2,2,2,2,2,2,2,2,2,2,2,2,2,2,2,2,2,2,2,2,2,2,2,2,2,2,2,2,2,2,2,2,2,2,2,2,2,2,2,2,2,2,2,2,2,2,2,2,2,2,2,2,2,2,2,2,2,2,2,2,2,2,2,2,2,2,2,2,2,2,2,2,2,2,2,2,2],\"colorscale\":[[0.0,\"#808080\"],[0.14285714285714285,\"#636EFA\"],[0.2857142857142857,\"#EF553B\"],[0.42857142857142855,\"#00CC96\"],[0.5714285714285714,\"#AB63FA\"],[0.7142857142857143,\"#FFA15A\"],[0.8571428571428571,\"#19D3F3\"],[1.0,\"#FF6692\"]],\"size\":2},\"mode\":\"markers\",\"name\":\"Reco particle 0\",\"showlegend\":true,\"text\":[\"Particle 0\\u003cbr\\u003ePid: 2\",\"Particle 0\\u003cbr\\u003ePid: 2\",\"Particle 0\\u003cbr\\u003ePid: 2\",\"Particle 0\\u003cbr\\u003ePid: 2\",\"Particle 0\\u003cbr\\u003ePid: 2\",\"Particle 0\\u003cbr\\u003ePid: 2\",\"Particle 0\\u003cbr\\u003ePid: 2\",\"Particle 0\\u003cbr\\u003ePid: 2\",\"Particle 0\\u003cbr\\u003ePid: 2\",\"Particle 0\\u003cbr\\u003ePid: 2\",\"Particle 0\\u003cbr\\u003ePid: 2\",\"Particle 0\\u003cbr\\u003ePid: 2\",\"Particle 0\\u003cbr\\u003ePid: 2\",\"Particle 0\\u003cbr\\u003ePid: 2\",\"Particle 0\\u003cbr\\u003ePid: 2\",\"Particle 0\\u003cbr\\u003ePid: 2\",\"Particle 0\\u003cbr\\u003ePid: 2\",\"Particle 0\\u003cbr\\u003ePid: 2\",\"Particle 0\\u003cbr\\u003ePid: 2\",\"Particle 0\\u003cbr\\u003ePid: 2\",\"Particle 0\\u003cbr\\u003ePid: 2\",\"Particle 0\\u003cbr\\u003ePid: 2\",\"Particle 0\\u003cbr\\u003ePid: 2\",\"Particle 0\\u003cbr\\u003ePid: 2\",\"Particle 0\\u003cbr\\u003ePid: 2\",\"Particle 0\\u003cbr\\u003ePid: 2\",\"Particle 0\\u003cbr\\u003ePid: 2\",\"Particle 0\\u003cbr\\u003ePid: 2\",\"Particle 0\\u003cbr\\u003ePid: 2\",\"Particle 0\\u003cbr\\u003ePid: 2\",\"Particle 0\\u003cbr\\u003ePid: 2\",\"Particle 0\\u003cbr\\u003ePid: 2\",\"Particle 0\\u003cbr\\u003ePid: 2\",\"Particle 0\\u003cbr\\u003ePid: 2\",\"Particle 0\\u003cbr\\u003ePid: 2\",\"Particle 0\\u003cbr\\u003ePid: 2\",\"Particle 0\\u003cbr\\u003ePid: 2\",\"Particle 0\\u003cbr\\u003ePid: 2\",\"Particle 0\\u003cbr\\u003ePid: 2\",\"Particle 0\\u003cbr\\u003ePid: 2\",\"Particle 0\\u003cbr\\u003ePid: 2\",\"Particle 0\\u003cbr\\u003ePid: 2\",\"Particle 0\\u003cbr\\u003ePid: 2\",\"Particle 0\\u003cbr\\u003ePid: 2\",\"Particle 0\\u003cbr\\u003ePid: 2\",\"Particle 0\\u003cbr\\u003ePid: 2\",\"Particle 0\\u003cbr\\u003ePid: 2\",\"Particle 0\\u003cbr\\u003ePid: 2\",\"Particle 0\\u003cbr\\u003ePid: 2\",\"Particle 0\\u003cbr\\u003ePid: 2\",\"Particle 0\\u003cbr\\u003ePid: 2\",\"Particle 0\\u003cbr\\u003ePid: 2\",\"Particle 0\\u003cbr\\u003ePid: 2\",\"Particle 0\\u003cbr\\u003ePid: 2\",\"Particle 0\\u003cbr\\u003ePid: 2\",\"Particle 0\\u003cbr\\u003ePid: 2\",\"Particle 0\\u003cbr\\u003ePid: 2\",\"Particle 0\\u003cbr\\u003ePid: 2\",\"Particle 0\\u003cbr\\u003ePid: 2\",\"Particle 0\\u003cbr\\u003ePid: 2\",\"Particle 0\\u003cbr\\u003ePid: 2\",\"Particle 0\\u003cbr\\u003ePid: 2\",\"Particle 0\\u003cbr\\u003ePid: 2\",\"Particle 0\\u003cbr\\u003ePid: 2\",\"Particle 0\\u003cbr\\u003ePid: 2\",\"Particle 0\\u003cbr\\u003ePid: 2\",\"Particle 0\\u003cbr\\u003ePid: 2\",\"Particle 0\\u003cbr\\u003ePid: 2\",\"Particle 0\\u003cbr\\u003ePid: 2\",\"Particle 0\\u003cbr\\u003ePid: 2\",\"Particle 0\\u003cbr\\u003ePid: 2\",\"Particle 0\\u003cbr\\u003ePid: 2\",\"Particle 0\\u003cbr\\u003ePid: 2\",\"Particle 0\\u003cbr\\u003ePid: 2\",\"Particle 0\\u003cbr\\u003ePid: 2\",\"Particle 0\\u003cbr\\u003ePid: 2\",\"Particle 0\\u003cbr\\u003ePid: 2\",\"Particle 0\\u003cbr\\u003ePid: 2\",\"Particle 0\\u003cbr\\u003ePid: 2\",\"Particle 0\\u003cbr\\u003ePid: 2\",\"Particle 0\\u003cbr\\u003ePid: 2\",\"Particle 0\\u003cbr\\u003ePid: 2\",\"Particle 0\\u003cbr\\u003ePid: 2\",\"Particle 0\\u003cbr\\u003ePid: 2\",\"Particle 0\\u003cbr\\u003ePid: 2\",\"Particle 0\\u003cbr\\u003ePid: 2\",\"Particle 0\\u003cbr\\u003ePid: 2\",\"Particle 0\\u003cbr\\u003ePid: 2\",\"Particle 0\\u003cbr\\u003ePid: 2\",\"Particle 0\\u003cbr\\u003ePid: 2\",\"Particle 0\\u003cbr\\u003ePid: 2\",\"Particle 0\\u003cbr\\u003ePid: 2\",\"Particle 0\\u003cbr\\u003ePid: 2\",\"Particle 0\\u003cbr\\u003ePid: 2\",\"Particle 0\\u003cbr\\u003ePid: 2\",\"Particle 0\\u003cbr\\u003ePid: 2\",\"Particle 0\\u003cbr\\u003ePid: 2\",\"Particle 0\\u003cbr\\u003ePid: 2\",\"Particle 0\\u003cbr\\u003ePid: 2\",\"Particle 0\\u003cbr\\u003ePid: 2\",\"Particle 0\\u003cbr\\u003ePid: 2\",\"Particle 0\\u003cbr\\u003ePid: 2\",\"Particle 0\\u003cbr\\u003ePid: 2\",\"Particle 0\\u003cbr\\u003ePid: 2\",\"Particle 0\\u003cbr\\u003ePid: 2\",\"Particle 0\\u003cbr\\u003ePid: 2\",\"Particle 0\\u003cbr\\u003ePid: 2\",\"Particle 0\\u003cbr\\u003ePid: 2\",\"Particle 0\\u003cbr\\u003ePid: 2\",\"Particle 0\\u003cbr\\u003ePid: 2\",\"Particle 0\\u003cbr\\u003ePid: 2\",\"Particle 0\\u003cbr\\u003ePid: 2\",\"Particle 0\\u003cbr\\u003ePid: 2\",\"Particle 0\\u003cbr\\u003ePid: 2\",\"Particle 0\\u003cbr\\u003ePid: 2\",\"Particle 0\\u003cbr\\u003ePid: 2\",\"Particle 0\\u003cbr\\u003ePid: 2\",\"Particle 0\\u003cbr\\u003ePid: 2\",\"Particle 0\\u003cbr\\u003ePid: 2\",\"Particle 0\\u003cbr\\u003ePid: 2\",\"Particle 0\\u003cbr\\u003ePid: 2\",\"Particle 0\\u003cbr\\u003ePid: 2\",\"Particle 0\\u003cbr\\u003ePid: 2\",\"Particle 0\\u003cbr\\u003ePid: 2\",\"Particle 0\\u003cbr\\u003ePid: 2\",\"Particle 0\\u003cbr\\u003ePid: 2\",\"Particle 0\\u003cbr\\u003ePid: 2\",\"Particle 0\\u003cbr\\u003ePid: 2\",\"Particle 0\\u003cbr\\u003ePid: 2\",\"Particle 0\\u003cbr\\u003ePid: 2\",\"Particle 0\\u003cbr\\u003ePid: 2\",\"Particle 0\\u003cbr\\u003ePid: 2\",\"Particle 0\\u003cbr\\u003ePid: 2\",\"Particle 0\\u003cbr\\u003ePid: 2\",\"Particle 0\\u003cbr\\u003ePid: 2\",\"Particle 0\\u003cbr\\u003ePid: 2\",\"Particle 0\\u003cbr\\u003ePid: 2\",\"Particle 0\\u003cbr\\u003ePid: 2\",\"Particle 0\\u003cbr\\u003ePid: 2\",\"Particle 0\\u003cbr\\u003ePid: 2\",\"Particle 0\\u003cbr\\u003ePid: 2\",\"Particle 0\\u003cbr\\u003ePid: 2\",\"Particle 0\\u003cbr\\u003ePid: 2\"],\"x\":[25.052101135253906,24.60869598388672,24.60869598388672,24.60869598388672,24.165298461914062,25.052101135253906,24.60869598388672,25.052101135253906,24.60869598388672,25.052101135253906,25.495498657226562,24.60869598388672,24.60869598388672,24.60869598388672,24.165298461914062,24.165298461914062,25.052101135253906,24.165298461914062,24.165298461914062,24.60869598388672,25.052101135253906,24.165298461914062,23.721900939941406,24.165298461914062,24.60869598388672,24.165298461914062,24.60869598388672,23.27849578857422,24.165298461914062,24.60869598388672,25.052101135253906,23.721900939941406,23.721900939941406,24.60869598388672,25.052101135253906,23.27849578857422,23.27849578857422,23.721900939941406,25.052101135253906,23.27849578857422,23.721900939941406,24.165298461914062,24.60869598388672,23.721900939941406,24.165298461914062,25.052101135253906,23.721900939941406,24.165298461914062,24.60869598388672,24.165298461914062,23.721900939941406,24.165298461914062,24.60869598388672,24.165298461914062,24.165298461914062,24.165298461914062,23.721900939941406,24.60869598388672,24.165298461914062,24.165298461914062,24.60869598388672,24.165298461914062,24.165298461914062,24.165298461914062,24.60869598388672,23.721900939941406,24.165298461914062,24.165298461914062,24.165298461914062,24.165298461914062,24.165298461914062,24.165298461914062,23.721900939941406,23.721900939941406,23.721900939941406,24.165298461914062,24.60869598388672,23.721900939941406,24.165298461914062,24.165298461914062,23.721900939941406,24.165298461914062,23.721900939941406,24.165298461914062,23.721900939941406,24.165298461914062,23.721900939941406,24.165298461914062,23.721900939941406,23.721900939941406,23.721900939941406,23.721900939941406,23.721900939941406,23.721900939941406,23.27849578857422,23.721900939941406,23.721900939941406,23.27849578857422,23.27849578857422,23.721900939941406,23.27849578857422,23.721900939941406,23.721900939941406,23.721900939941406,23.721900939941406,23.27849578857422,23.721900939941406,23.27849578857422,23.27849578857422,23.27849578857422,23.27849578857422,23.27849578857422,23.27849578857422,23.27849578857422,23.721900939941406,23.27849578857422,23.721900939941406,22.835098266601562,23.27849578857422,23.27849578857422,22.835098266601562,23.721900939941406,23.27849578857422,22.835098266601562,23.27849578857422,22.835098266601562,23.27849578857422,23.27849578857422,23.27849578857422,23.721900939941406,23.27849578857422,23.27849578857422,23.27849578857422,23.27849578857422,23.27849578857422,23.27849578857422,23.27849578857422,22.835098266601562,23.27849578857422,22.835098266601562,23.27849578857422,23.27849578857422,24.165298461914062],\"y\":[33.033294677734375,33.033294677734375,33.033294677734375,33.033294677734375,33.033294677734375,33.033294677734375,33.47669982910156,33.47669982910156,33.47669982910156,33.47669982910156,33.47669982910156,33.92009735107422,33.47669982910156,33.92009735107422,33.47669982910156,33.92009735107422,33.92009735107422,33.47669982910156,33.92009735107422,33.92009735107422,33.92009735107422,34.363494873046875,33.47669982910156,33.47669982910156,33.47669982910156,33.92009735107422,33.92009735107422,33.92009735107422,33.92009735107422,33.92009735107422,33.92009735107422,34.363494873046875,33.47669982910156,33.92009735107422,33.92009735107422,34.363494873046875,34.80690002441406,33.92009735107422,33.92009735107422,34.363494873046875,34.363494873046875,34.363494873046875,34.363494873046875,34.80690002441406,33.92009735107422,33.92009735107422,34.363494873046875,34.363494873046875,34.363494873046875,34.80690002441406,33.92009735107422,34.363494873046875,34.363494873046875,34.363494873046875,34.363494873046875,34.80690002441406,34.80690002441406,34.80690002441406,34.80690002441406,34.80690002441406,34.80690002441406,35.25029754638672,34.80690002441406,35.25029754638672,35.25029754638672,35.25029754638672,35.25029754638672,35.25029754638672,35.25029754638672,35.25029754638672,35.693695068359375,35.693695068359375,35.693695068359375,36.13710021972656,35.693695068359375,35.693695068359375,35.693695068359375,36.13710021972656,35.693695068359375,36.13710021972656,36.13710021972656,36.13710021972656,36.13710021972656,36.13710021972656,36.13710021972656,36.13710021972656,36.13710021972656,36.13710021972656,36.58049774169922,36.13710021972656,36.58049774169922,36.58049774169922,36.58049774169922,37.023895263671875,37.023895263671875,37.023895263671875,37.023895263671875,36.58049774169922,37.023895263671875,37.023895263671875,37.023895263671875,37.023895263671875,37.023895263671875,37.46730041503906,37.46730041503906,37.46730041503906,37.46730041503906,37.46730041503906,37.46730041503906,37.46730041503906,37.91069793701172,37.46730041503906,37.91069793701172,37.91069793701172,37.91069793701172,37.91069793701172,37.91069793701172,37.91069793701172,37.91069793701172,38.354095458984375,37.91069793701172,37.91069793701172,38.354095458984375,38.354095458984375,38.354095458984375,38.354095458984375,38.354095458984375,38.354095458984375,38.79750061035156,38.79750061035156,38.79750061035156,38.79750061035156,38.79750061035156,38.79750061035156,39.24089813232422,39.24089813232422,39.24089813232422,39.24089813232422,39.24089813232422,39.24089813232422,39.24089813232422,39.24089813232422,38.354095458984375],\"z\":[31.25969696044922,31.703102111816406,32.14649963378906,32.58989715576172,33.033302307128906,33.033302307128906,33.033302307128906,33.033302307128906,33.47669982910156,33.92009735107422,34.363502502441406,34.363502502441406,34.80690002441406,34.80690002441406,35.25029754638672,35.25029754638672,35.25029754638672,35.693695068359375,35.693695068359375,35.693695068359375,35.693695068359375,35.693695068359375,36.13710021972656,36.13710021972656,36.13710021972656,36.13710021972656,36.13710021972656,36.58049774169922,36.58049774169922,36.58049774169922,36.58049774169922,36.58049774169922,37.023895263671875,37.023895263671875,37.023895263671875,37.023895263671875,37.023895263671875,37.46730041503906,37.46730041503906,37.46730041503906,37.46730041503906,37.46730041503906,37.46730041503906,37.46730041503906,37.91069793701172,37.91069793701172,37.91069793701172,37.91069793701172,37.91069793701172,37.91069793701172,38.354095458984375,38.354095458984375,38.354095458984375,38.79750061035156,39.24089813232422,39.684295654296875,40.12770080566406,40.12770080566406,40.57109832763672,41.014495849609375,41.014495849609375,41.014495849609375,41.45790100097656,41.90129852294922,41.90129852294922,42.344696044921875,42.344696044921875,42.78810119628906,43.23149871826172,43.674896240234375,43.674896240234375,44.11830139160156,44.56169891357422,44.56169891357422,45.005096435546875,45.005096435546875,45.005096435546875,45.005096435546875,45.44850158691406,45.89189910888672,46.335296630859375,46.335296630859375,46.77870178222656,46.77870178222656,47.22209930419922,47.22209930419922,47.665496826171875,47.665496826171875,47.665496826171875,48.10890197753906,48.55229949951172,48.995697021484375,49.43910217285156,49.88249969482422,50.325897216796875,50.325897216796875,50.76929473876953,51.21269989013672,51.21269989013672,51.21269989013672,51.656097412109375,51.656097412109375,52.09949493408203,52.54290008544922,52.986297607421875,53.42969512939453,53.42969512939453,53.87310028076172,54.316497802734375,54.75989532470703,54.75989532470703,55.20330047607422,55.20330047607422,55.646697998046875,55.646697998046875,56.09009552001953,56.09009552001953,56.53350067138672,56.53350067138672,56.53350067138672,56.976898193359375,56.976898193359375,57.42030334472656,57.86369323730469,57.86369323730469,58.307098388671875,58.307098388671875,59.19389343261719,59.637298583984375,60.08070373535156,60.52409362792969,60.967498779296875,61.41090393066406,61.85429382324219,62.297698974609375,62.74110412597656,63.18449401855469,63.627899169921875,63.627899169921875,64.07130432128906,64.07130432128906,64.51469421386719,58.75050354003906],\"type\":\"scatter3d\"},{\"hovertemplate\":\"x: %{x}\\u003cbr\\u003ey: %{y}\\u003cbr\\u003ez: %{z}\\u003cbr\\u003e%{text}\",\"marker\":{\"cmax\":6,\"cmin\":-1,\"color\":[5,5,5,5,5,5,5,5,5,5,5,5,5,5,5,5,5,5,5,5,5,5,5,5,5,5,5,5,5,5,5,5,5,5,5,5,5,5,5,5,5,5,5,5,5,5,5,5,5,5,5,5,5,5,5,5,5,5,5,5,5,5,5,5,5,5,5,5,5,5,5,5,5,5,5,5,5,5,5,5],\"colorscale\":[[0.0,\"#808080\"],[0.14285714285714285,\"#636EFA\"],[0.2857142857142857,\"#EF553B\"],[0.42857142857142855,\"#00CC96\"],[0.5714285714285714,\"#AB63FA\"],[0.7142857142857143,\"#FFA15A\"],[0.8571428571428571,\"#19D3F3\"],[1.0,\"#FF6692\"]],\"size\":2},\"mode\":\"markers\",\"name\":\"Reco particle 1\",\"showlegend\":true,\"text\":[\"Particle 1\\u003cbr\\u003ePid: 5\",\"Particle 1\\u003cbr\\u003ePid: 5\",\"Particle 1\\u003cbr\\u003ePid: 5\",\"Particle 1\\u003cbr\\u003ePid: 5\",\"Particle 1\\u003cbr\\u003ePid: 5\",\"Particle 1\\u003cbr\\u003ePid: 5\",\"Particle 1\\u003cbr\\u003ePid: 5\",\"Particle 1\\u003cbr\\u003ePid: 5\",\"Particle 1\\u003cbr\\u003ePid: 5\",\"Particle 1\\u003cbr\\u003ePid: 5\",\"Particle 1\\u003cbr\\u003ePid: 5\",\"Particle 1\\u003cbr\\u003ePid: 5\",\"Particle 1\\u003cbr\\u003ePid: 5\",\"Particle 1\\u003cbr\\u003ePid: 5\",\"Particle 1\\u003cbr\\u003ePid: 5\",\"Particle 1\\u003cbr\\u003ePid: 5\",\"Particle 1\\u003cbr\\u003ePid: 5\",\"Particle 1\\u003cbr\\u003ePid: 5\",\"Particle 1\\u003cbr\\u003ePid: 5\",\"Particle 1\\u003cbr\\u003ePid: 5\",\"Particle 1\\u003cbr\\u003ePid: 5\",\"Particle 1\\u003cbr\\u003ePid: 5\",\"Particle 1\\u003cbr\\u003ePid: 5\",\"Particle 1\\u003cbr\\u003ePid: 5\",\"Particle 1\\u003cbr\\u003ePid: 5\",\"Particle 1\\u003cbr\\u003ePid: 5\",\"Particle 1\\u003cbr\\u003ePid: 5\",\"Particle 1\\u003cbr\\u003ePid: 5\",\"Particle 1\\u003cbr\\u003ePid: 5\",\"Particle 1\\u003cbr\\u003ePid: 5\",\"Particle 1\\u003cbr\\u003ePid: 5\",\"Particle 1\\u003cbr\\u003ePid: 5\",\"Particle 1\\u003cbr\\u003ePid: 5\",\"Particle 1\\u003cbr\\u003ePid: 5\",\"Particle 1\\u003cbr\\u003ePid: 5\",\"Particle 1\\u003cbr\\u003ePid: 5\",\"Particle 1\\u003cbr\\u003ePid: 5\",\"Particle 1\\u003cbr\\u003ePid: 5\",\"Particle 1\\u003cbr\\u003ePid: 5\",\"Particle 1\\u003cbr\\u003ePid: 5\",\"Particle 1\\u003cbr\\u003ePid: 5\",\"Particle 1\\u003cbr\\u003ePid: 5\",\"Particle 1\\u003cbr\\u003ePid: 5\",\"Particle 1\\u003cbr\\u003ePid: 5\",\"Particle 1\\u003cbr\\u003ePid: 5\",\"Particle 1\\u003cbr\\u003ePid: 5\",\"Particle 1\\u003cbr\\u003ePid: 5\",\"Particle 1\\u003cbr\\u003ePid: 5\",\"Particle 1\\u003cbr\\u003ePid: 5\",\"Particle 1\\u003cbr\\u003ePid: 5\",\"Particle 1\\u003cbr\\u003ePid: 5\",\"Particle 1\\u003cbr\\u003ePid: 5\",\"Particle 1\\u003cbr\\u003ePid: 5\",\"Particle 1\\u003cbr\\u003ePid: 5\",\"Particle 1\\u003cbr\\u003ePid: 5\",\"Particle 1\\u003cbr\\u003ePid: 5\",\"Particle 1\\u003cbr\\u003ePid: 5\",\"Particle 1\\u003cbr\\u003ePid: 5\",\"Particle 1\\u003cbr\\u003ePid: 5\",\"Particle 1\\u003cbr\\u003ePid: 5\",\"Particle 1\\u003cbr\\u003ePid: 5\",\"Particle 1\\u003cbr\\u003ePid: 5\",\"Particle 1\\u003cbr\\u003ePid: 5\",\"Particle 1\\u003cbr\\u003ePid: 5\",\"Particle 1\\u003cbr\\u003ePid: 5\",\"Particle 1\\u003cbr\\u003ePid: 5\",\"Particle 1\\u003cbr\\u003ePid: 5\",\"Particle 1\\u003cbr\\u003ePid: 5\",\"Particle 1\\u003cbr\\u003ePid: 5\",\"Particle 1\\u003cbr\\u003ePid: 5\",\"Particle 1\\u003cbr\\u003ePid: 5\",\"Particle 1\\u003cbr\\u003ePid: 5\",\"Particle 1\\u003cbr\\u003ePid: 5\",\"Particle 1\\u003cbr\\u003ePid: 5\",\"Particle 1\\u003cbr\\u003ePid: 5\",\"Particle 1\\u003cbr\\u003ePid: 5\",\"Particle 1\\u003cbr\\u003ePid: 5\",\"Particle 1\\u003cbr\\u003ePid: 5\",\"Particle 1\\u003cbr\\u003ePid: 5\",\"Particle 1\\u003cbr\\u003ePid: 5\"],\"x\":[24.60869598388672,25.052101135253906,24.60869598388672,24.165298461914062,24.165298461914062,24.60869598388672,25.052101135253906,24.60869598388672,24.60869598388672,24.165298461914062,24.60869598388672,24.165298461914062,24.165298461914062,24.60869598388672,24.165298461914062,24.165298461914062,23.721900939941406,24.165298461914062,23.27849578857422,23.721900939941406,23.27849578857422,23.721900939941406,24.165298461914062,23.721900939941406,23.721900939941406,23.721900939941406,22.835098266601562,22.391700744628906,23.27849578857422,23.27849578857422,22.835098266601562,22.835098266601562,22.835098266601562,21.94829559326172,22.391700744628906,22.835098266601562,21.94829559326172,22.835098266601562,21.94829559326172,22.391700744628906,22.391700744628906,21.94829559326172,22.391700744628906,22.835098266601562,21.504898071289062,22.391700744628906,21.504898071289062,21.504898071289062,22.391700744628906,21.94829559326172,21.94829559326172,21.504898071289062,21.94829559326172,21.504898071289062,21.94829559326172,21.504898071289062,21.94829559326172,21.504898071289062,21.504898071289062,21.504898071289062,21.504898071289062,21.061500549316406,21.061500549316406,21.504898071289062,20.61809539794922,20.174697875976562,20.61809539794922,20.61809539794922,20.174697875976562,20.61809539794922,20.174697875976562,20.61809539794922,19.731300354003906,20.61809539794922,19.28789520263672,20.174697875976562,20.61809539794922,20.174697875976562,20.174697875976562,23.721900939941406],\"y\":[32.58989715576172,32.58989715576172,33.033294677734375,32.14649963378906,32.58989715576172,32.58989715576172,32.58989715576172,32.14649963378906,32.58989715576172,32.58989715576172,32.58989715576172,32.14649963378906,32.58989715576172,32.14649963378906,32.58989715576172,32.14649963378906,33.033294677734375,32.14649963378906,32.14649963378906,32.14649963378906,32.58989715576172,32.14649963378906,32.14649963378906,32.14649963378906,32.14649963378906,32.14649963378906,32.58989715576172,32.14649963378906,32.14649963378906,32.14649963378906,31.703094482421875,32.14649963378906,31.703094482421875,31.703094482421875,31.703094482421875,31.703094482421875,31.703094482421875,31.703094482421875,32.14649963378906,32.14649963378906,31.703094482421875,32.14649963378906,31.703094482421875,31.703094482421875,31.703094482421875,31.703094482421875,31.25969696044922,31.703094482421875,31.703094482421875,32.14649963378906,31.25969696044922,31.703094482421875,31.703094482421875,32.14649963378906,31.25969696044922,31.25969696044922,31.25969696044922,31.25969696044922,31.25969696044922,31.25969696044922,31.25969696044922,31.25969696044922,31.25969696044922,31.25969696044922,30.816299438476562,30.816299438476562,30.816299438476562,31.25969696044922,30.816299438476562,30.816299438476562,30.816299438476562,30.816299438476562,30.816299438476562,30.816299438476562,30.372894287109375,30.816299438476562,30.816299438476562,30.816299438476562,30.816299438476562,31.703094482421875],\"z\":[29.486099243164062,29.486099243164062,29.486099243164062,29.92949676513672,29.92949676513672,29.92949676513672,29.92949676513672,30.372901916503906,30.372901916503906,30.816299438476562,30.816299438476562,31.25969696044922,31.25969696044922,31.703102111816406,31.703102111816406,32.14649963378906,32.14649963378906,32.58989715576172,33.033302307128906,33.033302307128906,33.033302307128906,33.47669982910156,33.47669982910156,33.92009735107422,34.363502502441406,34.80690002441406,34.80690002441406,35.25029754638672,35.25029754638672,35.693695068359375,36.13710021972656,36.13710021972656,36.58049774169922,37.023895263671875,37.023895263671875,37.023895263671875,37.46730041503906,37.46730041503906,37.46730041503906,37.46730041503906,37.91069793701172,37.91069793701172,38.354095458984375,38.354095458984375,38.79750061035156,38.79750061035156,39.24089813232422,39.24089813232422,39.24089813232422,39.24089813232422,39.684295654296875,39.684295654296875,39.684295654296875,39.684295654296875,40.12770080566406,40.57109832763672,40.57109832763672,41.014495849609375,41.45790100097656,41.90129852294922,42.344696044921875,42.78810119628906,43.23149871826172,43.23149871826172,43.674896240234375,44.11830139160156,44.11830139160156,44.11830139160156,44.56169891357422,44.56169891357422,45.005096435546875,45.005096435546875,45.44850158691406,45.44850158691406,45.89189910888672,45.89189910888672,45.89189910888672,46.335296630859375,46.77870178222656,36.58049774169922],\"type\":\"scatter3d\"},{\"hovertemplate\":\"x: %{x}\\u003cbr\\u003ey: %{y}\\u003cbr\\u003ez: %{z}\\u003cbr\\u003e%{text}\",\"marker\":{\"color\":\"black\",\"size\":7,\"symbol\":\"circle\"},\"mode\":\"markers\",\"name\":\"Reco particle start point\",\"text\":[\"Particle 0 start point\",\"Particle 1 start point\"],\"x\":[25.052101135253906,25.052101135253906],\"y\":[33.033294677734375,32.58989715576172],\"z\":[31.25969696044922,29.486099243164062],\"type\":\"scatter3d\"},{\"hovertemplate\":\"x: %{x}\\u003cbr\\u003ey: %{y}\\u003cbr\\u003ez: %{z}\\u003cbr\\u003e%{text}\",\"marker\":{\"color\":\"black\",\"size\":7,\"symbol\":\"circle-open\"},\"mode\":\"markers\",\"name\":\"Reco particle end point\",\"text\":[\"Particle 0 end point\",\"Particle 1 end point\"],\"x\":[23.27849578857422,20.174697875976562],\"y\":[39.24089813232422,30.816299438476562],\"z\":[64.51469421386719,46.77870178222656],\"type\":\"scatter3d\"},{\"hovertemplate\":\"x: %{x}\\u003cbr\\u003ey: %{y}\\u003cbr\\u003ez: %{z}\\u003cbr\\u003e%{text}\",\"marker\":{\"color\":\"green\",\"size\":10,\"symbol\":\"diamond\"},\"mode\":\"markers\",\"name\":\"Reco interaction vertex\",\"text\":[\"Interaction 0 vertex\",\"Interaction 1 vertex\",\"Interaction 2 vertex\",\"Interaction 3 vertex\"],\"x\":[35.693695068359375,4.2122955322265625,-19.731300354003906,25.052101135253906],\"y\":[-61.85430145263672,-18.401103973388672,-53.42970275878906,32.81159591674805],\"z\":[-9.97650146484375,-53.42970275878906,50.325897216796875,30.37289810180664],\"type\":\"scatter3d\"},{\"hovertemplate\":\"x: %{x}\\u003cbr\\u003ey: %{y}\\u003cbr\\u003ez: %{z}\",\"legendgroup\":\"group_1737428290.1650963\",\"line\":{\"color\":\"rgba(0,0,0,0.150)\",\"width\":5},\"mode\":\"lines\",\"name\":\"Detector\",\"showlegend\":true,\"x\":[33.65875,33.65875,null,33.65875,33.65875,null,33.65875,63.931,null,33.65875,33.65875,null,33.65875,63.931,null,33.65875,33.65875,null,33.65875,63.931,null,33.65875,63.931,null,63.931,63.931,null,63.931,63.931,null,63.931,63.931,null,63.931,63.931,null],\"y\":[-62.076,-62.076,null,-62.076,62.076,null,-62.076,-62.076,null,-62.076,62.076,null,-62.076,-62.076,null,62.076,62.076,null,62.076,62.076,null,62.076,62.076,null,-62.076,-62.076,null,-62.076,62.076,null,-62.076,62.076,null,62.076,62.076,null],\"z\":[2.4619999999999997,64.538,null,2.4619999999999997,2.4619999999999997,null,2.4619999999999997,2.4619999999999997,null,64.538,64.538,null,64.538,64.538,null,2.4619999999999997,64.538,null,2.4619999999999997,2.4619999999999997,null,64.538,64.538,null,2.4619999999999997,64.538,null,2.4619999999999997,2.4619999999999997,null,64.538,64.538,null,2.4619999999999997,64.538,null],\"type\":\"scatter3d\"},{\"hovertemplate\":\"x: %{x}\\u003cbr\\u003ey: %{y}\\u003cbr\\u003ez: %{z}\",\"legendgroup\":\"group_1737428290.1650963\",\"line\":{\"color\":\"rgba(0,0,0,0.150)\",\"width\":5},\"mode\":\"lines\",\"name\":\"Detector\",\"showlegend\":false,\"x\":[3.068999999999999,3.068999999999999,null,3.068999999999999,3.068999999999999,null,3.068999999999999,33.34125,null,3.068999999999999,3.068999999999999,null,3.068999999999999,33.34125,null,3.068999999999999,3.068999999999999,null,3.068999999999999,33.34125,null,3.068999999999999,33.34125,null,33.34125,33.34125,null,33.34125,33.34125,null,33.34125,33.34125,null,33.34125,33.34125,null],\"y\":[-62.076,-62.076,null,-62.076,62.076,null,-62.076,-62.076,null,-62.076,62.076,null,-62.076,-62.076,null,62.076,62.076,null,62.076,62.076,null,62.076,62.076,null,-62.076,-62.076,null,-62.076,62.076,null,-62.076,62.076,null,62.076,62.076,null],\"z\":[2.4619999999999997,64.538,null,2.4619999999999997,2.4619999999999997,null,2.4619999999999997,2.4619999999999997,null,64.538,64.538,null,64.538,64.538,null,2.4619999999999997,64.538,null,2.4619999999999997,2.4619999999999997,null,64.538,64.538,null,2.4619999999999997,64.538,null,2.4619999999999997,2.4619999999999997,null,64.538,64.538,null,2.4619999999999997,64.538,null],\"type\":\"scatter3d\"},{\"hovertemplate\":\"x: %{x}\\u003cbr\\u003ey: %{y}\\u003cbr\\u003ez: %{z}\",\"legendgroup\":\"group_1737428290.1650963\",\"line\":{\"color\":\"rgba(0,0,0,0.150)\",\"width\":5},\"mode\":\"lines\",\"name\":\"Detector\",\"showlegend\":false,\"x\":[33.65875,33.65875,null,33.65875,33.65875,null,33.65875,63.931,null,33.65875,33.65875,null,33.65875,63.931,null,33.65875,33.65875,null,33.65875,63.931,null,33.65875,63.931,null,63.931,63.931,null,63.931,63.931,null,63.931,63.931,null,63.931,63.931,null],\"y\":[-62.076,-62.076,null,-62.076,62.076,null,-62.076,-62.076,null,-62.076,62.076,null,-62.076,-62.076,null,62.076,62.076,null,62.076,62.076,null,62.076,62.076,null,-62.076,-62.076,null,-62.076,62.076,null,-62.076,62.076,null,62.076,62.076,null],\"z\":[-64.538,-2.4620000000000033,null,-64.538,-64.538,null,-64.538,-64.538,null,-2.4620000000000033,-2.4620000000000033,null,-2.4620000000000033,-2.4620000000000033,null,-64.538,-2.4620000000000033,null,-64.538,-64.538,null,-2.4620000000000033,-2.4620000000000033,null,-64.538,-2.4620000000000033,null,-64.538,-64.538,null,-2.4620000000000033,-2.4620000000000033,null,-64.538,-2.4620000000000033,null],\"type\":\"scatter3d\"},{\"hovertemplate\":\"x: %{x}\\u003cbr\\u003ey: %{y}\\u003cbr\\u003ez: %{z}\",\"legendgroup\":\"group_1737428290.1650963\",\"line\":{\"color\":\"rgba(0,0,0,0.150)\",\"width\":5},\"mode\":\"lines\",\"name\":\"Detector\",\"showlegend\":false,\"x\":[3.068999999999999,3.068999999999999,null,3.068999999999999,3.068999999999999,null,3.068999999999999,33.34125,null,3.068999999999999,3.068999999999999,null,3.068999999999999,33.34125,null,3.068999999999999,3.068999999999999,null,3.068999999999999,33.34125,null,3.068999999999999,33.34125,null,33.34125,33.34125,null,33.34125,33.34125,null,33.34125,33.34125,null,33.34125,33.34125,null],\"y\":[-62.076,-62.076,null,-62.076,62.076,null,-62.076,-62.076,null,-62.076,62.076,null,-62.076,-62.076,null,62.076,62.076,null,62.076,62.076,null,62.076,62.076,null,-62.076,-62.076,null,-62.076,62.076,null,-62.076,62.076,null,62.076,62.076,null],\"z\":[-64.538,-2.4620000000000033,null,-64.538,-64.538,null,-64.538,-64.538,null,-2.4620000000000033,-2.4620000000000033,null,-2.4620000000000033,-2.4620000000000033,null,-64.538,-2.4620000000000033,null,-64.538,-64.538,null,-2.4620000000000033,-2.4620000000000033,null,-64.538,-2.4620000000000033,null,-64.538,-64.538,null,-2.4620000000000033,-2.4620000000000033,null,-64.538,-2.4620000000000033,null],\"type\":\"scatter3d\"},{\"hovertemplate\":\"x: %{x}\\u003cbr\\u003ey: %{y}\\u003cbr\\u003ez: %{z}\",\"legendgroup\":\"group_1737428290.1650963\",\"line\":{\"color\":\"rgba(0,0,0,0.150)\",\"width\":5},\"mode\":\"lines\",\"name\":\"Detector\",\"showlegend\":false,\"x\":[-33.34125,-33.34125,null,-33.34125,-33.34125,null,-33.34125,-3.068999999999999,null,-33.34125,-33.34125,null,-33.34125,-3.068999999999999,null,-33.34125,-33.34125,null,-33.34125,-3.068999999999999,null,-33.34125,-3.068999999999999,null,-3.068999999999999,-3.068999999999999,null,-3.068999999999999,-3.068999999999999,null,-3.068999999999999,-3.068999999999999,null,-3.068999999999999,-3.068999999999999,null],\"y\":[-62.076,-62.076,null,-62.076,62.076,null,-62.076,-62.076,null,-62.076,62.076,null,-62.076,-62.076,null,62.076,62.076,null,62.076,62.076,null,62.076,62.076,null,-62.076,-62.076,null,-62.076,62.076,null,-62.076,62.076,null,62.076,62.076,null],\"z\":[2.4619999999999997,64.538,null,2.4619999999999997,2.4619999999999997,null,2.4619999999999997,2.4619999999999997,null,64.538,64.538,null,64.538,64.538,null,2.4619999999999997,64.538,null,2.4619999999999997,2.4619999999999997,null,64.538,64.538,null,2.4619999999999997,64.538,null,2.4619999999999997,2.4619999999999997,null,64.538,64.538,null,2.4619999999999997,64.538,null],\"type\":\"scatter3d\"},{\"hovertemplate\":\"x: %{x}\\u003cbr\\u003ey: %{y}\\u003cbr\\u003ez: %{z}\",\"legendgroup\":\"group_1737428290.1650963\",\"line\":{\"color\":\"rgba(0,0,0,0.150)\",\"width\":5},\"mode\":\"lines\",\"name\":\"Detector\",\"showlegend\":false,\"x\":[-63.931,-63.931,null,-63.931,-63.931,null,-63.931,-33.65875,null,-63.931,-63.931,null,-63.931,-33.65875,null,-63.931,-63.931,null,-63.931,-33.65875,null,-63.931,-33.65875,null,-33.65875,-33.65875,null,-33.65875,-33.65875,null,-33.65875,-33.65875,null,-33.65875,-33.65875,null],\"y\":[-62.076,-62.076,null,-62.076,62.076,null,-62.076,-62.076,null,-62.076,62.076,null,-62.076,-62.076,null,62.076,62.076,null,62.076,62.076,null,62.076,62.076,null,-62.076,-62.076,null,-62.076,62.076,null,-62.076,62.076,null,62.076,62.076,null],\"z\":[2.4619999999999997,64.538,null,2.4619999999999997,2.4619999999999997,null,2.4619999999999997,2.4619999999999997,null,64.538,64.538,null,64.538,64.538,null,2.4619999999999997,64.538,null,2.4619999999999997,2.4619999999999997,null,64.538,64.538,null,2.4619999999999997,64.538,null,2.4619999999999997,2.4619999999999997,null,64.538,64.538,null,2.4619999999999997,64.538,null],\"type\":\"scatter3d\"},{\"hovertemplate\":\"x: %{x}\\u003cbr\\u003ey: %{y}\\u003cbr\\u003ez: %{z}\",\"legendgroup\":\"group_1737428290.1650963\",\"line\":{\"color\":\"rgba(0,0,0,0.150)\",\"width\":5},\"mode\":\"lines\",\"name\":\"Detector\",\"showlegend\":false,\"x\":[-33.34125,-33.34125,null,-33.34125,-33.34125,null,-33.34125,-3.068999999999999,null,-33.34125,-33.34125,null,-33.34125,-3.068999999999999,null,-33.34125,-33.34125,null,-33.34125,-3.068999999999999,null,-33.34125,-3.068999999999999,null,-3.068999999999999,-3.068999999999999,null,-3.068999999999999,-3.068999999999999,null,-3.068999999999999,-3.068999999999999,null,-3.068999999999999,-3.068999999999999,null],\"y\":[-62.076,-62.076,null,-62.076,62.076,null,-62.076,-62.076,null,-62.076,62.076,null,-62.076,-62.076,null,62.076,62.076,null,62.076,62.076,null,62.076,62.076,null,-62.076,-62.076,null,-62.076,62.076,null,-62.076,62.076,null,62.076,62.076,null],\"z\":[-64.538,-2.4620000000000033,null,-64.538,-64.538,null,-64.538,-64.538,null,-2.4620000000000033,-2.4620000000000033,null,-2.4620000000000033,-2.4620000000000033,null,-64.538,-2.4620000000000033,null,-64.538,-64.538,null,-2.4620000000000033,-2.4620000000000033,null,-64.538,-2.4620000000000033,null,-64.538,-64.538,null,-2.4620000000000033,-2.4620000000000033,null,-64.538,-2.4620000000000033,null],\"type\":\"scatter3d\"},{\"hovertemplate\":\"x: %{x}\\u003cbr\\u003ey: %{y}\\u003cbr\\u003ez: %{z}\",\"legendgroup\":\"group_1737428290.1650963\",\"line\":{\"color\":\"rgba(0,0,0,0.150)\",\"width\":5},\"mode\":\"lines\",\"name\":\"Detector\",\"showlegend\":false,\"x\":[-63.931,-63.931,null,-63.931,-63.931,null,-63.931,-33.65875,null,-63.931,-63.931,null,-63.931,-33.65875,null,-63.931,-63.931,null,-63.931,-33.65875,null,-63.931,-33.65875,null,-33.65875,-33.65875,null,-33.65875,-33.65875,null,-33.65875,-33.65875,null,-33.65875,-33.65875,null],\"y\":[-62.076,-62.076,null,-62.076,62.076,null,-62.076,-62.076,null,-62.076,62.076,null,-62.076,-62.076,null,62.076,62.076,null,62.076,62.076,null,62.076,62.076,null,-62.076,-62.076,null,-62.076,62.076,null,-62.076,62.076,null,62.076,62.076,null],\"z\":[-64.538,-2.4620000000000033,null,-64.538,-64.538,null,-64.538,-64.538,null,-2.4620000000000033,-2.4620000000000033,null,-2.4620000000000033,-2.4620000000000033,null,-64.538,-2.4620000000000033,null,-64.538,-64.538,null,-2.4620000000000033,-2.4620000000000033,null,-64.538,-2.4620000000000033,null,-64.538,-64.538,null,-2.4620000000000033,-2.4620000000000033,null,-64.538,-2.4620000000000033,null],\"type\":\"scatter3d\"}],                        {\"height\":800,\"hoverlabel\":{\"font\":{\"family\":\"Droid sans, monospace\"}},\"legend\":{\"itemsizing\":\"constant\",\"title\":{\"text\":\"Legend\"},\"tracegroupgap\":1},\"margin\":{\"b\":0,\"l\":0,\"r\":0,\"t\":0},\"scene\":{\"aspectmode\":\"manual\",\"aspectratio\":{\"x\":0.9905946884006321,\"y\":0.961851932194986,\"z\":1.0},\"camera\":{\"center\":{\"x\":0.0,\"y\":-0.1,\"z\":-0.01},\"eye\":{\"x\":-2.0,\"y\":1.0,\"z\":-0.01},\"up\":{\"x\":0.0,\"y\":1.0,\"z\":0.0}},\"xaxis\":{\"backgroundcolor\":\"white\",\"gridcolor\":\"lightgray\",\"nticks\":10,\"range\":[-76.71719999999999,76.71719999999999],\"showbackground\":true,\"showticklabels\":true,\"tickfont\":{\"size\":14},\"title\":{\"font\":{\"size\":20},\"text\":\"x [cm]\"}},\"yaxis\":{\"backgroundcolor\":\"white\",\"gridcolor\":\"lightgray\",\"nticks\":10,\"range\":[-74.4912,74.4912],\"showbackground\":true,\"showticklabels\":true,\"tickfont\":{\"size\":14},\"title\":{\"font\":{\"size\":20},\"text\":\"y [cm]\"}},\"zaxis\":{\"backgroundcolor\":\"white\",\"gridcolor\":\"lightgray\",\"nticks\":10,\"range\":[-77.4456,77.4456],\"showbackground\":true,\"showticklabels\":true,\"tickfont\":{\"size\":14},\"title\":{\"font\":{\"size\":20},\"text\":\"z [cm]\"}}},\"showlegend\":true,\"width\":800,\"scene2\":{\"aspectmode\":\"manual\",\"aspectratio\":{\"x\":0.9905946884006321,\"y\":0.961851932194986,\"z\":1.0},\"camera\":{\"center\":{\"x\":0.0,\"y\":-0.1,\"z\":-0.01},\"eye\":{\"x\":-2.0,\"y\":1.0,\"z\":-0.01},\"up\":{\"x\":0.0,\"y\":1.0,\"z\":0.0}},\"xaxis\":{\"backgroundcolor\":\"white\",\"gridcolor\":\"lightgray\",\"nticks\":10,\"range\":[-76.71719999999999,76.71719999999999],\"showbackground\":true,\"showticklabels\":true,\"tickfont\":{\"size\":14},\"title\":{\"font\":{\"size\":20},\"text\":\"x [cm]\"}},\"yaxis\":{\"backgroundcolor\":\"white\",\"gridcolor\":\"lightgray\",\"nticks\":10,\"range\":[-74.4912,74.4912],\"showbackground\":true,\"showticklabels\":true,\"tickfont\":{\"size\":14},\"title\":{\"font\":{\"size\":20},\"text\":\"y [cm]\"}},\"zaxis\":{\"backgroundcolor\":\"white\",\"gridcolor\":\"lightgray\",\"nticks\":10,\"range\":[-77.4456,77.4456],\"showbackground\":true,\"showticklabels\":true,\"tickfont\":{\"size\":14},\"title\":{\"font\":{\"size\":20},\"text\":\"z [cm]\"}}},\"scene3\":{\"aspectmode\":\"manual\",\"aspectratio\":{\"x\":0.9905946884006321,\"y\":0.961851932194986,\"z\":1.0},\"camera\":{\"center\":{\"x\":0.0,\"y\":-0.1,\"z\":-0.01},\"eye\":{\"x\":-2.0,\"y\":1.0,\"z\":-0.01},\"up\":{\"x\":0.0,\"y\":1.0,\"z\":0.0}},\"xaxis\":{\"backgroundcolor\":\"white\",\"gridcolor\":\"lightgray\",\"nticks\":10,\"range\":[-76.71719999999999,76.71719999999999],\"showbackground\":true,\"showticklabels\":true,\"tickfont\":{\"size\":14},\"title\":{\"font\":{\"size\":20},\"text\":\"x [cm]\"}},\"yaxis\":{\"backgroundcolor\":\"white\",\"gridcolor\":\"lightgray\",\"nticks\":10,\"range\":[-74.4912,74.4912],\"showbackground\":true,\"showticklabels\":true,\"tickfont\":{\"size\":14},\"title\":{\"font\":{\"size\":20},\"text\":\"y [cm]\"}},\"zaxis\":{\"backgroundcolor\":\"white\",\"gridcolor\":\"lightgray\",\"nticks\":10,\"range\":[-77.4456,77.4456],\"showbackground\":true,\"showticklabels\":true,\"tickfont\":{\"size\":14},\"title\":{\"font\":{\"size\":20},\"text\":\"z [cm]\"}}},\"template\":{\"data\":{\"histogram2dcontour\":[{\"type\":\"histogram2dcontour\",\"colorbar\":{\"outlinewidth\":0,\"ticks\":\"\"},\"colorscale\":[[0.0,\"#0d0887\"],[0.1111111111111111,\"#46039f\"],[0.2222222222222222,\"#7201a8\"],[0.3333333333333333,\"#9c179e\"],[0.4444444444444444,\"#bd3786\"],[0.5555555555555556,\"#d8576b\"],[0.6666666666666666,\"#ed7953\"],[0.7777777777777778,\"#fb9f3a\"],[0.8888888888888888,\"#fdca26\"],[1.0,\"#f0f921\"]]}],\"choropleth\":[{\"type\":\"choropleth\",\"colorbar\":{\"outlinewidth\":0,\"ticks\":\"\"}}],\"histogram2d\":[{\"type\":\"histogram2d\",\"colorbar\":{\"outlinewidth\":0,\"ticks\":\"\"},\"colorscale\":[[0.0,\"#0d0887\"],[0.1111111111111111,\"#46039f\"],[0.2222222222222222,\"#7201a8\"],[0.3333333333333333,\"#9c179e\"],[0.4444444444444444,\"#bd3786\"],[0.5555555555555556,\"#d8576b\"],[0.6666666666666666,\"#ed7953\"],[0.7777777777777778,\"#fb9f3a\"],[0.8888888888888888,\"#fdca26\"],[1.0,\"#f0f921\"]]}],\"heatmap\":[{\"type\":\"heatmap\",\"colorbar\":{\"outlinewidth\":0,\"ticks\":\"\"},\"colorscale\":[[0.0,\"#0d0887\"],[0.1111111111111111,\"#46039f\"],[0.2222222222222222,\"#7201a8\"],[0.3333333333333333,\"#9c179e\"],[0.4444444444444444,\"#bd3786\"],[0.5555555555555556,\"#d8576b\"],[0.6666666666666666,\"#ed7953\"],[0.7777777777777778,\"#fb9f3a\"],[0.8888888888888888,\"#fdca26\"],[1.0,\"#f0f921\"]]}],\"heatmapgl\":[{\"type\":\"heatmapgl\",\"colorbar\":{\"outlinewidth\":0,\"ticks\":\"\"},\"colorscale\":[[0.0,\"#0d0887\"],[0.1111111111111111,\"#46039f\"],[0.2222222222222222,\"#7201a8\"],[0.3333333333333333,\"#9c179e\"],[0.4444444444444444,\"#bd3786\"],[0.5555555555555556,\"#d8576b\"],[0.6666666666666666,\"#ed7953\"],[0.7777777777777778,\"#fb9f3a\"],[0.8888888888888888,\"#fdca26\"],[1.0,\"#f0f921\"]]}],\"contourcarpet\":[{\"type\":\"contourcarpet\",\"colorbar\":{\"outlinewidth\":0,\"ticks\":\"\"}}],\"contour\":[{\"type\":\"contour\",\"colorbar\":{\"outlinewidth\":0,\"ticks\":\"\"},\"colorscale\":[[0.0,\"#0d0887\"],[0.1111111111111111,\"#46039f\"],[0.2222222222222222,\"#7201a8\"],[0.3333333333333333,\"#9c179e\"],[0.4444444444444444,\"#bd3786\"],[0.5555555555555556,\"#d8576b\"],[0.6666666666666666,\"#ed7953\"],[0.7777777777777778,\"#fb9f3a\"],[0.8888888888888888,\"#fdca26\"],[1.0,\"#f0f921\"]]}],\"surface\":[{\"type\":\"surface\",\"colorbar\":{\"outlinewidth\":0,\"ticks\":\"\"},\"colorscale\":[[0.0,\"#0d0887\"],[0.1111111111111111,\"#46039f\"],[0.2222222222222222,\"#7201a8\"],[0.3333333333333333,\"#9c179e\"],[0.4444444444444444,\"#bd3786\"],[0.5555555555555556,\"#d8576b\"],[0.6666666666666666,\"#ed7953\"],[0.7777777777777778,\"#fb9f3a\"],[0.8888888888888888,\"#fdca26\"],[1.0,\"#f0f921\"]]}],\"mesh3d\":[{\"type\":\"mesh3d\",\"colorbar\":{\"outlinewidth\":0,\"ticks\":\"\"}}],\"scatter\":[{\"fillpattern\":{\"fillmode\":\"overlay\",\"size\":10,\"solidity\":0.2},\"type\":\"scatter\"}],\"parcoords\":[{\"type\":\"parcoords\",\"line\":{\"colorbar\":{\"outlinewidth\":0,\"ticks\":\"\"}}}],\"scatterpolargl\":[{\"type\":\"scatterpolargl\",\"marker\":{\"colorbar\":{\"outlinewidth\":0,\"ticks\":\"\"}}}],\"bar\":[{\"error_x\":{\"color\":\"#2a3f5f\"},\"error_y\":{\"color\":\"#2a3f5f\"},\"marker\":{\"line\":{\"color\":\"#E5ECF6\",\"width\":0.5},\"pattern\":{\"fillmode\":\"overlay\",\"size\":10,\"solidity\":0.2}},\"type\":\"bar\"}],\"scattergeo\":[{\"type\":\"scattergeo\",\"marker\":{\"colorbar\":{\"outlinewidth\":0,\"ticks\":\"\"}}}],\"scatterpolar\":[{\"type\":\"scatterpolar\",\"marker\":{\"colorbar\":{\"outlinewidth\":0,\"ticks\":\"\"}}}],\"histogram\":[{\"marker\":{\"pattern\":{\"fillmode\":\"overlay\",\"size\":10,\"solidity\":0.2}},\"type\":\"histogram\"}],\"scattergl\":[{\"type\":\"scattergl\",\"marker\":{\"colorbar\":{\"outlinewidth\":0,\"ticks\":\"\"}}}],\"scatter3d\":[{\"type\":\"scatter3d\",\"line\":{\"colorbar\":{\"outlinewidth\":0,\"ticks\":\"\"}},\"marker\":{\"colorbar\":{\"outlinewidth\":0,\"ticks\":\"\"}}}],\"scattermapbox\":[{\"type\":\"scattermapbox\",\"marker\":{\"colorbar\":{\"outlinewidth\":0,\"ticks\":\"\"}}}],\"scatterternary\":[{\"type\":\"scatterternary\",\"marker\":{\"colorbar\":{\"outlinewidth\":0,\"ticks\":\"\"}}}],\"scattercarpet\":[{\"type\":\"scattercarpet\",\"marker\":{\"colorbar\":{\"outlinewidth\":0,\"ticks\":\"\"}}}],\"carpet\":[{\"aaxis\":{\"endlinecolor\":\"#2a3f5f\",\"gridcolor\":\"white\",\"linecolor\":\"white\",\"minorgridcolor\":\"white\",\"startlinecolor\":\"#2a3f5f\"},\"baxis\":{\"endlinecolor\":\"#2a3f5f\",\"gridcolor\":\"white\",\"linecolor\":\"white\",\"minorgridcolor\":\"white\",\"startlinecolor\":\"#2a3f5f\"},\"type\":\"carpet\"}],\"table\":[{\"cells\":{\"fill\":{\"color\":\"#EBF0F8\"},\"line\":{\"color\":\"white\"}},\"header\":{\"fill\":{\"color\":\"#C8D4E3\"},\"line\":{\"color\":\"white\"}},\"type\":\"table\"}],\"barpolar\":[{\"marker\":{\"line\":{\"color\":\"#E5ECF6\",\"width\":0.5},\"pattern\":{\"fillmode\":\"overlay\",\"size\":10,\"solidity\":0.2}},\"type\":\"barpolar\"}],\"pie\":[{\"automargin\":true,\"type\":\"pie\"}]},\"layout\":{\"autotypenumbers\":\"strict\",\"colorway\":[\"#636efa\",\"#EF553B\",\"#00cc96\",\"#ab63fa\",\"#FFA15A\",\"#19d3f3\",\"#FF6692\",\"#B6E880\",\"#FF97FF\",\"#FECB52\"],\"font\":{\"color\":\"#2a3f5f\"},\"hovermode\":\"closest\",\"hoverlabel\":{\"align\":\"left\"},\"paper_bgcolor\":\"white\",\"plot_bgcolor\":\"#E5ECF6\",\"polar\":{\"bgcolor\":\"#E5ECF6\",\"angularaxis\":{\"gridcolor\":\"white\",\"linecolor\":\"white\",\"ticks\":\"\"},\"radialaxis\":{\"gridcolor\":\"white\",\"linecolor\":\"white\",\"ticks\":\"\"}},\"ternary\":{\"bgcolor\":\"#E5ECF6\",\"aaxis\":{\"gridcolor\":\"white\",\"linecolor\":\"white\",\"ticks\":\"\"},\"baxis\":{\"gridcolor\":\"white\",\"linecolor\":\"white\",\"ticks\":\"\"},\"caxis\":{\"gridcolor\":\"white\",\"linecolor\":\"white\",\"ticks\":\"\"}},\"coloraxis\":{\"colorbar\":{\"outlinewidth\":0,\"ticks\":\"\"}},\"colorscale\":{\"sequential\":[[0.0,\"#0d0887\"],[0.1111111111111111,\"#46039f\"],[0.2222222222222222,\"#7201a8\"],[0.3333333333333333,\"#9c179e\"],[0.4444444444444444,\"#bd3786\"],[0.5555555555555556,\"#d8576b\"],[0.6666666666666666,\"#ed7953\"],[0.7777777777777778,\"#fb9f3a\"],[0.8888888888888888,\"#fdca26\"],[1.0,\"#f0f921\"]],\"sequentialminus\":[[0.0,\"#0d0887\"],[0.1111111111111111,\"#46039f\"],[0.2222222222222222,\"#7201a8\"],[0.3333333333333333,\"#9c179e\"],[0.4444444444444444,\"#bd3786\"],[0.5555555555555556,\"#d8576b\"],[0.6666666666666666,\"#ed7953\"],[0.7777777777777778,\"#fb9f3a\"],[0.8888888888888888,\"#fdca26\"],[1.0,\"#f0f921\"]],\"diverging\":[[0,\"#8e0152\"],[0.1,\"#c51b7d\"],[0.2,\"#de77ae\"],[0.3,\"#f1b6da\"],[0.4,\"#fde0ef\"],[0.5,\"#f7f7f7\"],[0.6,\"#e6f5d0\"],[0.7,\"#b8e186\"],[0.8,\"#7fbc41\"],[0.9,\"#4d9221\"],[1,\"#276419\"]]},\"xaxis\":{\"gridcolor\":\"white\",\"linecolor\":\"white\",\"ticks\":\"\",\"title\":{\"standoff\":15},\"zerolinecolor\":\"white\",\"automargin\":true,\"zerolinewidth\":2},\"yaxis\":{\"gridcolor\":\"white\",\"linecolor\":\"white\",\"ticks\":\"\",\"title\":{\"standoff\":15},\"zerolinecolor\":\"white\",\"automargin\":true,\"zerolinewidth\":2},\"scene\":{\"xaxis\":{\"backgroundcolor\":\"#E5ECF6\",\"gridcolor\":\"white\",\"linecolor\":\"white\",\"showbackground\":true,\"ticks\":\"\",\"zerolinecolor\":\"white\",\"gridwidth\":2},\"yaxis\":{\"backgroundcolor\":\"#E5ECF6\",\"gridcolor\":\"white\",\"linecolor\":\"white\",\"showbackground\":true,\"ticks\":\"\",\"zerolinecolor\":\"white\",\"gridwidth\":2},\"zaxis\":{\"backgroundcolor\":\"#E5ECF6\",\"gridcolor\":\"white\",\"linecolor\":\"white\",\"showbackground\":true,\"ticks\":\"\",\"zerolinecolor\":\"white\",\"gridwidth\":2}},\"shapedefaults\":{\"line\":{\"color\":\"#2a3f5f\"}},\"annotationdefaults\":{\"arrowcolor\":\"#2a3f5f\",\"arrowhead\":0,\"arrowwidth\":1},\"geo\":{\"bgcolor\":\"white\",\"landcolor\":\"#E5ECF6\",\"subunitcolor\":\"white\",\"showland\":true,\"showlakes\":true,\"lakecolor\":\"white\"},\"title\":{\"x\":0.05},\"mapbox\":{\"style\":\"light\"}}}},                        {\"responsive\": true}                    ).then(function(){\n",
       "                            \n",
       "var gd = document.getElementById('a7fcdac2-ba07-47b4-b1b8-39f49552383a');\n",
       "var x = new MutationObserver(function (mutations, observer) {{\n",
       "        var display = window.getComputedStyle(gd).display;\n",
       "        if (!display || display === 'none') {{\n",
       "            console.log([gd, 'removed!']);\n",
       "            Plotly.purge(gd);\n",
       "            observer.disconnect();\n",
       "        }}\n",
       "}});\n",
       "\n",
       "// Listen for the removal of the full notebook cells\n",
       "var notebookContainer = gd.closest('#notebook-container');\n",
       "if (notebookContainer) {{\n",
       "    x.observe(notebookContainer, {childList: true});\n",
       "}}\n",
       "\n",
       "// Listen for the clearing of the current output cell\n",
       "var outputEl = gd.closest('.output');\n",
       "if (outputEl) {{\n",
       "    x.observe(outputEl, {childList: true});\n",
       "}}\n",
       "\n",
       "                        })                };                });            </script>        </div>"
      ]
     },
     "metadata": {},
     "output_type": "display_data"
    }
   ],
   "source": [
    "from spine.vis import Drawer\n",
    "from spine.vis import GeoDrawer, scatter_points, layout3d\n",
    "from plotly import graph_objs as go\n",
    "import plotly.io as pio\n",
    "import os\n",
    "\n",
    "# Extract IDs of the filtered particles\n",
    "filtered_particle_ids = [particle.id for particle in filtered_primary_particles]\n",
    "\n",
    "# Pre-filter the data to include only relevant reconstructed particles\n",
    "data['reco_particles'] = [p for p in data['reco_particles'] if p.id in filtered_particle_ids]\n",
    "\n",
    "# Extract the specific part (\"00_04_33\") from the filename\n",
    "file_segment = '_'.join(os.path.basename(DATA_PATH).split('_')[3:6])\n",
    "\n",
    "# Create the images directory if it doesn't exist\n",
    "output_dir = \"images\"\n",
    "os.makedirs(output_dir, exist_ok=True)\n",
    "\n",
    "# Initialize the drawer with filtered data\n",
    "drawer = Drawer(data, draw_mode='reco', detector='2x2')\n",
    "\n",
    "# Draw a plot of the raw image (from flow)\n",
    "geo_drawer = GeoDrawer('2x2')\n",
    "graph = scatter_points(data['points'], color=data['depositions'], colorscale='Inferno', name='Depositions')\n",
    "graph += geo_drawer.tpc_traces()\n",
    "\n",
    "# Draw a plot of the particle instances based on the filtered particles\n",
    "print('\\n>>> Selected Particles <<<')\n",
    "# fig_particles = drawer.get('particles', 'pid', draw_end_points=True, draw_vertices=True)\n",
    "fig_particles = drawer.get(\n",
    "    'particles',\n",
    "    attr='pid',\n",
    "    draw_end_points=True,\n",
    "    draw_vertices=True,\n",
    "    split_traces=True  # Ensure each particle gets a separate legend entry\n",
    ")\n",
    "\n",
    "# Save the filtered particle plot as HTML and PNG in the images folder\n",
    "html_filename = os.path.join(output_dir, f\"sandbox_{file_segment}_entry_{ENTRY}_event_{target_event}_int_{target_reco_interaction_id}_particles_selected.html\")\n",
    "png_filename = os.path.join(output_dir, f\"sandbox_{file_segment}_entry_{ENTRY}_event_{target_event}_int_{target_reco_interaction_id}_particles_selected.png\")\n",
    "\n",
    "# Save as HTML\n",
    "pio.write_html(fig_particles, file=html_filename)\n",
    "print(f\"Filtered Particle Plot saved as HTML: {html_filename}\")\n",
    "\n",
    "# Save as PNG\n",
    "pio.write_image(fig_particles, file=png_filename, format='png', width=1000, height=800)\n",
    "print(f\"Filtered Particle Plot saved as PNG: {png_filename}\")\n",
    "\n",
    "# Display the visualization\n",
    "fig_particles.show()\n",
    "\n",
    "# If interaction filtering is required, modify and draw interactions\n",
    "filtered_interactions = [\n",
    "    interaction for interaction in data['reco_interactions']\n",
    "    if any(particle.id in filtered_particle_ids for particle in interaction.particles)\n",
    "]\n",
    "data['reco_interactions'] = filtered_interactions\n"
   ]
  },
  {
   "cell_type": "code",
   "execution_count": null,
   "id": "ac6bde60",
   "metadata": {},
   "outputs": [],
   "source": []
  },
  {
   "cell_type": "code",
   "execution_count": null,
   "id": "2cdd5d9c",
   "metadata": {},
   "outputs": [],
   "source": []
  },
  {
   "cell_type": "code",
   "execution_count": null,
   "id": "4db7d202",
   "metadata": {},
   "outputs": [],
   "source": []
  },
  {
   "cell_type": "code",
   "execution_count": null,
   "id": "8652bde0",
   "metadata": {},
   "outputs": [],
   "source": []
  }
 ],
 "metadata": {
  "kernelspec": {
   "display_name": "Python 3 (ipykernel)",
   "language": "python",
   "name": "python3"
  },
  "language_info": {
   "codemirror_mode": {
    "name": "ipython",
    "version": 3
   },
   "file_extension": ".py",
   "mimetype": "text/x-python",
   "name": "python",
   "nbconvert_exporter": "python",
   "pygments_lexer": "ipython3",
   "version": "3.10.12"
  }
 },
 "nbformat": 4,
 "nbformat_minor": 5
}
