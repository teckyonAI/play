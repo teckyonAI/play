{
 "cells": [
  {
   "cell_type": "code",
   "execution_count": 1,
   "id": "41f91ea3",
   "metadata": {},
   "outputs": [],
   "source": [
    "# Basic boilerplate imports\n",
    "import numpy as np\n",
    "import pandas as pd\n",
    "import yaml, os, sys, re\n",
    "\n",
    "# Visualization Tools\n",
    "import plotly\n",
    "import plotly.graph_objs as go\n",
    "from plotly.subplots import make_subplots\n",
    "from plotly.offline import download_plotlyjs, init_notebook_mode, plot, iplot\n",
    "import matplotlib.pyplot as plt\n",
    "import seaborn\n",
    "\n",
    "from tqdm.notebook import tqdm"
   ]
  },
  {
   "cell_type": "code",
   "execution_count": 2,
   "id": "383a2f2f",
   "metadata": {},
   "outputs": [],
   "source": [
    "# Set paths\n",
    "SOFTWARE_PATH = \"/app/data/spine/\"\n",
    "sys.path.insert(0, SOFTWARE_PATH)"
   ]
  },
  {
   "cell_type": "code",
   "execution_count": 3,
   "id": "7123e416",
   "metadata": {},
   "outputs": [
    {
     "data": {
      "text/plain": [
       "'/app/data/spine_dummy'"
      ]
     },
     "execution_count": 3,
     "metadata": {},
     "output_type": "execute_result"
    }
   ],
   "source": [
    "pwd"
   ]
  },
  {
   "cell_type": "code",
   "execution_count": 4,
   "id": "a5d8eb14",
   "metadata": {},
   "outputs": [],
   "source": [
    "# Load anatools config file\n",
    "cfg = '/app/data/spine_dummy/anaconfig.cfg'\n",
    "cfg = yaml.safe_load(open(cfg, 'r'))"
   ]
  },
  {
   "cell_type": "code",
   "execution_count": 6,
   "id": "d074f246",
   "metadata": {},
   "outputs": [
    {
     "name": "stdout",
     "output_type": "stream",
     "text": [
      "\n",
      " ██████████   ██████████    ███   ███       ██   ███████████\n",
      "███        █  ██       ███   █    █████     ██   ██         \n",
      "  ████████    ██       ███  ███   ██  ████  ██   ██████████ \n",
      "█        ███  ██████████     █    ██     █████   ██         \n",
      " ██████████   ██            ███   ██       ███   ███████████\n",
      "\n",
      "Release version: 0.1.0\n",
      "\n",
      "$CUDA_VISIBLE_DEVICES=\n",
      "\n",
      "Configuration processed at: Linux 9e5b85d194ba 5.15.153.1-microsoft-standard-WSL2 #1 SMP Fri Mar 29 23:14:13 UTC 2024 x86_64 x86_64 x86_64 GNU/Linux\n",
      "\n",
      "base: {seed: 1728407401}\n",
      "io:\n",
      "  reader: {name: hdf5, file_keys: /app/data/spine_dummy/play.h5}\n",
      "build: {mode: both, units: cm, fragments: false, particles: true, interactions: true}\n",
      "\n",
      "Will load 1 file(s):\n",
      "  - /app/data/spine_dummy/play.h5\n",
      "\n",
      "Total number of entries in the file(s): 7680\n",
      "\n",
      "Total number of entries selected: 7680\n",
      "\n"
     ]
    },
    {
     "ename": "ValueError",
     "evalue": "too many values to unpack (expected 2)",
     "output_type": "error",
     "traceback": [
      "\u001b[0;31m---------------------------------------------------------------------------\u001b[0m",
      "\u001b[0;31mValueError\u001b[0m                                Traceback (most recent call last)",
      "Cell \u001b[0;32mIn[6], line 6\u001b[0m\n\u001b[1;32m      2\u001b[0m \u001b[38;5;28;01mfrom\u001b[39;00m \u001b[38;5;21;01mspine\u001b[39;00m\u001b[38;5;21;01m.\u001b[39;00m\u001b[38;5;21;01mdriver\u001b[39;00m \u001b[38;5;28;01mimport\u001b[39;00m Driver\n\u001b[1;32m      4\u001b[0m cfg[\u001b[38;5;124m'\u001b[39m\u001b[38;5;124mio\u001b[39m\u001b[38;5;124m'\u001b[39m][\u001b[38;5;124m'\u001b[39m\u001b[38;5;124mreader\u001b[39m\u001b[38;5;124m'\u001b[39m][\u001b[38;5;124m'\u001b[39m\u001b[38;5;124mfile_keys\u001b[39m\u001b[38;5;124m'\u001b[39m] \u001b[38;5;241m=\u001b[39m \u001b[38;5;124m'\u001b[39m\u001b[38;5;124m/app/data/spine_dummy/play.h5\u001b[39m\u001b[38;5;124m'\u001b[39m\n\u001b[0;32m----> 6\u001b[0m driver \u001b[38;5;241m=\u001b[39m \u001b[43mDriver\u001b[49m\u001b[43m(\u001b[49m\u001b[43mcfg\u001b[49m\u001b[43m)\u001b[49m\n",
      "File \u001b[0;32m/app/data/spine/spine/driver.py:94\u001b[0m, in \u001b[0;36mDriver.__init__\u001b[0;34m(self, cfg, rank)\u001b[0m\n\u001b[1;32m     91\u001b[0m train \u001b[38;5;241m=\u001b[39m \u001b[38;5;28mself\u001b[39m\u001b[38;5;241m.\u001b[39minitialize_base(\u001b[38;5;241m*\u001b[39m\u001b[38;5;241m*\u001b[39mbase, rank\u001b[38;5;241m=\u001b[39mrank)\n\u001b[1;32m     93\u001b[0m \u001b[38;5;66;03m# Initialize the input/output\u001b[39;00m\n\u001b[0;32m---> 94\u001b[0m \u001b[38;5;28;43mself\u001b[39;49m\u001b[38;5;241;43m.\u001b[39;49m\u001b[43minitialize_io\u001b[49m\u001b[43m(\u001b[49m\u001b[38;5;241;43m*\u001b[39;49m\u001b[38;5;241;43m*\u001b[39;49m\u001b[43mio\u001b[49m\u001b[43m)\u001b[49m\n\u001b[1;32m     96\u001b[0m \u001b[38;5;66;03m# Initialize the ML model\u001b[39;00m\n\u001b[1;32m     97\u001b[0m \u001b[38;5;28mself\u001b[39m\u001b[38;5;241m.\u001b[39mmodel \u001b[38;5;241m=\u001b[39m \u001b[38;5;28;01mNone\u001b[39;00m\n",
      "File \u001b[0;32m/app/data/spine/spine/driver.py:366\u001b[0m, in \u001b[0;36mDriver.initialize_io\u001b[0;34m(self, loader, reader, writer)\u001b[0m\n\u001b[1;32m    363\u001b[0m     \u001b[38;5;28mself\u001b[39m\u001b[38;5;241m.\u001b[39miter_per_epoch \u001b[38;5;241m=\u001b[39m \u001b[38;5;28mlen\u001b[39m(\u001b[38;5;28mself\u001b[39m\u001b[38;5;241m.\u001b[39mreader)\n\u001b[1;32m    365\u001b[0m \u001b[38;5;66;03m# Fetch an appropriate common prefix for all input files\u001b[39;00m\n\u001b[0;32m--> 366\u001b[0m \u001b[38;5;28mself\u001b[39m\u001b[38;5;241m.\u001b[39mlog_prefix, \u001b[38;5;28mself\u001b[39m\u001b[38;5;241m.\u001b[39moutput_prefix \u001b[38;5;241m=\u001b[39m \u001b[38;5;28mself\u001b[39m\u001b[38;5;241m.\u001b[39mget_prefixes(\n\u001b[1;32m    367\u001b[0m         \u001b[38;5;28mself\u001b[39m\u001b[38;5;241m.\u001b[39mreader\u001b[38;5;241m.\u001b[39mfile_paths, \u001b[38;5;28mself\u001b[39m\u001b[38;5;241m.\u001b[39msplit_output)\n\u001b[1;32m    369\u001b[0m \u001b[38;5;66;03m# Initialize the data writer, if provided\u001b[39;00m\n\u001b[1;32m    370\u001b[0m \u001b[38;5;28mself\u001b[39m\u001b[38;5;241m.\u001b[39mwriter \u001b[38;5;241m=\u001b[39m \u001b[38;5;28;01mNone\u001b[39;00m\n",
      "\u001b[0;31mValueError\u001b[0m: too many values to unpack (expected 2)"
     ]
    }
   ],
   "source": [
    "# Initialize Anatools manager\n",
    "from spine.driver import Driver\n",
    "\n",
    "cfg['io']['reader']['file_keys'] = '/app/data/spine_dummy/play.h5'\n",
    "\n",
    "driver = Driver(cfg)"
   ]
  },
  {
   "cell_type": "code",
   "execution_count": null,
   "id": "2d8bdd54",
   "metadata": {},
   "outputs": [],
   "source": []
  }
 ],
 "metadata": {
  "kernelspec": {
   "display_name": "Python 3 (ipykernel)",
   "language": "python",
   "name": "python3"
  },
  "language_info": {
   "codemirror_mode": {
    "name": "ipython",
    "version": 3
   },
   "file_extension": ".py",
   "mimetype": "text/x-python",
   "name": "python",
   "nbconvert_exporter": "python",
   "pygments_lexer": "ipython3",
   "version": "3.8.10"
  }
 },
 "nbformat": 4,
 "nbformat_minor": 5
}
